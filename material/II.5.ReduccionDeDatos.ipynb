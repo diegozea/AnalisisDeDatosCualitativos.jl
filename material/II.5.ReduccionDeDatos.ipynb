{
 "cells": [
  {
   "cell_type": "markdown",
   "metadata": {},
   "source": [
    "### Unidad II. Regresiones y reducción de dimensionalidad.\n",
    "\n",
    "## Reducción de datos. \n",
    "\n",
    "- Análisis de correspondencia.\n"
   ]
  },
  {
   "cell_type": "markdown",
   "metadata": {},
   "source": [
    "### [Análisis de componentes principales (PCA)](https://en.wikipedia.org/wiki/Principal_component_analysis)"
   ]
  },
  {
   "cell_type": "code",
   "execution_count": 1,
   "metadata": {
    "collapsed": false
   },
   "outputs": [
    {
     "data": {
      "text/html": [
       "<table class=\"data-frame\"><thead><tr><th></th><th>SepalLength</th><th>SepalWidth</th><th>PetalLength</th><th>PetalWidth</th><th>Species</th></tr></thead><tbody><tr><th>1</th><td>5.1</td><td>3.5</td><td>1.4</td><td>0.2</td><td>setosa</td></tr><tr><th>2</th><td>4.9</td><td>3.0</td><td>1.4</td><td>0.2</td><td>setosa</td></tr><tr><th>3</th><td>4.7</td><td>3.2</td><td>1.3</td><td>0.2</td><td>setosa</td></tr><tr><th>4</th><td>4.6</td><td>3.1</td><td>1.5</td><td>0.2</td><td>setosa</td></tr><tr><th>5</th><td>5.0</td><td>3.6</td><td>1.4</td><td>0.2</td><td>setosa</td></tr></tbody></table>"
      ],
      "text/plain": [
       "5×5 DataFrames.DataFrame\n",
       "│ Row │ SepalLength │ SepalWidth │ PetalLength │ PetalWidth │ Species  │\n",
       "├─────┼─────────────┼────────────┼─────────────┼────────────┼──────────┤\n",
       "│ 1   │ 5.1         │ 3.5        │ 1.4         │ 0.2        │ \"setosa\" │\n",
       "│ 2   │ 4.9         │ 3.0        │ 1.4         │ 0.2        │ \"setosa\" │\n",
       "│ 3   │ 4.7         │ 3.2        │ 1.3         │ 0.2        │ \"setosa\" │\n",
       "│ 4   │ 4.6         │ 3.1        │ 1.5         │ 0.2        │ \"setosa\" │\n",
       "│ 5   │ 5.0         │ 3.6        │ 1.4         │ 0.2        │ \"setosa\" │"
      ]
     },
     "execution_count": 1,
     "metadata": {},
     "output_type": "execute_result"
    }
   ],
   "source": [
    "using RDatasets\n",
    "iris = dataset(\"datasets\",\"iris\")\n",
    "head(iris, 5)"
   ]
  },
  {
   "cell_type": "code",
   "execution_count": 4,
   "metadata": {
    "collapsed": false
   },
   "outputs": [
    {
     "data": {
      "text/plain": [
       "Plots.PyPlotBackend()"
      ]
     },
     "execution_count": 4,
     "metadata": {},
     "output_type": "execute_result"
    }
   ],
   "source": [
    "using Plots, StatPlots\n",
    "pyplot(size=(300,300))"
   ]
  },
  {
   "cell_type": "code",
   "execution_count": 5,
   "metadata": {
    "collapsed": false
   },
   "outputs": [
    {
     "data": {
      "text/html": [
       "<img src=\"data:image/png;base64,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\" />"
      ]
     },
     "execution_count": 5,
     "metadata": {},
     "output_type": "execute_result"
    }
   ],
   "source": [
    "iris[:dummy] = 1\n",
    "cols = [:SepalLength, :SepalWidth, :PetalLength, :PetalWidth]\n",
    "boxplot(iris, :dummy, cols, \n",
    "    layout=grid(1,4), link=:y, xlab=\"\", linecolor=:black, size=(650,325), grid=false)"
   ]
  },
  {
   "cell_type": "markdown",
   "metadata": {},
   "source": [
    "> In general, the data table will be preprocessed\n",
    "before the analysis. **Almost always, the columns of X\n",
    "will be centered so that the mean of each column\n",
    "is equal to 0** (i.e., X'1 = 0, where 0 is a J by\n",
    "1 vector of zeros and 1 is an I by 1 vector of\n",
    "ones). If in addition, each element of X is divided\n",
    "by √I (or √I − 1), the analysis is referred to as\n",
    "a covariance PCA because, in this case, the matrix\n",
    "X'X is a covariance matrix. **In addition to centering,\n",
    "when the variables are measured with different units,\n",
    "it is customary to standardize each variable to unit\n",
    "norm.** This is obtained by dividing each variable by\n",
    "its norm (i.e., the square root of the sum of all the\n",
    "squared elements of this variable). In this case, the\n",
    "analysis is referred to as a correlation PCA because,\n",
    "then, the matrix X'X is a correlation matrix (most\n",
    "statistical packages use correlation preprocessing as a\n",
    "default).\n",
    ">> *Abdi, Hervé, and Lynne J. Williams. \"Principal component analysis.\" Wiley Interdisciplinary Reviews: Computational Statistics 2.4 (2010): 433-459.*"
   ]
  },
  {
   "cell_type": "code",
   "execution_count": 6,
   "metadata": {
    "collapsed": false
   },
   "outputs": [],
   "source": [
    "for i in 1:4\n",
    "    col = iris[:,i]\n",
    "    iris[:,i] = (col .- mean(col))./sqrt(sumabs2(col))\n",
    "end"
   ]
  },
  {
   "cell_type": "code",
   "execution_count": 7,
   "metadata": {
    "collapsed": false
   },
   "outputs": [
    {
     "data": {
      "text/html": [
       "<img src=\"data:image/png;base64,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\" />"
      ]
     },
     "execution_count": 7,
     "metadata": {},
     "output_type": "execute_result"
    }
   ],
   "source": [
    "boxplot(iris, :dummy, cols, \n",
    "layout=grid(1,4), link=:y, xlab=\"\", linecolor=:black, size=(650,325), grid=false)"
   ]
  },
  {
   "cell_type": "code",
   "execution_count": 8,
   "metadata": {
    "collapsed": true
   },
   "outputs": [],
   "source": [
    "using MultivariateStats"
   ]
  },
  {
   "cell_type": "markdown",
   "metadata": {},
   "source": [
    "> [**MultivariateStats.jl**](http://multivariatestatsjl.readthedocs.io/en/latest/) is a Julia package for multivariate statistical analysis.  \n",
    "All methods implemented in this package adopt the column-major convention of JuliaStats: **in a data matrix, each column corresponds to a sample/observation, while each row corresponds to a feature (variable or attribute).**"
   ]
  },
  {
   "cell_type": "code",
   "execution_count": 9,
   "metadata": {
    "collapsed": false
   },
   "outputs": [
    {
     "data": {
      "text/plain": [
       "4×150 Array{Float64,2}:\n",
       " -0.0102846  -0.0130518   -0.0158189   …  0.00493477   0.000784029\n",
       "  0.0117044  -0.00151593   0.00377219     0.00906031  -0.00151593 \n",
       " -0.0463987  -0.0463987   -0.0483664      0.0323099    0.0264067  \n",
       " -0.0574738  -0.0574738   -0.0574738      0.0633017    0.0345456  "
      ]
     },
     "execution_count": 9,
     "metadata": {},
     "output_type": "execute_result"
    }
   ],
   "source": [
    "data_matrix = convert(Matrix{Float64}, iris[:,1:4])' "
   ]
  },
  {
   "cell_type": "code",
   "execution_count": 10,
   "metadata": {
    "collapsed": false
   },
   "outputs": [
    {
     "data": {
      "text/plain": [
       "PCA(indim = 4, outdim = 4, principalratio = 1.00000)"
      ]
     },
     "execution_count": 10,
     "metadata": {},
     "output_type": "execute_result"
    }
   ],
   "source": [
    "pca = fit(PCA, data_matrix, pratio=1.0)"
   ]
  },
  {
   "cell_type": "code",
   "execution_count": 11,
   "metadata": {
    "collapsed": false
   },
   "outputs": [
    {
     "data": {
      "text/plain": [
       "4×4 Array{Float64,2}:\n",
       " -0.172924   -0.269406  -0.539083    0.779042\n",
       "  0.0816342  -0.940447  -0.0309746  -0.328536\n",
       " -0.607533    0.141995  -0.599895   -0.500866\n",
       " -0.770932   -0.151054   0.590386    0.185175"
      ]
     },
     "execution_count": 11,
     "metadata": {},
     "output_type": "execute_result"
    }
   ],
   "source": [
    "pc = projection(pca)"
   ]
  },
  {
   "cell_type": "code",
   "execution_count": 12,
   "metadata": {
    "collapsed": false
   },
   "outputs": [
    {
     "data": {
      "text/plain": [
       "4-element Array{Float64,1}:\n",
       " 0.00318894 \n",
       " 0.000124555\n",
       " 6.65315e-5 \n",
       " 1.24055e-5 "
      ]
     },
     "execution_count": 12,
     "metadata": {},
     "output_type": "execute_result"
    }
   ],
   "source": [
    "varianza = principalvars(pca)"
   ]
  },
  {
   "cell_type": "code",
   "execution_count": 13,
   "metadata": {
    "collapsed": false
   },
   "outputs": [
    {
     "data": {
      "text/plain": [
       "4-element Array{Float64,1}:\n",
       " 0.0564707 \n",
       " 0.0111604 \n",
       " 0.00815668\n",
       " 0.00352215"
      ]
     },
     "execution_count": 13,
     "metadata": {},
     "output_type": "execute_result"
    }
   ],
   "source": [
    "sqrt(varianza)"
   ]
  },
  {
   "cell_type": "code",
   "execution_count": 14,
   "metadata": {
    "collapsed": false
   },
   "outputs": [
    {
     "data": {
      "text/plain": [
       "4-element Array{Float64,1}:\n",
       " 94.0016  \n",
       "  3.67155 \n",
       "  1.96117 \n",
       "  0.365682"
      ]
     },
     "execution_count": 14,
     "metadata": {},
     "output_type": "execute_result"
    }
   ],
   "source": [
    "100 * varianza ./ sum(varianza) # % varianza"
   ]
  },
  {
   "cell_type": "code",
   "execution_count": 15,
   "metadata": {
    "collapsed": false
   },
   "outputs": [
    {
     "data": {
      "text/plain": [
       "150×4 Array{Float64,2}:\n",
       "  0.0752311  -0.00614334   -0.000915643   0.000739366\n",
       "  0.0746304   0.00703514    0.00098558    0.00292697 \n",
       "  0.076736    0.00252802    0.00349394    1.94601e-5 \n",
       "  0.0743685   0.00594618    0.00196085   -0.00216086 \n",
       "  0.0756862  -0.0082572    -0.000251676  -0.00120717 \n",
       "  0.0629228  -0.0181072    -0.000231227  -0.000328423\n",
       "  0.0717777  -0.00266176    0.00629102   -0.00271632 \n",
       "  0.074059   -0.0030046    -0.0012683    -0.000455396\n",
       "  0.0756108   0.0113855     0.0047968    -0.0015937  \n",
       "  0.0780846   0.00569669   -0.00367218    7.75785e-6 \n",
       "  0.0737496  -0.0119554    -0.00449746    0.00125007 \n",
       "  0.0733421  -0.0019797    -0.000956994  -0.0035967  \n",
       "  0.0793034   0.00827662   -0.00166399    0.00078412 \n",
       "  ⋮                                                  \n",
       " -0.0395875  -0.00146516    0.00697369   -0.00168586 \n",
       " -0.0619991  -0.00823626    0.00328278    0.00442786 \n",
       " -0.0772128  -0.00953819    0.0126        0.00349595 \n",
       " -0.0672803  -0.010812      0.0136149     0.00951451 \n",
       " -0.0477767   0.0067096     0.00856528   -0.0031273  \n",
       " -0.0763888  -0.0106906     0.00483551   -0.000316522\n",
       " -0.0824104  -0.0151007     0.0146512     0.00183803 \n",
       " -0.0682131  -0.00730047    0.0140081     0.00724188 \n",
       " -0.0482092   0.00953966    0.00618018    0.00498494 \n",
       " -0.0544332  -0.00394875    0.00531355    0.0018912  \n",
       " -0.0685443  -0.0148243     0.015049     -0.00359326 \n",
       " -0.0429346  -0.000254201   0.00417829   -0.00572042 "
      ]
     },
     "execution_count": 15,
     "metadata": {},
     "output_type": "execute_result"
    }
   ],
   "source": [
    "points = transform(pca, data_matrix)'"
   ]
  },
  {
   "cell_type": "code",
   "execution_count": 16,
   "metadata": {
    "collapsed": false
   },
   "outputs": [
    {
     "data": {
      "text/html": [
       "<img src=\"data:image/png;base64,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\" />"
      ]
     },
     "execution_count": 16,
     "metadata": {},
     "output_type": "execute_result"
    }
   ],
   "source": [
    "pyplot()\n",
    "scatter(points[:,1], points[:,2], group=iris[:Species])\n",
    "\n",
    "scale = 0.05\n",
    "\n",
    "segs_x = Segments()\n",
    "segs_y = Segments()\n",
    "for i in 1:4\n",
    "    push!(segs_x, [ 0, pc[i,1]*scale])\n",
    "    push!(segs_y, [ 0, pc[i,2]*scale])\n",
    "end\n",
    "plot!(segs_x.pts, segs_y.pts, label=\"\")"
   ]
  },
  {
   "cell_type": "markdown",
   "metadata": {},
   "source": [
    "#### [PCA en R](http://www.sthda.com/english/wiki/principal-component-analysis-in-r-prcomp-vs-princomp-r-software-and-data-mining)"
   ]
  },
  {
   "cell_type": "code",
   "execution_count": 20,
   "metadata": {
    "collapsed": false
   },
   "outputs": [
    {
     "data": {
      "text/plain": [
       "RCall.RObject{RCall.VecSxp}\n",
       "Standard deviations:\n",
       "[1] 0.056470702 0.011160407 0.008156682 0.003522147\n",
       "\n",
       "Rotation:\n",
       "             PC1        PC2         PC3        PC4\n",
       "[1,]  0.17292425 -0.2694060  0.53908304  0.7790424\n",
       "[2,] -0.08163417 -0.9404470  0.03097456 -0.3285359\n",
       "[3,]  0.60753291  0.1419948  0.59989506 -0.5008664\n",
       "[4,]  0.77093244 -0.1510539 -0.59038629  0.1851754\n"
      ]
     },
     "execution_count": 20,
     "metadata": {},
     "output_type": "execute_result"
    }
   ],
   "source": [
    "using RCall\n",
    "R\"\"\"\n",
    "pca <- prcomp(t($data_matrix))#, cor=TRUE\n",
    "\"\"\""
   ]
  },
  {
   "cell_type": "code",
   "execution_count": 21,
   "metadata": {
    "collapsed": false
   },
   "outputs": [
    {
     "data": {
      "text/plain": [
       "RCall.RObject{RCall.VecSxp}\n",
       "Importance of components:\n",
       "                           PC1     PC2      PC3      PC4\n",
       "Standard deviation     0.05647 0.01116 0.008157 0.003522\n",
       "Proportion of Variance 0.94002 0.03672 0.019610 0.003660\n",
       "Cumulative Proportion  0.94002 0.97673 0.996340 1.000000\n"
      ]
     },
     "execution_count": 21,
     "metadata": {},
     "output_type": "execute_result"
    }
   ],
   "source": [
    "R\"summary(pca)\""
   ]
  },
  {
   "cell_type": "code",
   "execution_count": 24,
   "metadata": {
    "collapsed": false
   },
   "outputs": [],
   "source": [
    "# R\"biplot(pca)\""
   ]
  },
  {
   "cell_type": "markdown",
   "metadata": {},
   "source": [
    "### [Análisis de correspondencia (CA)](https://en.wikipedia.org/wiki/Correspondence_analysis)"
   ]
  },
  {
   "cell_type": "markdown",
   "metadata": {},
   "source": [
    "> Distribution of hair and eye color and sex in 592 statistics students.  \n",
    "> A 3-dimensional array resulting from cross-tabulating 592\n",
    "> observations on 3 variables.  The variables and their levels are\n",
    "> as follows:  \n",
    "```\n",
    " No  Name  Levels                    \n",
    "  1  Hair  Black, Brown, Red, Blond  \n",
    "  2  Eye   Brown, Blue, Hazel, Green  \n",
    "  3  Sex   Male, Female              \n",
    "```   \n",
    "> The Hair x Eye table comes rom a survey of students at the\n",
    "> University of Delaware reported by Snee (1974).  The split by\n",
    "> ‘Sex’ was added by Friendly (1992a) for didactic purposes."
   ]
  },
  {
   "cell_type": "code",
   "execution_count": 25,
   "metadata": {
    "collapsed": false
   },
   "outputs": [
    {
     "data": {
      "text/plain": [
       "RCall.RObject{RCall.RealSxp}\n",
       ", , Sex = Male\n",
       "\n",
       "       Eye\n",
       "Hair    Brown Blue Hazel Green\n",
       "  Black    32   11    10     3\n",
       "  Brown    53   50    25    15\n",
       "  Red      10   10     7     7\n",
       "  Blond     3   30     5     8\n",
       "\n",
       ", , Sex = Female\n",
       "\n",
       "       Eye\n",
       "Hair    Brown Blue Hazel Green\n",
       "  Black    36    9     5     2\n",
       "  Brown    66   34    29    14\n",
       "  Red      16    7     7     7\n",
       "  Blond     4   64     5     8\n",
       "\n"
      ]
     },
     "execution_count": 25,
     "metadata": {},
     "output_type": "execute_result"
    }
   ],
   "source": [
    "using RCall\n",
    "R\"\"\"\n",
    "data(\"HairEyeColor\")\n",
    "HairEyeColor\n",
    "\"\"\""
   ]
  },
  {
   "cell_type": "code",
   "execution_count": 26,
   "metadata": {
    "collapsed": false
   },
   "outputs": [
    {
     "data": {
      "text/plain": [
       "RCall.RObject{RCall.RealSxp}\n",
       "       Eye\n",
       "Hair    Brown Blue Hazel Green\n",
       "  Black    68   20    15     5\n",
       "  Brown   119   84    54    29\n",
       "  Red      26   17    14    14\n",
       "  Blond     7   94    10    16\n"
      ]
     },
     "execution_count": 26,
     "metadata": {},
     "output_type": "execute_result"
    }
   ],
   "source": [
    "R\"\"\"\n",
    "HairEye <- margin.table(HairEyeColor,1:2)\n",
    "\"\"\""
   ]
  },
  {
   "cell_type": "markdown",
   "metadata": {},
   "source": [
    "> 1. Correspondence analysis is applicable to a **table of nonnegative data**, the primary example being a \n",
    "cross-tabulation of two categorical variables, that is a\n",
    "contingency table.\n",
    "2. The method can be thought of as an **analysis of row or column profiles** of the data matrix—these are \n",
    "the rows or columns expressed relative to their marginal totals.\n",
    "3. Each profile receives a **weight** equal to the relative **marginal total**, called a **mass**.\n",
    "4. **Distances between profiles are defined by the chi-square metric.** This is essentially a type of \n",
    "standardization of the profile values similar to that used in PCA, but using the average profile \n",
    "element as an estimate of variance rather than the variance itself.\n",
    "5. The **total variance**, called **inertia**, in the data is numerically equal to the **chi-square statistic \n",
    "for the table divided by the table's grand total**.\n",
    ">> - *Greenacre, Michael J. Biplots in practice. Fundacion BBVA, 2010.*"
   ]
  },
  {
   "cell_type": "code",
   "execution_count": 28,
   "metadata": {
    "collapsed": false
   },
   "outputs": [
    {
     "data": {
      "text/plain": [
       "RCall.RObject{RCall.VecSxp}\n",
       "\n",
       " Principal inertias (eigenvalues):\n",
       "           1        2        3       \n",
       "Value      0.208773 0.022227 0.002598\n",
       "Percentage 89.37%   9.52%    1.11%   \n",
       "\n",
       "\n",
       " Rows:\n",
       "            Black     Brown       Red    Blond\n",
       "Mass     0.182432  0.483108  0.119932 0.214527\n",
       "ChiDist  0.551192  0.159461  0.354770 0.838397\n",
       "Inertia  0.055425  0.012284  0.015095 0.150793\n",
       "Dim. 1  -1.104277 -0.324463 -0.283473 1.828229\n",
       "Dim. 2   1.440917 -0.219111 -2.144015 0.466706\n",
       "\n",
       "\n",
       " Columns:\n",
       "            Brown     Blue     Hazel     Green\n",
       "Mass     0.371622 0.363176  0.157095  0.108108\n",
       "ChiDist  0.500487 0.553684  0.288654  0.385727\n",
       "Inertia  0.093086 0.111337  0.013089  0.016085\n",
       "Dim. 1  -1.077128 1.198061 -0.465286  0.354011\n",
       "Dim. 2   0.592420 0.556419 -1.122783 -2.274122\n"
      ]
     },
     "execution_count": 28,
     "metadata": {},
     "output_type": "execute_result"
    }
   ],
   "source": [
    "R\"\"\"\n",
    "# install.packages(\"ca\")\n",
    "library(ca)\n",
    "CA <- ca(HairEye)\n",
    "\"\"\""
   ]
  },
  {
   "cell_type": "code",
   "execution_count": 30,
   "metadata": {
    "collapsed": false
   },
   "outputs": [],
   "source": [
    "# R\"plot(CA)\""
   ]
  },
  {
   "cell_type": "markdown",
   "metadata": {},
   "source": [
    "> Row points (column points) that are closer together have more similar column profiles (row profiles). Keep in mind that you can not interpret the distance between row and column points directly.\n",
    ">> [Quick-R](http://www.statmethods.net/advstats/ca.html)"
   ]
  },
  {
   "cell_type": "markdown",
   "metadata": {},
   "source": [
    "> Possibly the simplest way to determine the relationship between a **row (column) level** and a\n",
    "**column (row) level** is to draw lines from their corresponding points in the plot to the origin. If the\n",
    "angle between the two lines is *acute*, then the **column (row) level** occurs more often in the sample\n",
    "than it does on average in the  **rows (columns)** as a whole. \n",
    ">> *Yelland, Phillip M. \"An introduction to correspondence analysis.\" The Mathematica Journal 12 (2010): 1-23*"
   ]
  }
 ],
 "metadata": {
  "kernelspec": {
   "display_name": "Julia 0.5.0",
   "language": "julia",
   "name": "julia-0.5"
  },
  "language_info": {
   "file_extension": ".jl",
   "mimetype": "application/julia",
   "name": "julia",
   "version": "0.5.0"
  }
 },
 "nbformat": 4,
 "nbformat_minor": 0
}
