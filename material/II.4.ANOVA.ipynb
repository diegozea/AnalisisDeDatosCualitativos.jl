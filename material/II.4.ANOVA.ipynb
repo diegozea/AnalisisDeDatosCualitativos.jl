{
 "cells": [
  {
   "cell_type": "markdown",
   "metadata": {},
   "source": [
    "### Unidad II. Regresiones y reducción de dimensionalidad.\n",
    "\n",
    "## Análisis de varianza unifactorial y multifactorial.\n",
    "\n",
    "- El análisis de varianza unifactorial paramétrico. Hipótesis necesaria.\n",
    " - Análisis de la varianza (ANOVA)\n",
    "- Complementos del análisis unifactorial. Los tests de rangos, el análisis de contrastes y la descomposición polinomial a la suma de cuadrados.\n",
    "- Alternativa no paramétricas al ANOVA: el análisis de varianza de Kruskal-Wallis y el test de la mediana.\n",
    "- Análisis de varianza no Paramétricos para comparar longitudinalmente k variables dependientes: el test de Friedman y el test de Cochran."
   ]
  },
  {
   "cell_type": "markdown",
   "metadata": {
    "collapsed": true
   },
   "source": [
    "### One-way ANOVA"
   ]
  },
  {
   "cell_type": "code",
   "execution_count": 2,
   "metadata": {
    "collapsed": false
   },
   "outputs": [
    {
     "data": {
      "text/html": [
       "<table class=\"data-frame\"><thead><tr><th></th><th>Fat1</th><th>Fat2</th><th>Fat3</th><th>Fat4</th></tr></thead><tbody><tr><th>1</th><td>164.0</td><td>178.0</td><td>175.0</td><td>155.0</td></tr><tr><th>2</th><td>172.0</td><td>191.0</td><td>193.0</td><td>166.0</td></tr><tr><th>3</th><td>168.0</td><td>197.0</td><td>178.0</td><td>149.0</td></tr><tr><th>4</th><td>177.0</td><td>182.0</td><td>171.0</td><td>164.0</td></tr><tr><th>5</th><td>156.0</td><td>185.0</td><td>163.0</td><td>170.0</td></tr><tr><th>6</th><td>195.0</td><td>177.0</td><td>176.0</td><td>168.0</td></tr></tbody></table>"
      ],
      "text/plain": [
       "6×4 DataFrames.DataFrame\n",
       "│ Row │ Fat1  │ Fat2  │ Fat3  │ Fat4  │\n",
       "├─────┼───────┼───────┼───────┼───────┤\n",
       "│ 1   │ 164.0 │ 178.0 │ 175.0 │ 155.0 │\n",
       "│ 2   │ 172.0 │ 191.0 │ 193.0 │ 166.0 │\n",
       "│ 3   │ 168.0 │ 197.0 │ 178.0 │ 149.0 │\n",
       "│ 4   │ 177.0 │ 182.0 │ 171.0 │ 164.0 │\n",
       "│ 5   │ 156.0 │ 185.0 │ 163.0 │ 170.0 │\n",
       "│ 6   │ 195.0 │ 177.0 │ 176.0 │ 168.0 │"
      ]
     },
     "execution_count": 2,
     "metadata": {},
     "output_type": "execute_result"
    }
   ],
   "source": [
    "# Pkg.add(\"ExcelReaders\")\n",
    "using ExcelReaders\n",
    "\n",
    "using DataFrames\n",
    "\n",
    "donuts = readxlsheet(DataFrame, \"donuts.xls\", \"Sheet1\")"
   ]
  },
  {
   "cell_type": "code",
   "execution_count": 3,
   "metadata": {
    "collapsed": false
   },
   "outputs": [
    {
     "data": {
      "text/html": [
       "<table class=\"data-frame\"><thead><tr><th></th><th>variable</th><th>value</th></tr></thead><tbody><tr><th>1</th><td>Fat1</td><td>164.0</td></tr><tr><th>2</th><td>Fat1</td><td>172.0</td></tr><tr><th>3</th><td>Fat1</td><td>168.0</td></tr><tr><th>4</th><td>Fat1</td><td>177.0</td></tr><tr><th>5</th><td>Fat1</td><td>156.0</td></tr><tr><th>6</th><td>Fat1</td><td>195.0</td></tr><tr><th>7</th><td>Fat2</td><td>178.0</td></tr><tr><th>8</th><td>Fat2</td><td>191.0</td></tr><tr><th>9</th><td>Fat2</td><td>197.0</td></tr><tr><th>10</th><td>Fat2</td><td>182.0</td></tr></tbody></table>"
      ],
      "text/plain": [
       "10×2 DataFrames.DataFrame\n",
       "│ Row │ variable │ value │\n",
       "├─────┼──────────┼───────┤\n",
       "│ 1   │ Fat1     │ 164.0 │\n",
       "│ 2   │ Fat1     │ 172.0 │\n",
       "│ 3   │ Fat1     │ 168.0 │\n",
       "│ 4   │ Fat1     │ 177.0 │\n",
       "│ 5   │ Fat1     │ 156.0 │\n",
       "│ 6   │ Fat1     │ 195.0 │\n",
       "│ 7   │ Fat2     │ 178.0 │\n",
       "│ 8   │ Fat2     │ 191.0 │\n",
       "│ 9   │ Fat2     │ 197.0 │\n",
       "│ 10  │ Fat2     │ 182.0 │"
      ]
     },
     "execution_count": 3,
     "metadata": {},
     "output_type": "execute_result"
    }
   ],
   "source": [
    "sdonuts = stack(donuts)\n",
    "head(sdonuts, 10)"
   ]
  },
  {
   "cell_type": "code",
   "execution_count": 4,
   "metadata": {
    "collapsed": false
   },
   "outputs": [
    {
     "data": {
      "text/plain": [
       "Plots.PyPlotBackend()"
      ]
     },
     "execution_count": 4,
     "metadata": {},
     "output_type": "execute_result"
    }
   ],
   "source": [
    "using Plots\n",
    "pyplot(size=(300,300))"
   ]
  },
  {
   "cell_type": "code",
   "execution_count": 9,
   "metadata": {
    "collapsed": false
   },
   "outputs": [],
   "source": [
    "sdonuts[:variable] = String[ string(level) for level in sdonuts[:variable] ]\n",
    "pool!(sdonuts)"
   ]
  },
  {
   "cell_type": "code",
   "execution_count": 10,
   "metadata": {
    "collapsed": false
   },
   "outputs": [
    {
     "name": "stdout",
     "output_type": "stream",
     "text": [
      "variable\n",
      "Length  24\n",
      "Type    Pooled String\n",
      "NAs     0\n",
      "NA%     0.0%\n",
      "Unique  4\n",
      "\n",
      "value\n",
      "Min      149.0\n",
      "1st Qu.  165.5\n",
      "Median   173.5\n",
      "Mean     173.75\n",
      "3rd Qu.  179.0\n",
      "Max      197.0\n",
      "NAs      0\n",
      "NA%      0.0%\n",
      "\n"
     ]
    }
   ],
   "source": [
    "describe(sdonuts)"
   ]
  },
  {
   "cell_type": "code",
   "execution_count": 11,
   "metadata": {
    "collapsed": false
   },
   "outputs": [
    {
     "data": {
      "text/html": [
       "<img src=\"data:image/png;base64,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\" />"
      ]
     },
     "execution_count": 11,
     "metadata": {},
     "output_type": "execute_result"
    }
   ],
   "source": [
    "using StatPlots\n",
    "\n",
    "violin(sdonuts, :variable, :value, alpha=0.4, legend=false)\n",
    "boxplot!(sdonuts, :variable, :value, alpha=0.6, line=:black)"
   ]
  },
  {
   "cell_type": "code",
   "execution_count": 12,
   "metadata": {
    "collapsed": true
   },
   "outputs": [],
   "source": [
    "using GLM"
   ]
  },
  {
   "cell_type": "code",
   "execution_count": 13,
   "metadata": {
    "collapsed": false
   },
   "outputs": [
    {
     "data": {
      "text/plain": [
       "DataFrames.DataFrameRegressionModel{GLM.GeneralizedLinearModel{GLM.GlmResp{Array{Float64,1},Distributions.Normal{Float64},GLM.IdentityLink},GLM.DensePredChol{Float64,Base.LinAlg.Cholesky{Float64,Array{Float64,2}}}},Array{Float64,2}}\n",
       "\n",
       "Formula: value ~ 1 + variable\n",
       "\n",
       "Coefficients:\n",
       "                Estimate Std.Error  z value Pr(>|z|)\n",
       "(Intercept)        172.0   4.10081  41.9429   <1e-99\n",
       "variable: Fat2      13.0   5.79943   2.2416   0.0250\n",
       "variable: Fat3       4.0   5.79943 0.689724   0.4904\n",
       "variable: Fat4     -10.0   5.79943 -1.72431   0.0847\n"
      ]
     },
     "execution_count": 13,
     "metadata": {},
     "output_type": "execute_result"
    }
   ],
   "source": [
    "anova = fit(GeneralizedLinearModel, @formula(value ~ variable), sdonuts, Normal(), IdentityLink())"
   ]
  },
  {
   "cell_type": "markdown",
   "metadata": {},
   "source": [
    "> The statistical model for which one-way ANOVA is appropriate is that\n",
    "the (quantitative) outcomes for each group are **normally distributed**\n",
    "with a **common variance** (σ²). The errors (deviations of individual\n",
    "outcomes from the population group means) are assumed to be independent.\n",
    "The model places no restrictions on the population group\n",
    "means.\n",
    ">> - *Seltman, Howard J. \"Experimental design and analysis.\" Online at: [http://www.stat.cmu.edu/~hseltman/309/Book/Book.pdf](http://www.stat.cmu.edu/~hseltman/309/Book/Book.pdf) (2012).*"
   ]
  },
  {
   "cell_type": "code",
   "execution_count": 16,
   "metadata": {
    "collapsed": false
   },
   "outputs": [],
   "source": [
    "using RCall\n",
    "using HypothesisTests"
   ]
  },
  {
   "cell_type": "code",
   "execution_count": 18,
   "metadata": {
    "collapsed": false
   },
   "outputs": [
    {
     "data": {
      "text/html": [
       "<table class=\"data-frame\"><thead><tr><th></th><th>variable</th><th>P_AD</th><th>P_Shapiro</th></tr></thead><tbody><tr><th>1</th><td>Fat1</td><td>0.6176059803611285</td><td>0.7406352485668342</td></tr><tr><th>2</th><td>Fat2</td><td>0.6194216548282149</td><td>0.5926484972078393</td></tr><tr><th>3</th><td>Fat3</td><td>0.39409638619216925</td><td>0.6065677037767483</td></tr><tr><th>4</th><td>Fat4</td><td>0.27719288143949883</td><td>0.30967709220999107</td></tr></tbody></table>"
      ],
      "text/plain": [
       "4×3 DataFrames.DataFrame\n",
       "│ Row │ variable │ P_AD     │ P_Shapiro │\n",
       "├─────┼──────────┼──────────┼───────────┤\n",
       "│ 1   │ \"Fat1\"   │ 0.617606 │ 0.740635  │\n",
       "│ 2   │ \"Fat2\"   │ 0.619422 │ 0.592648  │\n",
       "│ 3   │ \"Fat3\"   │ 0.394096 │ 0.606568  │\n",
       "│ 4   │ \"Fat4\"   │ 0.277193 │ 0.309677  │"
      ]
     },
     "execution_count": 18,
     "metadata": {},
     "output_type": "execute_result"
    }
   ],
   "source": [
    "by(sdonuts, :variable) do df\n",
    "    DataFrame(\n",
    "        P_AD = pvalue(OneSampleADTest(df[:value], Normal())),\n",
    "        P_Shapiro = rcopy(R\"shapiro.test($(df[:value]))\")[Symbol(\"p.value\")]\n",
    "    )\n",
    "end"
   ]
  },
  {
   "cell_type": "code",
   "execution_count": 19,
   "metadata": {
    "collapsed": false
   },
   "outputs": [
    {
     "data": {
      "text/plain": [
       "RCall.RObject{RCall.VecSxp}\n",
       "Levene's Test for Homogeneity of Variance (center = median)\n",
       "      Df F value Pr(>F)\n",
       "group  3  0.3434 0.7942\n",
       "      20               \n"
      ]
     },
     "execution_count": 19,
     "metadata": {},
     "output_type": "execute_result"
    }
   ],
   "source": [
    "R\"\"\"\n",
    "library(car)\n",
    "leveneTest(value ~ variable, $sdonuts)\n",
    "\"\"\""
   ]
  },
  {
   "cell_type": "code",
   "execution_count": 20,
   "metadata": {
    "collapsed": false
   },
   "outputs": [
    {
     "data": {
      "text/plain": [
       "RCall.RObject{RCall.VecSxp}\n",
       "\n",
       "\tOne-way analysis of means (not assuming equal variances)\n",
       "\n",
       "data:  value and variable\n",
       "F = 7.4757, num df = 3.000, denom df = 10.953, p-value = 0.005353\n",
       "\n"
      ]
     },
     "execution_count": 20,
     "metadata": {},
     "output_type": "execute_result"
    }
   ],
   "source": [
    "R\"oneway.test(value ~ variable, $sdonuts)\""
   ]
  },
  {
   "cell_type": "code",
   "execution_count": 21,
   "metadata": {
    "collapsed": false
   },
   "outputs": [
    {
     "data": {
      "text/plain": [
       "RCall.RObject{RCall.VecSxp}\n",
       "Analysis of Variance Table\n",
       "\n",
       "Response: value\n",
       "          Df Sum Sq Mean Sq F value   Pr(>F)   \n",
       "variable   3 1636.5   545.5  5.4063 0.006876 **\n",
       "Residuals 20 2018.0   100.9                    \n",
       "---\n",
       "Signif. codes:  0 ‘***’ 0.001 ‘**’ 0.01 ‘*’ 0.05 ‘.’ 0.1 ‘ ’ 1\n"
      ]
     },
     "execution_count": 21,
     "metadata": {},
     "output_type": "execute_result"
    }
   ],
   "source": [
    "R\"\"\"\n",
    "modelo <- lm(value ~ variable, $sdonuts)\n",
    "anova(modelo)\n",
    "\"\"\""
   ]
  },
  {
   "cell_type": "code",
   "execution_count": 22,
   "metadata": {
    "collapsed": false
   },
   "outputs": [
    {
     "data": {
      "text/plain": [
       "RCall.RObject{RCall.RealSxp}\n",
       " (Intercept) variableFat2 variableFat3 variableFat4 \n",
       "         172           13            4          -10 \n"
      ]
     },
     "execution_count": 22,
     "metadata": {},
     "output_type": "execute_result"
    }
   ],
   "source": [
    "R\"coef(modelo)\""
   ]
  },
  {
   "cell_type": "code",
   "execution_count": 23,
   "metadata": {
    "collapsed": false
   },
   "outputs": [
    {
     "data": {
      "text/plain": [
       "RCall.RObject{RCall.RealSxp}\n",
       "                   2.5 %     97.5 %\n",
       "(Intercept)  163.4458541 180.554146\n",
       "variableFat2   0.9026109  25.097389\n",
       "variableFat3  -8.0973891  16.097389\n",
       "variableFat4 -22.0973891   2.097389\n"
      ]
     },
     "execution_count": 23,
     "metadata": {},
     "output_type": "execute_result"
    }
   ],
   "source": [
    "R\"confint(modelo)\""
   ]
  },
  {
   "cell_type": "markdown",
   "metadata": {},
   "source": [
    "#### Tabla de ANOVA"
   ]
  },
  {
   "cell_type": "code",
   "execution_count": 24,
   "metadata": {
    "collapsed": false
   },
   "outputs": [
    {
     "data": {
      "text/html": [
       "<table class=\"data-frame\"><thead><tr><th></th><th>variable</th><th>n</th></tr></thead><tbody><tr><th>1</th><td>Fat1</td><td>6</td></tr><tr><th>2</th><td>Fat2</td><td>6</td></tr><tr><th>3</th><td>Fat3</td><td>6</td></tr><tr><th>4</th><td>Fat4</td><td>6</td></tr></tbody></table>"
      ],
      "text/plain": [
       "4×2 DataFrames.DataFrame\n",
       "│ Row │ variable │ n │\n",
       "├─────┼──────────┼───┤\n",
       "│ 1   │ \"Fat1\"   │ 6 │\n",
       "│ 2   │ \"Fat2\"   │ 6 │\n",
       "│ 3   │ \"Fat3\"   │ 6 │\n",
       "│ 4   │ \"Fat4\"   │ 6 │"
      ]
     },
     "execution_count": 24,
     "metadata": {},
     "output_type": "execute_result"
    }
   ],
   "source": [
    "count = by(sdonuts, :variable, df -> nrow(df))\n",
    "names!(count, [:variable, :n])"
   ]
  },
  {
   "cell_type": "code",
   "execution_count": 25,
   "metadata": {
    "collapsed": false
   },
   "outputs": [
    {
     "data": {
      "text/html": [
       "6"
      ],
      "text/plain": [
       "6"
      ]
     },
     "execution_count": 25,
     "metadata": {},
     "output_type": "execute_result"
    }
   ],
   "source": [
    "n = 6"
   ]
  },
  {
   "cell_type": "code",
   "execution_count": 26,
   "metadata": {
    "collapsed": false
   },
   "outputs": [
    {
     "data": {
      "text/html": [
       "4"
      ],
      "text/plain": [
       "4"
      ]
     },
     "execution_count": 26,
     "metadata": {},
     "output_type": "execute_result"
    }
   ],
   "source": [
    "g = 4"
   ]
  },
  {
   "cell_type": "code",
   "execution_count": 27,
   "metadata": {
    "collapsed": false
   },
   "outputs": [
    {
     "data": {
      "text/html": [
       "24"
      ],
      "text/plain": [
       "24"
      ]
     },
     "execution_count": 27,
     "metadata": {},
     "output_type": "execute_result"
    }
   ],
   "source": [
    "N = g * n"
   ]
  },
  {
   "cell_type": "code",
   "execution_count": 28,
   "metadata": {
    "collapsed": false
   },
   "outputs": [
    {
     "data": {
      "text/html": [
       "173.75"
      ],
      "text/plain": [
       "173.75"
      ]
     },
     "execution_count": 28,
     "metadata": {},
     "output_type": "execute_result"
    }
   ],
   "source": [
    "ȳ = mean(sdonuts[:value])"
   ]
  },
  {
   "cell_type": "code",
   "execution_count": 29,
   "metadata": {
    "collapsed": false
   },
   "outputs": [
    {
     "data": {
      "text/html": [
       "<table class=\"data-frame\"><thead><tr><th></th><th>variable</th><th>mean</th></tr></thead><tbody><tr><th>1</th><td>Fat1</td><td>172.0</td></tr><tr><th>2</th><td>Fat2</td><td>185.0</td></tr><tr><th>3</th><td>Fat3</td><td>176.0</td></tr><tr><th>4</th><td>Fat4</td><td>162.0</td></tr></tbody></table>"
      ],
      "text/plain": [
       "4×2 DataFrames.DataFrame\n",
       "│ Row │ variable │ mean  │\n",
       "├─────┼──────────┼───────┤\n",
       "│ 1   │ \"Fat1\"   │ 172.0 │\n",
       "│ 2   │ \"Fat2\"   │ 185.0 │\n",
       "│ 3   │ \"Fat3\"   │ 176.0 │\n",
       "│ 4   │ \"Fat4\"   │ 162.0 │"
      ]
     },
     "execution_count": 29,
     "metadata": {},
     "output_type": "execute_result"
    }
   ],
   "source": [
    "ȳᵢ = by(sdonuts, :variable, df -> mean(df[:value]))\n",
    "names!(ȳᵢ, [:variable, :mean])"
   ]
  },
  {
   "cell_type": "markdown",
   "metadata": {
    "collapsed": true
   },
   "source": [
    "**NOTA:** Podemos tomar simplemente el promedio (y calcular cómo lo haremos) porque los grupos tienen el mismo tamaño, si ésto no fuera así, deberíamos pesar las varianzas de cada muestra por su tamaño."
   ]
  },
  {
   "cell_type": "code",
   "execution_count": 30,
   "metadata": {
    "collapsed": false
   },
   "outputs": [
    {
     "data": {
      "text/html": [
       "<table class=\"data-frame\"><thead><tr><th></th><th>variable</th><th>value</th><th>mean</th></tr></thead><tbody><tr><th>1</th><td>Fat1</td><td>164.0</td><td>172.0</td></tr><tr><th>2</th><td>Fat1</td><td>172.0</td><td>172.0</td></tr><tr><th>3</th><td>Fat1</td><td>168.0</td><td>172.0</td></tr><tr><th>4</th><td>Fat1</td><td>177.0</td><td>172.0</td></tr><tr><th>5</th><td>Fat1</td><td>156.0</td><td>172.0</td></tr><tr><th>6</th><td>Fat1</td><td>195.0</td><td>172.0</td></tr><tr><th>7</th><td>Fat2</td><td>178.0</td><td>185.0</td></tr><tr><th>8</th><td>Fat2</td><td>191.0</td><td>185.0</td></tr><tr><th>9</th><td>Fat2</td><td>197.0</td><td>185.0</td></tr><tr><th>10</th><td>Fat2</td><td>182.0</td><td>185.0</td></tr></tbody></table>"
      ],
      "text/plain": [
       "10×3 DataFrames.DataFrame\n",
       "│ Row │ variable │ value │ mean  │\n",
       "├─────┼──────────┼───────┼───────┤\n",
       "│ 1   │ \"Fat1\"   │ 164.0 │ 172.0 │\n",
       "│ 2   │ \"Fat1\"   │ 172.0 │ 172.0 │\n",
       "│ 3   │ \"Fat1\"   │ 168.0 │ 172.0 │\n",
       "│ 4   │ \"Fat1\"   │ 177.0 │ 172.0 │\n",
       "│ 5   │ \"Fat1\"   │ 156.0 │ 172.0 │\n",
       "│ 6   │ \"Fat1\"   │ 195.0 │ 172.0 │\n",
       "│ 7   │ \"Fat2\"   │ 178.0 │ 185.0 │\n",
       "│ 8   │ \"Fat2\"   │ 191.0 │ 185.0 │\n",
       "│ 9   │ \"Fat2\"   │ 197.0 │ 185.0 │\n",
       "│ 10  │ \"Fat2\"   │ 182.0 │ 185.0 │"
      ]
     },
     "execution_count": 30,
     "metadata": {},
     "output_type": "execute_result"
    }
   ],
   "source": [
    "datos = join(sdonuts, ȳᵢ, on=:variable)\n",
    "head(datos, 10)"
   ]
  },
  {
   "cell_type": "code",
   "execution_count": 31,
   "metadata": {
    "collapsed": false
   },
   "outputs": [
    {
     "data": {
      "text/html": [
       "2018.0"
      ],
      "text/plain": [
       "2018.0"
      ]
     },
     "execution_count": 31,
     "metadata": {},
     "output_type": "execute_result"
    }
   ],
   "source": [
    "SSW = sum((datos[:value] .- datos[:mean]).^ 2) # sum of squares within"
   ]
  },
  {
   "cell_type": "code",
   "execution_count": 32,
   "metadata": {
    "collapsed": false
   },
   "outputs": [
    {
     "data": {
      "text/html": [
       "1636.5"
      ],
      "text/plain": [
       "1636.5"
      ]
     },
     "execution_count": 32,
     "metadata": {},
     "output_type": "execute_result"
    }
   ],
   "source": [
    "SSB = n * sum((ȳᵢ[:mean] .- ȳ).^2) # sum of squares between"
   ]
  },
  {
   "cell_type": "code",
   "execution_count": 33,
   "metadata": {
    "collapsed": false
   },
   "outputs": [
    {
     "data": {
      "text/html": [
       "5.406342913776015"
      ],
      "text/plain": [
       "5.406342913776015"
      ]
     },
     "execution_count": 33,
     "metadata": {},
     "output_type": "execute_result"
    }
   ],
   "source": [
    "F = (SSB/(g-1))/(SSW/(N-g))"
   ]
  },
  {
   "cell_type": "code",
   "execution_count": 34,
   "metadata": {
    "collapsed": false
   },
   "outputs": [],
   "source": [
    "using HypothesisTests"
   ]
  },
  {
   "cell_type": "code",
   "execution_count": 35,
   "metadata": {
    "collapsed": false
   },
   "outputs": [
    {
     "data": {
      "text/html": [
       "0.006875947754735093"
      ],
      "text/plain": [
       "0.006875947754735093"
      ]
     },
     "execution_count": 35,
     "metadata": {},
     "output_type": "execute_result"
    }
   ],
   "source": [
    "pvalue(FDist(g-1,N-g), F, tail=:right)"
   ]
  },
  {
   "cell_type": "markdown",
   "metadata": {
    "collapsed": true
   },
   "source": [
    "> The overall null hypothesis for one-way ANOVA with `k` groups is\n",
    "`H0 : µ1 = · · · = µk.` The alternative hypothesis is that \"the population\n",
    "means are not all equal\".\n",
    ">> - *Seltman, Howard J. \"Experimental design and analysis.\" Online at: [http://www.stat.cmu.edu/~hseltman/309/Book/Book.pdf](http://www.stat.cmu.edu/~hseltman/309/Book/Book.pdf) (2012).*"
   ]
  },
  {
   "cell_type": "markdown",
   "metadata": {
    "collapsed": true
   },
   "source": [
    "### Pruebas de Rangos Múltiples "
   ]
  },
  {
   "cell_type": "markdown",
   "metadata": {},
   "source": [
    "> Multiple comparison procedures are commonly used in an analysis of variance after obtaining a significant **omnibus test** result, like the ANOVA F-test. The significant ANOVA result suggests rejecting the global null hypothesis `H0` that the means are the same across the groups being compared. **Multiple comparison procedures are then used to determine which means differ.** In a one-way ANOVA involving `K` group means, there are `K(K − 1)/2` pairwise comparisons.\n",
    ">> - [Multiple comparisons problem,*wiki*](https://en.wikipedia.org/wiki/Multiple_comparisons_problem#Post-hoc_testing_of_ANOVAs)\n",
    "Ver también: [Post hoc analysis,*wiki*](https://en.wikipedia.org/wiki/Post_hoc_analysis)"
   ]
  },
  {
   "cell_type": "code",
   "execution_count": 36,
   "metadata": {
    "collapsed": false
   },
   "outputs": [
    {
     "data": {
      "text/plain": [
       "RCall.RObject{RCall.VecSxp}\n",
       "Call:\n",
       "   aov(formula = value ~ variable, data = `#JL`$sdonuts)\n",
       "\n",
       "Terms:\n",
       "                variable Residuals\n",
       "Sum of Squares    1636.5    2018.0\n",
       "Deg. of Freedom        3        20\n",
       "\n",
       "Residual standard error: 10.0449\n",
       "Estimated effects may be unbalanced\n"
      ]
     },
     "execution_count": 36,
     "metadata": {},
     "output_type": "execute_result"
    }
   ],
   "source": [
    "R\"modelo <- aov(value ~ variable, $sdonuts)\""
   ]
  },
  {
   "cell_type": "markdown",
   "metadata": {},
   "source": [
    "#### [Bonferroni](https://en.wikipedia.org/wiki/Bonferroni_correction)"
   ]
  },
  {
   "cell_type": "code",
   "execution_count": 37,
   "metadata": {
    "collapsed": false
   },
   "outputs": [
    {
     "data": {
      "text/plain": [
       "RCall.RObject{RCall.VecSxp}\n",
       "\n",
       "\tPairwise comparisons using t tests with pooled SD \n",
       "\n",
       "data:  sdonuts$value and sdonuts$variable \n",
       "\n",
       "     Fat1   Fat2   Fat3  \n",
       "Fat2 0.2189 -      -     \n",
       "Fat3 1.0000 0.8182 -     \n",
       "Fat4 0.6005 0.0046 0.1529\n",
       "\n",
       "P value adjustment method: bonferroni \n"
      ]
     },
     "execution_count": 37,
     "metadata": {},
     "output_type": "execute_result"
    }
   ],
   "source": [
    "@rput sdonuts # Copies variables from Julia to R using the same name.\n",
    "\n",
    "R\"\"\"\n",
    "pairwise.t.test(sdonuts$value, sdonuts$variable, p.adj = \"bonf\")\n",
    "\"\"\""
   ]
  },
  {
   "cell_type": "code",
   "execution_count": 38,
   "metadata": {
    "collapsed": false
   },
   "outputs": [
    {
     "data": {
      "text/html": [
       "4"
      ],
      "text/plain": [
       "4"
      ]
     },
     "execution_count": 38,
     "metadata": {},
     "output_type": "execute_result"
    }
   ],
   "source": [
    "K = 4"
   ]
  },
  {
   "cell_type": "code",
   "execution_count": 39,
   "metadata": {
    "collapsed": false
   },
   "outputs": [
    {
     "data": {
      "text/plain": [
       "3×3 DataArrays.DataArray{Float64,2}:\n",
       " 0.0364883   NA           NA     \n",
       " 0.498294   0.136372      NA     \n",
       " 0.100075   0.000761889  0.025484"
      ]
     },
     "execution_count": 39,
     "metadata": {},
     "output_type": "execute_result"
    }
   ],
   "source": [
    "none = rcopy(R\"\"\"\n",
    "             pairwise.t.test(sdonuts$value, sdonuts$variable, p.adj = \"none\")$p.value\n",
    "             \"\"\")"
   ]
  },
  {
   "cell_type": "code",
   "execution_count": 40,
   "metadata": {
    "collapsed": false
   },
   "outputs": [
    {
     "data": {
      "text/html": [
       "6.0"
      ],
      "text/plain": [
       "6.0"
      ]
     },
     "execution_count": 40,
     "metadata": {},
     "output_type": "execute_result"
    }
   ],
   "source": [
    "N_pares = K*(K-1) / 2"
   ]
  },
  {
   "cell_type": "code",
   "execution_count": 41,
   "metadata": {
    "collapsed": false
   },
   "outputs": [
    {
     "data": {
      "text/plain": [
       "3×3 DataArrays.DataArray{Float64,2}:\n",
       " 0.21893    NA          NA     \n",
       " 2.98976   0.818235     NA     \n",
       " 0.600452  0.00457133  0.152904"
      ]
     },
     "execution_count": 41,
     "metadata": {},
     "output_type": "execute_result"
    }
   ],
   "source": [
    "none .* N_pares"
   ]
  },
  {
   "cell_type": "markdown",
   "metadata": {},
   "source": [
    "#### [Tukey's HSD](https://en.wikipedia.org/wiki/Tukey%27s_range_test)"
   ]
  },
  {
   "cell_type": "markdown",
   "metadata": {},
   "source": [
    "> When doing all pairwise comparisons, this method is considered the best available when confidence intervals are needed or sample sizes are not equal. When samples sizes are equal and confidence intervals are not needed Tukey’s test is slightly less powerful than the [stepdown procedures](https://en.wikipedia.org/wiki/Family-wise_error_rate), but if they are not available Tukey’s is the next-best choice, and unless the number of groups is large, the loss in power will be slight. In the general case when many or all contrasts might be of interest, **Scheffé's method** tends to give narrower confidence limits and is therefore the preferred method."
   ]
  },
  {
   "cell_type": "code",
   "execution_count": 42,
   "metadata": {
    "collapsed": false
   },
   "outputs": [
    {
     "data": {
      "text/plain": [
       "RCall.RObject{RCall.VecSxp}\n",
       "  Tukey multiple comparisons of means\n",
       "    95% family-wise confidence level\n",
       "\n",
       "Fit: aov(formula = value ~ variable, data = `#JL`$sdonuts)\n",
       "\n",
       "$variable\n",
       "          diff        lwr       upr     p adj\n",
       "Fat2-Fat1   13  -3.232221 29.232221 0.1461929\n",
       "Fat3-Fat1    4 -12.232221 20.232221 0.8998057\n",
       "Fat4-Fat1  -10 -26.232221  6.232221 0.3378150\n",
       "Fat3-Fat2   -9 -25.232221  7.232221 0.4270717\n",
       "Fat4-Fat2  -23 -39.232221 -6.767779 0.0039064\n",
       "Fat4-Fat3  -14 -30.232221  2.232221 0.1065573\n",
       "\n"
      ]
     },
     "execution_count": 42,
     "metadata": {},
     "output_type": "execute_result"
    }
   ],
   "source": [
    "R\"TukeyHSD(modelo)\""
   ]
  },
  {
   "cell_type": "code",
   "execution_count": 44,
   "metadata": {
    "collapsed": false
   },
   "outputs": [
    {
     "data": {
      "text/plain": [
       "RCall.RObject{RCall.VecSxp}\n",
       "$statistics\n",
       "    Mean       CV MSerror      HSD\n",
       "  173.75 5.781237   100.9 16.23222\n",
       "\n",
       "$parameters\n",
       "  Df ntr StudentizedRange alpha  test   name.t\n",
       "  20   4         3.958293  0.05 Tukey variable\n",
       "\n",
       "$means\n",
       "     value       std r Min Max\n",
       "Fat1   172 13.341664 6 156 195\n",
       "Fat2   185  7.771744 6 177 197\n",
       "Fat3   176  9.879271 6 163 193\n",
       "Fat4   162  8.221922 6 149 170\n",
       "\n",
       "$comparison\n",
       "NULL\n",
       "\n",
       "$groups\n",
       "   trt means  M\n",
       "1 Fat2   185  a\n",
       "2 Fat3   176 ab\n",
       "3 Fat1   172 ab\n",
       "4 Fat4   162  b\n",
       "\n"
      ]
     },
     "execution_count": 44,
     "metadata": {},
     "output_type": "execute_result"
    }
   ],
   "source": [
    "R\"\"\"\n",
    "# install.packages(\"agricolae\")\n",
    "\n",
    "library(agricolae)\n",
    "\n",
    "HSD.test(modelo, \"variable\")\n",
    "\"\"\""
   ]
  },
  {
   "cell_type": "markdown",
   "metadata": {},
   "source": [
    "### [Scheffé's test](https://en.wikipedia.org/wiki/Scheff%C3%A9%27s_method)"
   ]
  },
  {
   "cell_type": "markdown",
   "metadata": {},
   "source": [
    "> Scheffé's method applies to the set of estimates of all possible contrasts among the factor level means, not just the pairwise differences. Having an advantage of flexibility, it can be used to test any number of post hoc simple and/or complex comparisons that appear interesting. However, the drawback of this flexibility is a low type I error rate, and a low power."
   ]
  },
  {
   "cell_type": "code",
   "execution_count": 45,
   "metadata": {
    "collapsed": false
   },
   "outputs": [
    {
     "data": {
      "text/plain": [
       "RCall.RObject{RCall.VecSxp}\n",
       "$statistics\n",
       "    Mean       CV MSerror CriticalDifference\n",
       "  173.75 5.781237   100.9           17.68128\n",
       "\n",
       "$parameters\n",
       "  Df ntr        F  Scheffe alpha    test   name.t\n",
       "  20   4 3.098391 3.048799  0.05 Scheffe variable\n",
       "\n",
       "$means\n",
       "     value       std r Min Max\n",
       "Fat1   172 13.341664 6 156 195\n",
       "Fat2   185  7.771744 6 177 197\n",
       "Fat3   176  9.879271 6 163 193\n",
       "Fat4   162  8.221922 6 149 170\n",
       "\n",
       "$comparison\n",
       "NULL\n",
       "\n",
       "$groups\n",
       "   trt means  M\n",
       "1 Fat2   185  a\n",
       "2 Fat3   176 ab\n",
       "3 Fat1   172 ab\n",
       "4 Fat4   162  b\n",
       "\n"
      ]
     },
     "execution_count": 45,
     "metadata": {},
     "output_type": "execute_result"
    }
   ],
   "source": [
    "R\"\"\"\n",
    "# install.packages(\"agricolae\")\n",
    "# library(agricolae)\n",
    "\n",
    "scheffe.test(modelo, \"variable\")\n",
    "\"\"\""
   ]
  },
  {
   "cell_type": "code",
   "execution_count": 48,
   "metadata": {
    "collapsed": false
   },
   "outputs": [
    {
     "data": {
      "text/html": [
       "<table class=\"data-frame\"><thead><tr><th></th><th>variable</th><th>mean</th><th>min</th><th>max</th></tr></thead><tbody><tr><th>1</th><td>Fat1</td><td>172.0</td><td>157.99878223558633</td><td>186.00121776441367</td></tr><tr><th>2</th><td>Fat2</td><td>185.0</td><td>176.8440551864332</td><td>193.1559448135668</td></tr><tr><th>3</th><td>Fat3</td><td>176.0</td><td>165.63234067694603</td><td>186.36765932305397</td></tr><tr><th>4</th><td>Fat4</td><td>162.0</td><td>153.3716221124483</td><td>170.6283778875517</td></tr></tbody></table>"
      ],
      "text/plain": [
       "4×4 DataFrames.DataFrame\n",
       "│ Row │ variable │ mean  │ min     │ max     │\n",
       "├─────┼──────────┼───────┼─────────┼─────────┤\n",
       "│ 1   │ \"Fat1\"   │ 172.0 │ 157.999 │ 186.001 │\n",
       "│ 2   │ \"Fat2\"   │ 185.0 │ 176.844 │ 193.156 │\n",
       "│ 3   │ \"Fat3\"   │ 176.0 │ 165.632 │ 186.368 │\n",
       "│ 4   │ \"Fat4\"   │ 162.0 │ 153.372 │ 170.628 │"
      ]
     },
     "execution_count": 48,
     "metadata": {},
     "output_type": "execute_result"
    }
   ],
   "source": [
    "medias = by(sdonuts, :variable) do df\n",
    "    valores = df[:value]\n",
    "    CI = confint(OneSampleTTest(valores))\n",
    "    DataFrame(\n",
    "        mean = mean(valores),\n",
    "        min   = CI[1],\n",
    "        max   = CI[2]\n",
    "    )\n",
    "end"
   ]
  },
  {
   "cell_type": "code",
   "execution_count": 51,
   "metadata": {
    "collapsed": false
   },
   "outputs": [
    {
     "data": {
      "text/html": [
       "<img src=\"data:image/png;base64,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\" />"
      ]
     },
     "execution_count": 51,
     "metadata": {},
     "output_type": "execute_result"
    }
   ],
   "source": [
    "bar(1:4, medias[:mean], xticks=(1:4,medias[:variable]), legend=false,\n",
    "bar_width=0.5, yerror=(medias[:mean].-medias[:min],medias[:max].-medias[:mean]))"
   ]
  },
  {
   "cell_type": "markdown",
   "metadata": {},
   "source": [
    "#### Contrastes ortogonales"
   ]
  },
  {
   "cell_type": "code",
   "execution_count": 52,
   "metadata": {
    "collapsed": false
   },
   "outputs": [],
   "source": [
    "@rput sdonuts;"
   ]
  },
  {
   "cell_type": "markdown",
   "metadata": {},
   "source": [
    "Solo hay $K-1$ contrastes ortogonales, donde $K$ es el número de niveles. Por defecto, todos se comparan contra la primera categoría (`Fat1`)."
   ]
  },
  {
   "cell_type": "code",
   "execution_count": 53,
   "metadata": {
    "collapsed": false
   },
   "outputs": [
    {
     "data": {
      "text/plain": [
       "RCall.RObject{RCall.RealSxp}\n",
       "     Fat2 Fat3 Fat4\n",
       "Fat1    0    0    0\n",
       "Fat2    1    0    0\n",
       "Fat3    0    1    0\n",
       "Fat4    0    0    1\n"
      ]
     },
     "execution_count": 53,
     "metadata": {},
     "output_type": "execute_result"
    }
   ],
   "source": [
    "R\"\"\"\n",
    "contrasts(sdonuts$variable)\n",
    "\"\"\""
   ]
  },
  {
   "cell_type": "code",
   "execution_count": 54,
   "metadata": {
    "collapsed": false
   },
   "outputs": [
    {
     "data": {
      "text/plain": [
       "RCall.RObject{RCall.VecSxp}\n",
       "\n",
       "Call:\n",
       "aov(formula = value ~ variable, data = sdonuts)\n",
       "\n",
       "Residuals:\n",
       "   Min     1Q Median     3Q    Max \n",
       "-16.00  -7.00   0.00   5.25  23.00 \n",
       "\n",
       "Coefficients:\n",
       "             Estimate Std. Error t value Pr(>|t|)    \n",
       "(Intercept)   172.000      4.101  41.943   <2e-16 ***\n",
       "variableFat2   13.000      5.799   2.242   0.0365 *  \n",
       "variableFat3    4.000      5.799   0.690   0.4983    \n",
       "variableFat4  -10.000      5.799  -1.724   0.1001    \n",
       "---\n",
       "Signif. codes:  0 ‘***’ 0.001 ‘**’ 0.01 ‘*’ 0.05 ‘.’ 0.1 ‘ ’ 1\n",
       "\n",
       "Residual standard error: 10.04 on 20 degrees of freedom\n",
       "Multiple R-squared:  0.4478,\tAdjusted R-squared:  0.365 \n",
       "F-statistic: 5.406 on 3 and 20 DF,  p-value: 0.006876\n",
       "\n"
      ]
     },
     "execution_count": 54,
     "metadata": {},
     "output_type": "execute_result"
    }
   ],
   "source": [
    "R\"summary.lm(aov(value~variable,data=sdonuts))\""
   ]
  },
  {
   "cell_type": "markdown",
   "metadata": {},
   "source": [
    "Si en lugar de eso queremos comparar contra el último nivel (`Fat4`). Todos los contrastes deben sumar `0`:"
   ]
  },
  {
   "cell_type": "code",
   "execution_count": 55,
   "metadata": {
    "collapsed": false
   },
   "outputs": [
    {
     "data": {
      "text/plain": [
       "RCall.RObject{RCall.RealSxp}\n",
       "     [,1] [,2] [,3]\n",
       "[1,]    1    0    0\n",
       "[2,]    0    1    0\n",
       "[3,]    0    0    1\n",
       "[4,]   -1   -1   -1\n"
      ]
     },
     "execution_count": 55,
     "metadata": {},
     "output_type": "execute_result"
    }
   ],
   "source": [
    "R\"contrastmatrix <- cbind( c(1,0,0,-1), c(0,1,0,-1), c(0,0,1,-1) )\""
   ]
  },
  {
   "cell_type": "code",
   "execution_count": 56,
   "metadata": {
    "collapsed": false
   },
   "outputs": [
    {
     "data": {
      "text/plain": [
       "RCall.RObject{RCall.RealSxp}\n",
       "     [,1] [,2] [,3]\n",
       "Fat1    1    0    0\n",
       "Fat2    0    1    0\n",
       "Fat3    0    0    1\n",
       "Fat4   -1   -1   -1\n"
      ]
     },
     "execution_count": 56,
     "metadata": {},
     "output_type": "execute_result"
    }
   ],
   "source": [
    "R\"\"\"\n",
    "contrasts(sdonuts$variable) <- contrastmatrix\n",
    "\n",
    "contrasts(sdonuts$variable)\n",
    "\"\"\""
   ]
  },
  {
   "cell_type": "code",
   "execution_count": 57,
   "metadata": {
    "collapsed": false
   },
   "outputs": [
    {
     "data": {
      "text/plain": [
       "RCall.RObject{RCall.VecSxp}\n",
       "\n",
       "Call:\n",
       "aov(formula = value ~ variable, data = sdonuts)\n",
       "\n",
       "Residuals:\n",
       "   Min     1Q Median     3Q    Max \n",
       "-16.00  -7.00   0.00   5.25  23.00 \n",
       "\n",
       "Coefficients:\n",
       "            Estimate Std. Error t value Pr(>|t|)    \n",
       "(Intercept)  173.750      2.050  84.739  < 2e-16 ***\n",
       "variable1     -1.750      3.551  -0.493  0.62755    \n",
       "variable2     11.250      3.551   3.168  0.00484 ** \n",
       "variable3      2.250      3.551   0.634  0.53355    \n",
       "---\n",
       "Signif. codes:  0 ‘***’ 0.001 ‘**’ 0.01 ‘*’ 0.05 ‘.’ 0.1 ‘ ’ 1\n",
       "\n",
       "Residual standard error: 10.04 on 20 degrees of freedom\n",
       "Multiple R-squared:  0.4478,\tAdjusted R-squared:  0.365 \n",
       "F-statistic: 5.406 on 3 and 20 DF,  p-value: 0.006876\n",
       "\n"
      ]
     },
     "execution_count": 57,
     "metadata": {},
     "output_type": "execute_result"
    }
   ],
   "source": [
    "R\"summary.lm(aov(value~variable,data=sdonuts))\""
   ]
  },
  {
   "cell_type": "code",
   "execution_count": 58,
   "metadata": {
    "collapsed": false
   },
   "outputs": [
    {
     "data": {
      "text/html": [
       "<table class=\"data-frame\"><thead><tr><th></th><th>variable</th><th>mean</th><th>min</th><th>max</th><th>diff</th></tr></thead><tbody><tr><th>1</th><td>Fat1</td><td>172.0</td><td>157.99878223558633</td><td>186.00121776441367</td><td>-1.75</td></tr><tr><th>2</th><td>Fat2</td><td>185.0</td><td>176.8440551864332</td><td>193.1559448135668</td><td>11.25</td></tr><tr><th>3</th><td>Fat3</td><td>176.0</td><td>165.63234067694603</td><td>186.36765932305397</td><td>2.25</td></tr><tr><th>4</th><td>Fat4</td><td>162.0</td><td>153.3716221124483</td><td>170.6283778875517</td><td>-11.75</td></tr></tbody></table>"
      ],
      "text/plain": [
       "4×5 DataFrames.DataFrame\n",
       "│ Row │ variable │ mean  │ min     │ max     │ diff   │\n",
       "├─────┼──────────┼───────┼─────────┼─────────┼────────┤\n",
       "│ 1   │ \"Fat1\"   │ 172.0 │ 157.999 │ 186.001 │ -1.75  │\n",
       "│ 2   │ \"Fat2\"   │ 185.0 │ 176.844 │ 193.156 │ 11.25  │\n",
       "│ 3   │ \"Fat3\"   │ 176.0 │ 165.632 │ 186.368 │ 2.25   │\n",
       "│ 4   │ \"Fat4\"   │ 162.0 │ 153.372 │ 170.628 │ -11.75 │"
      ]
     },
     "execution_count": 58,
     "metadata": {},
     "output_type": "execute_result"
    }
   ],
   "source": [
    "medias[:diff] = medias[:mean] .- 173.750\n",
    "medias"
   ]
  },
  {
   "cell_type": "markdown",
   "metadata": {},
   "source": [
    "### Alternativa no paramétricas al ANOVA"
   ]
  },
  {
   "cell_type": "markdown",
   "metadata": {},
   "source": [
    "> In case normality is violated a rank type of test is more appropriate. In\n",
    "particular, to test the null-hypothesis of equal distributions of groups *[...]* the [**Kruskal-Wallis rank sum test**](https://en.wikipedia.org/wiki/Kruskal%E2%80%93Wallis_one-way_analysis_of_variance) is recommended. This\n",
    "    test can very well be seen as a generalization of the [**Wilcoxon test**](https://en.wikipedia.org/wiki/Mann%E2%80%93Whitney_U_test) for testing\n",
    "the equality of two distributions. Because it is based on ranking the data,\n",
    "it is highly robust against non-normality, it, however, does not estimate the\n",
    "size of experimental effects.\n",
    ">> *Krijnen, Wim P. \"Applied statistics for bioinformatics using R.\" Institute for Life Science and Technology, Hanze University (2009).*"
   ]
  },
  {
   "cell_type": "code",
   "execution_count": 59,
   "metadata": {
    "collapsed": false
   },
   "outputs": [
    {
     "data": {
      "text/html": [
       "<table class=\"data-frame\"><thead><tr><th></th><th>Fat1</th><th>Fat2</th><th>Fat3</th><th>Fat4</th></tr></thead><tbody><tr><th>1</th><td>164.0</td><td>178.0</td><td>175.0</td><td>155.0</td></tr><tr><th>2</th><td>172.0</td><td>191.0</td><td>193.0</td><td>166.0</td></tr><tr><th>3</th><td>168.0</td><td>197.0</td><td>178.0</td><td>149.0</td></tr><tr><th>4</th><td>177.0</td><td>182.0</td><td>171.0</td><td>164.0</td></tr><tr><th>5</th><td>156.0</td><td>185.0</td><td>163.0</td><td>170.0</td></tr><tr><th>6</th><td>195.0</td><td>177.0</td><td>176.0</td><td>168.0</td></tr></tbody></table>"
      ],
      "text/plain": [
       "6×4 DataFrames.DataFrame\n",
       "│ Row │ Fat1  │ Fat2  │ Fat3  │ Fat4  │\n",
       "├─────┼───────┼───────┼───────┼───────┤\n",
       "│ 1   │ 164.0 │ 178.0 │ 175.0 │ 155.0 │\n",
       "│ 2   │ 172.0 │ 191.0 │ 193.0 │ 166.0 │\n",
       "│ 3   │ 168.0 │ 197.0 │ 178.0 │ 149.0 │\n",
       "│ 4   │ 177.0 │ 182.0 │ 171.0 │ 164.0 │\n",
       "│ 5   │ 156.0 │ 185.0 │ 163.0 │ 170.0 │\n",
       "│ 6   │ 195.0 │ 177.0 │ 176.0 │ 168.0 │"
      ]
     },
     "execution_count": 59,
     "metadata": {},
     "output_type": "execute_result"
    }
   ],
   "source": [
    "donuts"
   ]
  },
  {
   "cell_type": "code",
   "execution_count": 60,
   "metadata": {
    "collapsed": false
   },
   "outputs": [
    {
     "data": {
      "text/plain": [
       "Kruskal-Wallis rank sum test (chi-square approximation)\n",
       "-------------------------------------------------------\n",
       "Population details:\n",
       "    parameter of interest:   Location parameters\n",
       "    value under h_0:         all equal\n",
       "    point estimate:          NaN\n",
       "\n",
       "Test summary:\n",
       "    outcome with 95% confidence: reject h_0\n",
       "    two-sided p-value:           0.007980479499903971 (very significant)\n",
       "\n",
       "Details:\n",
       "    number of observation in each group: [6,6,6,6]\n",
       "    χ²-statistic:                        11.832244483159132\n",
       "    rank sums:                           [67.5,117.0,81.5,34.0]\n",
       "    degrees of freedom:                  3\n",
       "    adjustment for ties:                 0.9982608695652174\n"
      ]
     },
     "execution_count": 60,
     "metadata": {},
     "output_type": "execute_result"
    }
   ],
   "source": [
    "KruskalWallisTest(donuts[:Fat1],donuts[:Fat2],donuts[:Fat3],donuts[:Fat4])"
   ]
  },
  {
   "cell_type": "code",
   "execution_count": 61,
   "metadata": {
    "collapsed": false
   },
   "outputs": [
    {
     "data": {
      "text/plain": [
       "RCall.RObject{RCall.VecSxp}\n",
       "\n",
       "\tKruskal-Wallis rank sum test\n",
       "\n",
       "data:  sdonuts$value and sdonuts$variable\n",
       "Kruskal-Wallis chi-squared = 11.832, df = 3, p-value = 0.00798\n",
       "\n"
      ]
     },
     "execution_count": 61,
     "metadata": {},
     "output_type": "execute_result"
    }
   ],
   "source": [
    "R\"kruskal.test(sdonuts$value, sdonuts$variable)\""
   ]
  },
  {
   "cell_type": "code",
   "execution_count": 64,
   "metadata": {
    "collapsed": false
   },
   "outputs": [
    {
     "name": "stderr",
     "output_type": "stream",
     "text": [
      "\u001b[1m\u001b[31mWARNING: RCall.jl: Warning in posthoc.kruskal.nemenyi.test.default(sdonuts$value, sdonuts$variable) :\n",
      "  Ties are present, p-values are not corrected.\u001b[0m\n"
     ]
    },
    {
     "data": {
      "text/plain": [
       "RCall.RObject{RCall.VecSxp}\n",
       "\n",
       "\tPairwise comparisons using Tukey and Kramer (Nemenyi) test\t\n",
       "                   with Tukey-Dist approximation for independent samples \n",
       "\n",
       "data:  sdonuts$value and sdonuts$variable \n",
       "\n",
       "     Fat1   Fat2   Fat3  \n",
       "Fat2 0.1802 -      -     \n",
       "Fat3 0.9406 0.4685 -     \n",
       "Fat4 0.5198 0.0039 0.2117\n",
       "\n",
       "P value adjustment method: none \n"
      ]
     },
     "execution_count": 64,
     "metadata": {},
     "output_type": "execute_result"
    }
   ],
   "source": [
    "R\"\"\"\n",
    "# install.packages(\"PMCMR\")\n",
    "library(PMCMR)\n",
    "posthoc.kruskal.nemenyi.test(sdonuts$value, sdonuts$variable)\n",
    "\"\"\""
   ]
  },
  {
   "cell_type": "markdown",
   "metadata": {},
   "source": [
    "#### [Friedman test](https://en.wikipedia.org/wiki/Friedman_test)"
   ]
  },
  {
   "cell_type": "markdown",
   "metadata": {},
   "source": [
    "> Similar to the parametric repeated measures ANOVA, it is used to detect differences in treatments across multiple test attempts. The procedure involves ranking each row (or block) together, then considering the values of ranks by columns. Applicable to complete block designs *[...]* example *[...]*:  \n",
    "$n$ wine judges each rate $k$ different wines. Are any wines ranked consistently higher or lower than the others?  \n",
    "The Friedman test is used for one-way repeated measures analysis of variance by ranks."
   ]
  },
  {
   "cell_type": "markdown",
   "metadata": {},
   "source": [
    "#### [Cochran's Q test](https://en.wikipedia.org/wiki/Cochran%27s_Q_test)"
   ]
  },
  {
   "cell_type": "markdown",
   "metadata": {},
   "source": [
    "> In statistics, in the analysis of two-way randomized block designs where the response variable can take only two possible outcomes (coded as 0 and 1), Cochran's Q test is a non-parametric statistical test to verify whether k treatments have identical effects.*[...]*   \n",
    "> Requires that there only be a binary response (success/failure or 1/0) and that there be 2 or more matched groups (groups of the same size). The test assesses whether the proportion of successes is the same between groups."
   ]
  },
  {
   "cell_type": "markdown",
   "metadata": {},
   "source": [
    "> Cochran's Q test is based on the following assumptions:  \n",
    "1 - A large sample approximation; in particular, it assumes that b is \"large\".  \n",
    "2 - The blocks were randomly selected from the population of all possible blocks.  \n",
    "3 - The outcomes of the treatments can be coded as binary responses (i.e., a \"0\" or \"1\") in a way that is common to all treatments within each block."
   ]
  },
  {
   "cell_type": "markdown",
   "metadata": {},
   "source": [
    "[Cochran’s Q test en Python](http://statsmodels.sourceforge.net/stable/generated/statsmodels.sandbox.stats.runs.cochrans_q.html#statsmodels.sandbox.stats.runs.cochrans_q)\n",
    "\n",
    "> Rows are blocks and columns are treatments."
   ]
  },
  {
   "cell_type": "code",
   "execution_count": 65,
   "metadata": {
    "collapsed": true
   },
   "outputs": [],
   "source": [
    "using PyCall"
   ]
  },
  {
   "cell_type": "code",
   "execution_count": 66,
   "metadata": {
    "collapsed": true
   },
   "outputs": [],
   "source": [
    "@pyimport statsmodels.sandbox.stats.runs as py_stats"
   ]
  },
  {
   "cell_type": "code",
   "execution_count": 67,
   "metadata": {
    "collapsed": false
   },
   "outputs": [
    {
     "data": {
      "text/plain": [
       "8×3 Array{Int64,2}:\n",
       " 1  0  0\n",
       " 1  1  0\n",
       " 1  0  0\n",
       " 1  0  0\n",
       " 1  1  0\n",
       " 1  1  0\n",
       " 1  1  0\n",
       " 0  0  1"
      ]
     },
     "execution_count": 67,
     "metadata": {},
     "output_type": "execute_result"
    }
   ],
   "source": [
    "mat = [ 1  0  0\n",
    "        1  1  0\n",
    "        1  0  0\n",
    "        1  0  0\n",
    "        1  1  0\n",
    "        1  1  0\n",
    "        1  1  0\n",
    "        0  0  1 ]"
   ]
  },
  {
   "cell_type": "code",
   "execution_count": 68,
   "metadata": {
    "collapsed": false
   },
   "outputs": [
    {
     "data": {
      "text/plain": [
       "(6.75,0.034218118311666025)"
      ]
     },
     "execution_count": 68,
     "metadata": {},
     "output_type": "execute_result"
    }
   ],
   "source": [
    "py_stats.cochrans_q(mat)"
   ]
  }
 ],
 "metadata": {
  "kernelspec": {
   "display_name": "Julia 0.5.0",
   "language": "julia",
   "name": "julia-0.5"
  },
  "language_info": {
   "file_extension": ".jl",
   "mimetype": "application/julia",
   "name": "julia",
   "version": "0.5.0"
  }
 },
 "nbformat": 4,
 "nbformat_minor": 0
}
