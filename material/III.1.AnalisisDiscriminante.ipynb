{
 "cells": [
  {
   "cell_type": "markdown",
   "metadata": {},
   "source": [
    "### Unidad III. Agrupamiento y clasificación. \n",
    "\n",
    "## El análisis discriminante de dos poblaciones como método de comparación Multivariada y técnicas de clasificación. Ideas generales de Fischer.\n",
    "\n",
    "- El análisis discriminante de dos poblaciones por técnicas de regresión. \n",
    "- Generalización del problema de clasificación a más de dos poblaciones.\n",
    "- Otras técnicas paramétricas.\n",
    "- Alternativas no paramétricas del análisis discriminante. Modelos Log-lineales."
   ]
  },
  {
   "cell_type": "code",
   "execution_count": 1,
   "metadata": {
    "collapsed": true
   },
   "outputs": [],
   "source": [
    "# Truncate IJulia outputs at:\n",
    "ENV[\"LINES\"]   = 15 \n",
    "ENV[\"COLUMNS\"] = 60;"
   ]
  },
  {
   "cell_type": "code",
   "execution_count": 3,
   "metadata": {
    "collapsed": false
   },
   "outputs": [
    {
     "data": {
      "text/html": [
       "<table class=\"data-frame\"><thead><tr><th></th><th>Location</th><th>Town</th><th>Mortality</th><th>Hardness</th></tr></thead><tbody><tr><th>1</th><td>South</td><td>Bath</td><td>1247</td><td>105</td></tr><tr><th>2</th><td>North</td><td>Birkenhead</td><td>1668</td><td>17</td></tr><tr><th>3</th><td>South</td><td>Birmingham</td><td>1466</td><td>5</td></tr><tr><th>4</th><td>North</td><td>Blackburn</td><td>1800</td><td>14</td></tr><tr><th>5</th><td>North</td><td>Blackpool</td><td>1609</td><td>18</td></tr><tr><th>6</th><td>North</td><td>Bolton</td><td>1558</td><td>10</td></tr></tbody></table>"
      ],
      "text/plain": [
       "6×4 DataFrames.DataFrame\n",
       "│ Row │ Location │ Town         │ Mortality │ Hardness │\n",
       "├─────┼──────────┼──────────────┼───────────┼──────────┤\n",
       "│ 1   │ \"South\"  │ \"Bath\"       │ 1247      │ 105      │\n",
       "│ 2   │ \"North\"  │ \"Birkenhead\" │ 1668      │ 17       │\n",
       "│ 3   │ \"South\"  │ \"Birmingham\" │ 1466      │ 5        │\n",
       "│ 4   │ \"North\"  │ \"Blackburn\"  │ 1800      │ 14       │\n",
       "│ 5   │ \"North\"  │ \"Blackpool\"  │ 1609      │ 18       │\n",
       "│ 6   │ \"North\"  │ \"Bolton\"     │ 1558      │ 10       │"
      ]
     },
     "execution_count": 3,
     "metadata": {},
     "output_type": "execute_result"
    }
   ],
   "source": [
    "using RCall\n",
    "using RDatasets\n",
    "\n",
    "water = dataset(\"HSAUR\", \"water\")\n",
    "\n",
    "head(water)"
   ]
  },
  {
   "cell_type": "markdown",
   "metadata": {},
   "source": [
    "### [Análisis discriminante lineal](https://en.wikipedia.org/wiki/Linear_discriminant_analysis)"
   ]
  },
  {
   "cell_type": "markdown",
   "metadata": {},
   "source": [
    "> As I have described before, Linear Discriminant Analysis (LDA) can be seen from two different angles. The first classify a given sample of predictors $x$ to the class $C_l$ with highest posterior probability $\\pi(y = C_l|x)$. **It minimizes the total probability of misclassification.** To compute $\\pi(y = C_l|x)$ it uses Bayes’ rule and assume that $\\pi(x|y = C_l)$ follows a Gaussian distribution with class-specific mean $\\mu_l$ and common covariance matrix $\\Sigma$. The second tries to find **a linear combination of the predictors that gives maximum separation between the centers of the data while at the same time minimizing the variation within each group of data.**  \n",
    "*[...]* pre-processing of the data is important for the application of LDA. **Users should transform, center and scale the data prior to the application of LDA.** It is also useful to remove near-zero variance predictors (almost constant predictors across units). Given that we need to invert the covariance matrix, it is necessary to have less predictors than samples. Attention is therefore needed when using cross-validation.  \n",
    ">> - [*Thiago G. Martins, Computing and visualizing LDA in R*](https://tgmstat.wordpress.com/2014/01/15/computing-and-visualizing-lda-in-r/)"
   ]
  },
  {
   "cell_type": "markdown",
   "metadata": {},
   "source": [
    "LDA tiene como supuesto principal que las variables independientes se distribuyen de manera normal. La biblioteca de Julia [**DiscriminantAnalysis**](https://github.com/trthatcher/DiscriminantAnalysis.jl) posee los métodos necesarios para realizar **LDA** y [**QDA** *(Quadratic discriminant analysis)*](https://en.wikipedia.org/wiki/Quadratic_classifier#Quadratic_discriminant_analysis).  \n",
    "\n",
    "```julia\n",
    "Pkg.add(\"DiscriminantAnalysis\")\n",
    "```"
   ]
  },
  {
   "cell_type": "code",
   "execution_count": 4,
   "metadata": {
    "collapsed": false
   },
   "outputs": [],
   "source": [
    "using DiscriminantAnalysis"
   ]
  },
  {
   "cell_type": "code",
   "execution_count": 5,
   "metadata": {
    "collapsed": false
   },
   "outputs": [
    {
     "data": {
      "text/plain": [
       "61×2 Array{Float64,2}:\n",
       " 1247.0  105.0\n",
       " 1668.0   17.0\n",
       " 1466.0    5.0\n",
       " 1800.0   14.0\n",
       " 1609.0   18.0\n",
       "    ⋮         \n",
       " 1527.0   60.0\n",
       " 1627.0   53.0\n",
       " 1486.0  122.0\n",
       " 1485.0   81.0\n",
       " 1378.0   71.0"
      ]
     },
     "execution_count": 5,
     "metadata": {},
     "output_type": "execute_result"
    }
   ],
   "source": [
    "X = convert(Matrix{Float64}, water[:,[:Mortality, :Hardness]])"
   ]
  },
  {
   "cell_type": "code",
   "execution_count": 6,
   "metadata": {
    "collapsed": false
   },
   "outputs": [
    {
     "data": {
      "text/plain": [
       "1×2 Array{Float64,2}:\n",
       " 1524.15  47.1803"
      ]
     },
     "execution_count": 6,
     "metadata": {},
     "output_type": "execute_result"
    }
   ],
   "source": [
    "X̄ = mean(X, 1)"
   ]
  },
  {
   "cell_type": "code",
   "execution_count": 7,
   "metadata": {
    "collapsed": false
   },
   "outputs": [
    {
     "data": {
      "text/plain": [
       "1×2 Array{Float64,2}:\n",
       " 187.669  38.094"
      ]
     },
     "execution_count": 7,
     "metadata": {},
     "output_type": "execute_result"
    }
   ],
   "source": [
    "σₓ = std(X,1)"
   ]
  },
  {
   "cell_type": "code",
   "execution_count": 8,
   "metadata": {
    "collapsed": false
   },
   "outputs": [
    {
     "data": {
      "text/plain": [
       "61×2 Array{Float64,2}:\n",
       " -1.47679     1.51782 \n",
       "  0.766523   -0.79226 \n",
       " -0.309841   -1.10727 \n",
       "  1.46989    -0.871013\n",
       "  0.45214    -0.766009\n",
       "  ⋮                   \n",
       "  0.0151994   0.336528\n",
       "  0.548053    0.152771\n",
       " -0.203271    1.96408 \n",
       " -0.208599    0.887796\n",
       " -0.778753    0.625287"
      ]
     },
     "execution_count": 8,
     "metadata": {},
     "output_type": "execute_result"
    }
   ],
   "source": [
    "X = (X .- X̄) ./ σₓ"
   ]
  },
  {
   "cell_type": "code",
   "execution_count": 9,
   "metadata": {
    "collapsed": false
   },
   "outputs": [
    {
     "data": {
      "text/plain": [
       "2-element DataArrays.DataArray{String,1}:\n",
       " \"South\"\n",
       " \"North\""
      ]
     },
     "execution_count": 9,
     "metadata": {},
     "output_type": "execute_result"
    }
   ],
   "source": [
    "unique(water[:Location])"
   ]
  },
  {
   "cell_type": "code",
   "execution_count": 10,
   "metadata": {
    "collapsed": false
   },
   "outputs": [
    {
     "data": {
      "text/plain": [
       "61-element Array{Int64,1}:\n",
       " 2\n",
       " 1\n",
       " 2\n",
       " 1\n",
       " 1\n",
       " ⋮\n",
       " 2\n",
       " 2\n",
       " 2\n",
       " 2\n",
       " 1"
      ]
     },
     "execution_count": 10,
     "metadata": {},
     "output_type": "execute_result"
    }
   ],
   "source": [
    "y = [ Int(level == \"South\") + 1 for level in water[:Location] ] # Necesita niveles: 1 2 3 ..."
   ]
  },
  {
   "cell_type": "code",
   "execution_count": 11,
   "metadata": {
    "collapsed": false
   },
   "outputs": [
    {
     "name": "stderr",
     "output_type": "stream",
     "text": [
      "\u001b[1m\u001b[31mWARNING: sub is deprecated, use view instead.\u001b[0m\n",
      " in depwarn(::String, ::Symbol) at ./deprecated.jl:64\n",
      " in sub(::Array{Float64,"
     ]
    },
    {
     "data": {
      "text/plain": [
       "Linear Discriminant Model\n",
       "\n",
       "Regularization Parameters:\n",
       "    γ = N/A\n",
       "\n",
       "Class Priors:\n",
       "    Class 1 Probability: 50.0%\n",
       "    Class 2 Probability: 50.0%\n",
       "\n",
       "Class Means:\n",
       "    Class 1 Mean: [0.583222, -0.440498]\n",
       "    Class 2 Mean: [-0.785106, 0.592978]\n",
       "\n"
      ]
     },
     "execution_count": 11,
     "metadata": {},
     "output_type": "execute_result"
    }
   ],
   "source": [
    "LDA = lda(X,y)"
   ]
  },
  {
   "cell_type": "code",
   "execution_count": 52,
   "metadata": {
    "collapsed": false
   },
   "outputs": [
    {
     "data": {
      "text/html": [
       "<img src=\"data:image/png;base64,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\" />"
      ]
     },
     "execution_count": 52,
     "metadata": {},
     "output_type": "execute_result"
    }
   ],
   "source": [
    "using Plots, StatPlots\n",
    "pyplot(size=(400,300))\n",
    "\n",
    "Plots.scatter(X[:,1], X[:,2], group=y)"
   ]
  },
  {
   "cell_type": "code",
   "execution_count": 43,
   "metadata": {
    "collapsed": false
   },
   "outputs": [
    {
     "data": {
      "text/plain": [
       "2-element Array{Int64,1}:\n",
       " 2\n",
       " 2"
      ]
     },
     "execution_count": 43,
     "metadata": {},
     "output_type": "execute_result"
    }
   ],
   "source": [
    "classify(LDA, [ -1.  1.\n",
    "                 1. -1. ] )"
   ]
  },
  {
   "cell_type": "markdown",
   "metadata": {},
   "source": [
    "#### Más de dos niveles"
   ]
  },
  {
   "cell_type": "code",
   "execution_count": 53,
   "metadata": {
    "collapsed": false
   },
   "outputs": [
    {
     "data": {
      "text/html": [
       "<table class=\"data-frame\"><thead><tr><th></th><th>SepalLength</th><th>SepalWidth</th><th>PetalLength</th><th>PetalWidth</th><th>Species</th></tr></thead><tbody><tr><th>1</th><td>5.1</td><td>3.5</td><td>1.4</td><td>0.2</td><td>setosa</td></tr><tr><th>2</th><td>4.9</td><td>3.0</td><td>1.4</td><td>0.2</td><td>setosa</td></tr><tr><th>3</th><td>4.7</td><td>3.2</td><td>1.3</td><td>0.2</td><td>setosa</td></tr><tr><th>4</th><td>4.6</td><td>3.1</td><td>1.5</td><td>0.2</td><td>setosa</td></tr><tr><th>5</th><td>5.0</td><td>3.6</td><td>1.4</td><td>0.2</td><td>setosa</td></tr><tr><th>6</th><td>5.4</td><td>3.9</td><td>1.7</td><td>0.4</td><td>setosa</td></tr></tbody></table>"
      ],
      "text/plain": [
       "6×5 DataFrames.DataFrame\n",
       "│ Row │ SepalLength │ SepalWidth │ PetalLength │\n",
       "├─────┼─────────────┼────────────┼─────────────┤\n",
       "│ 1   │ 5.1         │ 3.5        │ 1.4         │\n",
       "│ 2   │ 4.9         │ 3.0        │ 1.4         │\n",
       "│ 3   │ 4.7         │ 3.2        │ 1.3         │\n",
       "│ 4   │ 4.6         │ 3.1        │ 1.5         │\n",
       "│ 5   │ 5.0         │ 3.6        │ 1.4         │\n",
       "│ 6   │ 5.4         │ 3.9        │ 1.7         │\n",
       "\n",
       "│ Row │ PetalWidth │ Species  │\n",
       "├─────┼────────────┼──────────┤\n",
       "│ 1   │ 0.2        │ \"setosa\" │\n",
       "│ 2   │ 0.2        │ \"setosa\" │\n",
       "│ 3   │ 0.2        │ \"setosa\" │\n",
       "│ 4   │ 0.2        │ \"setosa\" │\n",
       "│ 5   │ 0.2        │ \"setosa\" │\n",
       "│ 6   │ 0.4        │ \"setosa\" │"
      ]
     },
     "execution_count": 53,
     "metadata": {},
     "output_type": "execute_result"
    }
   ],
   "source": [
    "iris = dataset(\"datasets\",\"iris\")\n",
    "head(iris)"
   ]
  },
  {
   "cell_type": "code",
   "execution_count": 54,
   "metadata": {
    "collapsed": false
   },
   "outputs": [
    {
     "data": {
      "text/plain": [
       "150×2 Array{Float64,2}:\n",
       " 1.4  0.2\n",
       " 1.4  0.2\n",
       " 1.3  0.2\n",
       " 1.5  0.2\n",
       " 1.4  0.2\n",
       " ⋮       \n",
       " 5.2  2.3\n",
       " 5.0  1.9\n",
       " 5.2  2.0\n",
       " 5.4  2.3\n",
       " 5.1  1.8"
      ]
     },
     "execution_count": 54,
     "metadata": {},
     "output_type": "execute_result"
    }
   ],
   "source": [
    "X = convert(Matrix{Float64}, iris[:,3:4])"
   ]
  },
  {
   "cell_type": "code",
   "execution_count": 55,
   "metadata": {
    "collapsed": false
   },
   "outputs": [
    {
     "data": {
      "text/plain": [
       "150×2 Array{Float64,2}:\n",
       " -1.33575   -1.31105 \n",
       " -1.33575   -1.31105 \n",
       " -1.3924    -1.31105 \n",
       " -1.2791    -1.31105 \n",
       " -1.33575   -1.31105 \n",
       "  ⋮                  \n",
       "  0.816859   1.44399 \n",
       "  0.703564   0.919223\n",
       "  0.816859   1.05042 \n",
       "  0.930154   1.44399 \n",
       "  0.760211   0.788031"
      ]
     },
     "execution_count": 55,
     "metadata": {},
     "output_type": "execute_result"
    }
   ],
   "source": [
    "X = (X .- mean(X,1)) ./ std(X,1)"
   ]
  },
  {
   "cell_type": "code",
   "execution_count": 56,
   "metadata": {
    "collapsed": false
   },
   "outputs": [
    {
     "data": {
      "text/plain": [
       "3-element DataArrays.DataArray{String,1}:\n",
       " \"setosa\"    \n",
       " \"versicolor\"\n",
       " \"virginica\" "
      ]
     },
     "execution_count": 56,
     "metadata": {},
     "output_type": "execute_result"
    }
   ],
   "source": [
    "unique(iris[:Species])"
   ]
  },
  {
   "cell_type": "code",
   "execution_count": 57,
   "metadata": {
    "collapsed": false
   },
   "outputs": [
    {
     "data": {
      "text/plain": [
       "150-element Array{Int64,1}:\n",
       " 1\n",
       " 1\n",
       " 1\n",
       " 1\n",
       " 1\n",
       " ⋮\n",
       " 3\n",
       " 3\n",
       " 3\n",
       " 3\n",
       " 3"
      ]
     },
     "execution_count": 57,
     "metadata": {},
     "output_type": "execute_result"
    }
   ],
   "source": [
    "y = [ sp == \"setosa\" ? 1 : sp == \"versicolor\" ? 2 : 3 for sp in iris[:Species] ] "
   ]
  },
  {
   "cell_type": "code",
   "execution_count": 58,
   "metadata": {
    "collapsed": false
   },
   "outputs": [
    {
     "data": {
      "text/plain": [
       "Linear Discriminant Model\n",
       "\n",
       "Regularization Parameters:\n",
       "    γ = N/A\n",
       "\n",
       "Class Priors:\n",
       "    Class 1 Probability: 33.3333%\n",
       "    Class 2 Probability: 33.3333%\n",
       "    Class 3 Probability: 33.3333%\n",
       "\n",
       "Class Means:\n",
       "    Class 1 Mean: [-1.30063, -1.2507]\n",
       "    Class 2 Mean: [0.284371, 0.166177]\n",
       "    Class 3 Mean: [1.01626, 1.08453]\n",
       "\n"
      ]
     },
     "execution_count": 58,
     "metadata": {},
     "output_type": "execute_result"
    }
   ],
   "source": [
    "LDA = lda(X,y)"
   ]
  },
  {
   "cell_type": "code",
   "execution_count": 77,
   "metadata": {
    "collapsed": false
   },
   "outputs": [
    {
     "data": {
      "text/html": [
       "<img src=\"data:image/png;base64,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\" />"
      ]
     },
     "execution_count": 77,
     "metadata": {},
     "output_type": "execute_result"
    }
   ],
   "source": [
    "xmin, xmax = extrema(X[:,1])\n",
    "ymin, ymax = extrema(X[:,2])\n",
    "\n",
    "tmin = minimum([xmin,ymin])\n",
    "tmax = maximum([xmax,ymax])\n",
    "\n",
    "val = collect(tmin:0.05:tmax)\n",
    "\n",
    "Plots.scatter(X[:,1], X[:,2], group=y)\n",
    "Plots.scatter!(LDA.M[:,1], LDA.M[:,2], label=\"means\", markercolor=:white, legend=:bottom)"
   ]
  },
  {
   "cell_type": "markdown",
   "metadata": {},
   "source": [
    "### [MultivariateStats.jl](http://multivariatestatsjl.readthedocs.io/en/latest/index.html)"
   ]
  },
  {
   "cell_type": "code",
   "execution_count": 78,
   "metadata": {
    "collapsed": true
   },
   "outputs": [],
   "source": [
    "using MultivariateStats"
   ]
  },
  {
   "cell_type": "code",
   "execution_count": 79,
   "metadata": {
    "collapsed": false
   },
   "outputs": [
    {
     "data": {
      "text/plain": [
       "150×4 Array{Float64,2}:\n",
       " -0.897674    1.0156     -1.33575   -1.31105 \n",
       " -1.1392     -0.131539   -1.33575   -1.31105 \n",
       " -1.38073     0.327318   -1.3924    -1.31105 \n",
       " -1.50149     0.0978893  -1.2791    -1.31105 \n",
       " -1.01844     1.24503    -1.33575   -1.31105 \n",
       "  ⋮                                          \n",
       "  1.03454    -0.131539    0.816859   1.44399 \n",
       "  0.551486   -1.27868     0.703564   0.919223\n",
       "  0.793012   -0.131539    0.816859   1.05042 \n",
       "  0.430722    0.786174    0.930154   1.44399 \n",
       "  0.0684325  -0.131539    0.760211   0.788031"
      ]
     },
     "execution_count": 79,
     "metadata": {},
     "output_type": "execute_result"
    }
   ],
   "source": [
    "X = convert(Matrix{Float64}, iris[:,1:4])\n",
    "X = (X .- mean(X,1)) ./ std(X,1)"
   ]
  },
  {
   "cell_type": "code",
   "execution_count": 80,
   "metadata": {
    "collapsed": false
   },
   "outputs": [
    {
     "data": {
      "text/plain": [
       "4×150 Array{Float64,2}:\n",
       " -0.897674  -1.1392    -1.38073   …  0.430722   0.0684325\n",
       "  1.0156    -0.131539   0.327318     0.786174  -0.131539 \n",
       " -1.33575   -1.33575   -1.3924       0.930154   0.760211 \n",
       " -1.31105   -1.31105   -1.31105      1.44399    0.788031 "
      ]
     },
     "execution_count": 80,
     "metadata": {},
     "output_type": "execute_result"
    }
   ],
   "source": [
    "X = X'"
   ]
  },
  {
   "cell_type": "code",
   "execution_count": 81,
   "metadata": {
    "collapsed": false
   },
   "outputs": [
    {
     "data": {
      "text/plain": [
       "4×2 Array{Float64,2}:\n",
       " -0.0566417   0.00164458\n",
       " -0.0551643   0.0778146 \n",
       "  0.320487   -0.135681  \n",
       "  0.17669     0.178491  "
      ]
     },
     "execution_count": 81,
     "metadata": {},
     "output_type": "execute_result"
    }
   ],
   "source": [
    "LDA = fit(MulticlassLDA, 3, X, y)\n",
    "projection(LDA)"
   ]
  },
  {
   "cell_type": "code",
   "execution_count": 82,
   "metadata": {
    "collapsed": false
   },
   "outputs": [
    {
     "data": {
      "text/plain": [
       "150×2 Array{Float64,2}:\n",
       " -0.66492    0.0247782\n",
       " -0.587959  -0.0648833\n",
       " -0.617745  -0.0218888\n",
       " -0.561939  -0.0553123\n",
       " -0.670736   0.0424325\n",
       "  ⋮                   \n",
       "  0.465591   0.138373 \n",
       "  0.427201  -0.0299806\n",
       "  0.40973    0.0677256\n",
       "  0.485477   0.193419 \n",
       "  0.386255   0.0273866"
      ]
     },
     "execution_count": 82,
     "metadata": {},
     "output_type": "execute_result"
    }
   ],
   "source": [
    "XY = transform(LDA, X)'"
   ]
  },
  {
   "cell_type": "code",
   "execution_count": 83,
   "metadata": {
    "collapsed": false
   },
   "outputs": [
    {
     "data": {
      "text/html": [
       "<img src=\"data:image/png;base64,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\" />"
      ]
     },
     "execution_count": 83,
     "metadata": {},
     "output_type": "execute_result"
    }
   ],
   "source": [
    "Plots.scatter(XY[:,1], XY[:,2], group=y)\n",
    "Plots.scatter!(LDA.pmeans[1,:]', LDA.pmeans[2,:]', label=\"means\", markercolor=:white, legend=:top)"
   ]
  },
  {
   "cell_type": "markdown",
   "metadata": {},
   "source": [
    "> In the pratice of **classification**, one can transform testing samples using this transform method, and compare them with `M.pmeans`."
   ]
  },
  {
   "cell_type": "markdown",
   "metadata": {},
   "source": [
    "> When these distributions are assumed to be normal, it turns out that the model is very **similar to logistic regression.** Why do we need this method?  \n",
    " - When the classes are well-separated, the parameter estimates for the logistic model are surprisingly unstable. LDA does not suffer from this.  \n",
    " - If n is small and the distribution of the predictors X is approximately normal in each of the classes, the LDA model is more stable than logistic.  \n",
    " - *[...]* LDA is the preferred method when dealing with > 2 response classes.  \n",
    ">> [Ryan Kelly, Classification: Linear Discriminant Analysis](https://rpubs.com/ryankelly/LDA-QDA)"
   ]
  },
  {
   "cell_type": "markdown",
   "metadata": {},
   "source": [
    "### [Modelos Log-Lineales](https://en.wikipedia.org/wiki/Log-linear_model): [Regresión de Poisson](https://en.wikipedia.org/wiki/Poisson_regression)"
   ]
  },
  {
   "cell_type": "markdown",
   "metadata": {},
   "source": [
    "> Poisson regression is a form of regression analysis used to model count data and contingency tables. Poisson regression assumes the response variable Y has a Poisson distribution, and assumes the logarithm of its expected value can be modeled by a linear combination of unknown parameters. A Poisson regression model is sometimes known as a log-linear model, especially when used to model contingency tables.  \n",
    "Poisson regression models are generalized linear models with the logarithm as the (canonical) link function, and the Poisson distribution function as the assumed probability distribution of the response."
   ]
  },
  {
   "cell_type": "code",
   "execution_count": 84,
   "metadata": {
    "collapsed": false
   },
   "outputs": [
    {
     "name": "stdout",
     "output_type": "stream",
     "text": [
      "  1        2        3     28.3     3.05        8\r\n",
      "  2        3        3     26.0     2.60        4\r\n",
      "  3        3        3     25.6     2.15        0\r\n",
      "  4        4        2     21.0     1.85        0\r\n",
      "  5        2        3     29.0     3.00        1\r\n",
      "  6        1        2     25.0     2.30        3\r\n",
      "  7        4        3     26.2     1.30        0\r\n",
      "  8        2        3     24.9     2.10        0\r\n",
      "  9        2        1     25.7     2.00        8\r\n",
      " 10        2        3     27.5     3.15        6\r\n"
     ]
    }
   ],
   "source": [
    ";head crab.txt"
   ]
  },
  {
   "cell_type": "markdown",
   "metadata": {},
   "source": [
    "> This problem refers to data from a study of nesting [horseshoe crabs](https://en.wikipedia.org/wiki/Horseshoe_crab) (J. Brockmann, Ethology 1996); see also Agresti (1996) Sec. 4.3 and Agresti (2002) Sec. 4.3.  \n",
    "Each female horseshoe crab in the study had a male crab attached to her in her nest. The study investigated factors that affect whether the female crab had any other males, called satellites, residing near her. Explanatory variables that are thought to affect this included the female crab’s color (C), spine condition (S), weight (Wt), and carapace width (W). The response outcome for each female crab is her number of satellites (Sa). There are 173 females in this study.\n",
    ">> - *https://onlinecourses.science.psu.edu/stat504/node/169*"
   ]
  },
  {
   "cell_type": "code",
   "execution_count": 85,
   "metadata": {
    "collapsed": false
   },
   "outputs": [
    {
     "data": {
      "text/html": [
       "<table class=\"data-frame\"><thead><tr><th></th><th>x1</th><th>x2</th><th>x3</th><th>x4</th><th>x5</th><th>x6</th></tr></thead><tbody><tr><th>1</th><td>1</td><td>2</td><td>3</td><td>28.3</td><td>3.05</td><td>8</td></tr><tr><th>2</th><td>2</td><td>3</td><td>3</td><td>26.0</td><td>2.6</td><td>4</td></tr><tr><th>3</th><td>3</td><td>3</td><td>3</td><td>25.6</td><td>2.15</td><td>0</td></tr></tbody></table>"
      ],
      "text/plain": [
       "3×6 DataFrames.DataFrame\n",
       "│ Row │ x1 │ x2 │ x3 │ x4   │ x5   │ x6 │\n",
       "├─────┼────┼────┼────┼──────┼──────┼────┤\n",
       "│ 1   │ 1  │ 2  │ 3  │ 28.3 │ 3.05 │ 8  │\n",
       "│ 2   │ 2  │ 3  │ 3  │ 26.0 │ 2.6  │ 4  │\n",
       "│ 3   │ 3  │ 3  │ 3  │ 25.6 │ 2.15 │ 0  │"
      ]
     },
     "execution_count": 85,
     "metadata": {},
     "output_type": "execute_result"
    }
   ],
   "source": [
    "using DataFrames\n",
    "crab = readtable(\"crab.txt\", separator=' ', header=false)\n",
    "head(crab,3)"
   ]
  },
  {
   "cell_type": "code",
   "execution_count": 86,
   "metadata": {
    "collapsed": false
   },
   "outputs": [
    {
     "data": {
      "text/html": [
       "<table class=\"data-frame\"><thead><tr><th></th><th>Obs</th><th>C</th><th>S</th><th>W</th><th>Wt</th><th>Sa</th></tr></thead><tbody><tr><th>1</th><td>1</td><td>2</td><td>3</td><td>28.3</td><td>3.05</td><td>8</td></tr><tr><th>2</th><td>2</td><td>3</td><td>3</td><td>26.0</td><td>2.6</td><td>4</td></tr><tr><th>3</th><td>3</td><td>3</td><td>3</td><td>25.6</td><td>2.15</td><td>0</td></tr><tr><th>4</th><td>4</td><td>4</td><td>2</td><td>21.0</td><td>1.85</td><td>0</td></tr><tr><th>5</th><td>5</td><td>2</td><td>3</td><td>29.0</td><td>3.0</td><td>1</td></tr><tr><th>6</th><td>6</td><td>1</td><td>2</td><td>25.0</td><td>2.3</td><td>3</td></tr></tbody></table>"
      ],
      "text/plain": [
       "6×6 DataFrames.DataFrame\n",
       "│ Row │ Obs │ C │ S │ W    │ Wt   │ Sa │\n",
       "├─────┼─────┼───┼───┼──────┼──────┼────┤\n",
       "│ 1   │ 1   │ 2 │ 3 │ 28.3 │ 3.05 │ 8  │\n",
       "│ 2   │ 2   │ 3 │ 3 │ 26.0 │ 2.6  │ 4  │\n",
       "│ 3   │ 3   │ 3 │ 3 │ 25.6 │ 2.15 │ 0  │\n",
       "│ 4   │ 4   │ 4 │ 2 │ 21.0 │ 1.85 │ 0  │\n",
       "│ 5   │ 5   │ 2 │ 3 │ 29.0 │ 3.0  │ 1  │\n",
       "│ 6   │ 6   │ 1 │ 2 │ 25.0 │ 2.3  │ 3  │"
      ]
     },
     "execution_count": 86,
     "metadata": {},
     "output_type": "execute_result"
    }
   ],
   "source": [
    "names!(crab,[:Obs,:C,:S,:W,:Wt,:Sa])\n",
    "head(crab)"
   ]
  },
  {
   "cell_type": "code",
   "execution_count": 87,
   "metadata": {
    "collapsed": true
   },
   "outputs": [],
   "source": [
    "using GLM"
   ]
  },
  {
   "cell_type": "code",
   "execution_count": 89,
   "metadata": {
    "collapsed": false
   },
   "outputs": [
    {
     "data": {
      "text/plain": [
       "DataFrames.DataFrameRegressionModel{GLM.GeneralizedLinearModel{GLM.GlmResp{Array{Float64,1},Distributions.Poisson{Float64},GLM.LogLink},GLM.DensePredChol{Float64,Base.LinAlg.Cholesky{Float64,Array{Float64,2}}}},Array{Float64,2}}\n",
       "\n",
       "Formula: Sa ~ 1 + W\n",
       "\n",
       "Coefficients:\n",
       "             Estimate Std.Error  z value Pr(>|z|)\n",
       "(Intercept)  -3.30476  0.542219 -6.09488    <1e-8\n",
       "W            0.164045 0.0199646  8.21678   <1e-15\n"
      ]
     },
     "execution_count": 89,
     "metadata": {},
     "output_type": "execute_result"
    }
   ],
   "source": [
    "modelo = glm(@formula(Sa ~ W), crab, Poisson(), LogLink()) # Number of satellites ~ Carapace width"
   ]
  },
  {
   "cell_type": "code",
   "execution_count": 90,
   "metadata": {
    "collapsed": false
   },
   "outputs": [
    {
     "data": {
      "text/plain": [
       "(-3.3047571452447513,0.16404508398650935)"
      ]
     },
     "execution_count": 90,
     "metadata": {},
     "output_type": "execute_result"
    }
   ],
   "source": [
    "α, β = (coef(modelo)...)"
   ]
  },
  {
   "cell_type": "code",
   "execution_count": 91,
   "metadata": {
    "collapsed": false
   },
   "outputs": [
    {
     "data": {
      "text/plain": [
       "log_μ (generic function with 1 method)"
      ]
     },
     "execution_count": 91,
     "metadata": {},
     "output_type": "execute_result"
    }
   ],
   "source": [
    "log_μ(Wᵢ) = α + β*Wᵢ # ̄μ"
   ]
  },
  {
   "cell_type": "code",
   "execution_count": 92,
   "metadata": {
    "collapsed": false
   },
   "outputs": [
    {
     "data": {
      "text/html": [
       "1.1782674348884261"
      ],
      "text/plain": [
       "1.1782674348884261"
      ]
     },
     "execution_count": 92,
     "metadata": {},
     "output_type": "execute_result"
    }
   ],
   "source": [
    "exp(β)"
   ]
  },
  {
   "cell_type": "code",
   "execution_count": 93,
   "metadata": {
    "collapsed": false
   },
   "outputs": [
    {
     "data": {
      "text/plain": [
       "μ (generic function with 1 method)"
      ]
     },
     "execution_count": 93,
     "metadata": {},
     "output_type": "execute_result"
    }
   ],
   "source": [
    "μ(Wᵢ) = exp(α) * exp(β*Wᵢ)"
   ]
  },
  {
   "cell_type": "code",
   "execution_count": 94,
   "metadata": {
    "collapsed": false
   },
   "outputs": [
    {
     "data": {
      "text/plain": [
       "(21.0,33.5)"
      ]
     },
     "execution_count": 94,
     "metadata": {},
     "output_type": "execute_result"
    }
   ],
   "source": [
    "xmin, xmax = extrema(crab[:W])"
   ]
  },
  {
   "cell_type": "code",
   "execution_count": 96,
   "metadata": {
    "collapsed": false
   },
   "outputs": [
    {
     "data": {
      "text/html": [
       "<img src=\"data:image/png;base64,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\" />"
      ]
     },
     "execution_count": 96,
     "metadata": {},
     "output_type": "execute_result"
    }
   ],
   "source": [
    "plot(\n",
    "    scatter(crab[:W], crab[:Sa]),\n",
    "    scatter(x -> log_μ(x), xmin, xmax),\n",
    "    scatter(x -> μ(x), xmin, xmax),\n",
    "    xlims=(xmin,xmax), layout=Plots.grid(1,3), size=(600,200), legend=false)"
   ]
  },
  {
   "cell_type": "markdown",
   "metadata": {},
   "source": [
    "#### Tablas de contingencia"
   ]
  },
  {
   "cell_type": "code",
   "execution_count": 97,
   "metadata": {
    "collapsed": false
   },
   "outputs": [
    {
     "data": {
      "text/html": [
       "<table class=\"data-frame\"><thead><tr><th></th><th>Survived</th><th>Age</th><th>Sex</th><th>Class</th></tr></thead><tbody><tr><th>1</th><td>1</td><td>1</td><td>1</td><td>1</td></tr><tr><th>2</th><td>1</td><td>1</td><td>1</td><td>1</td></tr><tr><th>3</th><td>1</td><td>1</td><td>1</td><td>1</td></tr><tr><th>4</th><td>1</td><td>1</td><td>1</td><td>1</td></tr><tr><th>5</th><td>1</td><td>1</td><td>1</td><td>1</td></tr><tr><th>6</th><td>1</td><td>1</td><td>1</td><td>1</td></tr></tbody></table>"
      ],
      "text/plain": [
       "6×4 DataFrames.DataFrame\n",
       "│ Row │ Survived │ Age │ Sex │ Class │\n",
       "├─────┼──────────┼─────┼─────┼───────┤\n",
       "│ 1   │ 1        │ 1   │ 1   │ 1     │\n",
       "│ 2   │ 1        │ 1   │ 1   │ 1     │\n",
       "│ 3   │ 1        │ 1   │ 1   │ 1     │\n",
       "│ 4   │ 1        │ 1   │ 1   │ 1     │\n",
       "│ 5   │ 1        │ 1   │ 1   │ 1     │\n",
       "│ 6   │ 1        │ 1   │ 1   │ 1     │"
      ]
     },
     "execution_count": 97,
     "metadata": {},
     "output_type": "execute_result"
    }
   ],
   "source": [
    "using RDatasets\n",
    "\n",
    "titanic = dataset(\"COUNT\",\"titanic\")\n",
    "head(titanic)"
   ]
  },
  {
   "cell_type": "code",
   "execution_count": 98,
   "metadata": {
    "collapsed": false
   },
   "outputs": [
    {
     "data": {
      "text/html": [
       "<table class=\"data-frame\"><thead><tr><th></th><th>Sex</th><th>Class</th><th>x1</th></tr></thead><tbody><tr><th>1</th><td>0</td><td>1</td><td>141</td></tr><tr><th>2</th><td>0</td><td>2</td><td>93</td></tr><tr><th>3</th><td>0</td><td>3</td><td>90</td></tr><tr><th>4</th><td>1</td><td>1</td><td>62</td></tr><tr><th>5</th><td>1</td><td>2</td><td>25</td></tr><tr><th>6</th><td>1</td><td>3</td><td>88</td></tr></tbody></table>"
      ],
      "text/plain": [
       "6×3 DataFrames.DataFrame\n",
       "│ Row │ Sex │ Class │ x1  │\n",
       "├─────┼─────┼───────┼─────┤\n",
       "│ 1   │ 0   │ 1     │ 141 │\n",
       "│ 2   │ 0   │ 2     │ 93  │\n",
       "│ 3   │ 0   │ 3     │ 90  │\n",
       "│ 4   │ 1   │ 1     │ 62  │\n",
       "│ 5   │ 1   │ 2     │ 25  │\n",
       "│ 6   │ 1   │ 3     │ 88  │"
      ]
     },
     "execution_count": 98,
     "metadata": {},
     "output_type": "execute_result"
    }
   ],
   "source": [
    "datos = by(titanic, [:Sex, :Class], df -> sum(df[:Survived]))"
   ]
  },
  {
   "cell_type": "code",
   "execution_count": 100,
   "metadata": {
    "collapsed": false
   },
   "outputs": [
    {
     "data": {
      "text/plain": [
       "DataFrames.DataFrameRegressionModel{GLM.GeneralizedLinearModel{GLM.GlmResp{Array{Float64,1},Distributions.Poisson{Float64},GLM.LogLink},GLM.DensePredChol{Float64,Base.LinAlg.Cholesky{Float64,Array{Float64,2}}}},Array{Float64,2}}\n",
       "\n",
       "Formula: x1 ~ 1 + Sex + Class\n",
       "\n",
       "Coefficients:\n",
       "               Estimate Std.Error  z value Pr(>|z|)\n",
       "(Intercept)     4.83069  0.120615  40.0506   <1e-99\n",
       "Sex           -0.615958 0.0938114 -6.56591   <1e-10\n",
       "Class        -0.0752212 0.0549045 -1.37004   0.1707\n"
      ]
     },
     "execution_count": 100,
     "metadata": {},
     "output_type": "execute_result"
    }
   ],
   "source": [
    "glm(@formula(x1 ~  Sex + Class), datos, Poisson(), LogLink())"
   ]
  }
 ],
 "metadata": {
  "kernelspec": {
   "display_name": "Julia 0.5.0",
   "language": "julia",
   "name": "julia-0.5"
  },
  "language_info": {
   "file_extension": ".jl",
   "mimetype": "application/julia",
   "name": "julia",
   "version": "0.5.0"
  }
 },
 "nbformat": 4,
 "nbformat_minor": 0
}
