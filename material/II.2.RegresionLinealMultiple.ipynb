{
 "cells": [
  {
   "cell_type": "markdown",
   "metadata": {},
   "source": [
    "### Unidad II. Regresiones y reducción de dimensionalidad.\n",
    "\n",
    "## Regresión Lineal Múltiple por el método de los Mínimos Cuadrados.\n",
    "\n",
    "- Examen de los residuos. Prueba de normalidad de los residuales. \n",
    "- Prueba de homogeneidad de varianza. \n",
    "- Mínimos Cuadrados Ponderados. \n",
    "- Observaciones extremas. \n",
    "- Búsqueda de la mejor ecuación de regresión. Stepwise regression"
   ]
  },
  {
   "cell_type": "markdown",
   "metadata": {},
   "source": [
    "### Regresión Lineal Múltiple"
   ]
  },
  {
   "cell_type": "code",
   "execution_count": 1,
   "metadata": {
    "collapsed": false
   },
   "outputs": [
    {
     "data": {
      "text/plain": [
       "10"
      ]
     },
     "execution_count": 1,
     "metadata": {},
     "output_type": "execute_result"
    }
   ],
   "source": [
    "k = 2  # variables independientes\n",
    "N = 10 # observaciones"
   ]
  },
  {
   "cell_type": "code",
   "execution_count": 2,
   "metadata": {
    "collapsed": false
   },
   "outputs": [
    {
     "data": {
      "text/plain": [
       "10×2 Array{Float64,2}:\n",
       " 0.0307714  0.4821  \n",
       " 0.286979   0.558296\n",
       " 0.110116   0.287557\n",
       " 0.85274    0.191639\n",
       " 0.895312   0.764406\n",
       " 0.361209   0.230311\n",
       " 0.460176   0.601009\n",
       " 0.8968     0.892419\n",
       " 0.293208   0.97748 \n",
       " 0.653764   0.689387"
      ]
     },
     "execution_count": 2,
     "metadata": {},
     "output_type": "execute_result"
    }
   ],
   "source": [
    "X = rand(N, k) # simulación: valores observados para las variables independientes"
   ]
  },
  {
   "cell_type": "code",
   "execution_count": 3,
   "metadata": {
    "collapsed": false
   },
   "outputs": [
    {
     "data": {
      "text/plain": [
       "0.16119632339800627"
      ]
     },
     "execution_count": 3,
     "metadata": {},
     "output_type": "execute_result"
    }
   ],
   "source": [
    "α = rand() # simulación: valor real de la intersección"
   ]
  },
  {
   "cell_type": "code",
   "execution_count": 4,
   "metadata": {
    "collapsed": false
   },
   "outputs": [
    {
     "data": {
      "text/plain": [
       "2-element Array{Float64,1}:\n",
       " 0.18714\n",
       " 0.85874"
      ]
     },
     "execution_count": 4,
     "metadata": {},
     "output_type": "execute_result"
    }
   ],
   "source": [
    "β = rand(k) # simulación: valores reales de los coeficientes"
   ]
  },
  {
   "cell_type": "code",
   "execution_count": 5,
   "metadata": {
    "collapsed": false
   },
   "outputs": [
    {
     "data": {
      "text/plain": [
       "10-element Array{Float64,1}:\n",
       " 0.0719068 \n",
       " 0.0843114 \n",
       " 0.0208699 \n",
       " 0.056578  \n",
       " 0.0364262 \n",
       " 0.0962185 \n",
       " 0.00391276\n",
       " 0.087665  \n",
       " 0.0453114 \n",
       " 0.0335044 "
      ]
     },
     "execution_count": 5,
     "metadata": {},
     "output_type": "execute_result"
    }
   ],
   "source": [
    "E = 0.1 .* rand(N) # simulación: agrega errores al azar al modelo"
   ]
  },
  {
   "cell_type": "code",
   "execution_count": 6,
   "metadata": {
    "collapsed": false
   },
   "outputs": [
    {
     "data": {
      "text/plain": [
       "10-element Array{Float64,1}:\n",
       " 0.65286 \n",
       " 0.778644\n",
       " 0.44961 \n",
       " 0.541924\n",
       " 1.0216  \n",
       " 0.522789\n",
       " 0.767337\n",
       " 1.18304 \n",
       " 1.10078 \n",
       " 0.90905 "
      ]
     },
     "execution_count": 6,
     "metadata": {},
     "output_type": "execute_result"
    }
   ],
   "source": [
    "Y = α + X * β + E # valores para la variable dependiente con el modelo lineal que acabamos de armar"
   ]
  },
  {
   "cell_type": "markdown",
   "metadata": {},
   "source": [
    "La biblioteca [**MultivariateStats**](https://github.com/JuliaStats/MultivariateStats.jl) de Julia\n",
    "implementa la regresión lineal por cuadrados mínimos en su función `llsq`. Este método toma la matriz de valores de la variable dependiente y el vector de la independiente. Retorna un vector de la forma $[\\beta_{1}, …, \\beta_{k}, \\alpha]$."
   ]
  },
  {
   "cell_type": "code",
   "execution_count": 7,
   "metadata": {
    "collapsed": false
   },
   "outputs": [
    {
     "data": {
      "text/plain": [
       "3-element Array{Float64,1}:\n",
       " 0.19005 \n",
       " 0.845895\n",
       " 0.220747"
      ]
     },
     "execution_count": 7,
     "metadata": {},
     "output_type": "execute_result"
    }
   ],
   "source": [
    "using MultivariateStats\n",
    "\n",
    "predicción = llsq(X, Y)"
   ]
  },
  {
   "cell_type": "code",
   "execution_count": 8,
   "metadata": {
    "collapsed": false
   },
   "outputs": [
    {
     "data": {
      "text/plain": [
       "0.2207471881027547"
      ]
     },
     "execution_count": 8,
     "metadata": {},
     "output_type": "execute_result"
    }
   ],
   "source": [
    "αₚ = predicción[end] # valor de la intersección del ajuste"
   ]
  },
  {
   "cell_type": "code",
   "execution_count": 9,
   "metadata": {
    "collapsed": false
   },
   "outputs": [
    {
     "data": {
      "text/plain": [
       "2-element Array{Float64,1}:\n",
       " 0.19005 \n",
       " 0.845895"
      ]
     },
     "execution_count": 9,
     "metadata": {},
     "output_type": "execute_result"
    }
   ],
   "source": [
    "βₚ = predicción[1:end-1] # valores de los coeficientes del ajuste"
   ]
  },
  {
   "cell_type": "code",
   "execution_count": 10,
   "metadata": {
    "collapsed": false
   },
   "outputs": [
    {
     "data": {
      "text/plain": [
       "10-element Array{Float64,1}:\n",
       " 0.634401\n",
       " 0.747547\n",
       " 0.484918\n",
       " 0.544916\n",
       " 1.03751 \n",
       " 0.484214\n",
       " 0.816594\n",
       " 1.14608 \n",
       " 1.10332 \n",
       " 0.928144"
      ]
     },
     "execution_count": 10,
     "metadata": {},
     "output_type": "execute_result"
    }
   ],
   "source": [
    "Yₚ = αₚ + X*βₚ # valores predichos para la variable dependiente"
   ]
  },
  {
   "cell_type": "markdown",
   "metadata": {},
   "source": [
    "Diferencias entre los valores reales y los ajustados"
   ]
  },
  {
   "cell_type": "code",
   "execution_count": 11,
   "metadata": {
    "collapsed": false
   },
   "outputs": [
    {
     "data": {
      "text/plain": [
       "-0.059550864704748435"
      ]
     },
     "execution_count": 11,
     "metadata": {},
     "output_type": "execute_result"
    }
   ],
   "source": [
    "α - αₚ"
   ]
  },
  {
   "cell_type": "code",
   "execution_count": 12,
   "metadata": {
    "collapsed": false
   },
   "outputs": [
    {
     "data": {
      "text/plain": [
       "2-element Array{Float64,1}:\n",
       " -0.00290978\n",
       "  0.0128451 "
      ]
     },
     "execution_count": 12,
     "metadata": {},
     "output_type": "execute_result"
    }
   ],
   "source": [
    "β - βₚ"
   ]
  },
  {
   "cell_type": "code",
   "execution_count": 13,
   "metadata": {
    "collapsed": false
   },
   "outputs": [
    {
     "data": {
      "text/plain": [
       "10-element Array{Float64,1}:\n",
       "  0.018459  \n",
       "  0.0310968 \n",
       " -0.0353076 \n",
       " -0.00299254\n",
       " -0.015911  \n",
       "  0.0385749 \n",
       " -0.0492571 \n",
       "  0.0369678 \n",
       " -0.00253678\n",
       " -0.0190936 "
      ]
     },
     "execution_count": 13,
     "metadata": {},
     "output_type": "execute_result"
    }
   ],
   "source": [
    "Eₚ = Y - Yₚ # son los valores residuales de la regresión"
   ]
  },
  {
   "cell_type": "code",
   "execution_count": 14,
   "metadata": {
    "collapsed": false
   },
   "outputs": [
    {
     "data": {
      "text/html": [
       "<img src=\"data:image/png;base64,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\" />"
      ]
     },
     "execution_count": 14,
     "metadata": {},
     "output_type": "execute_result"
    }
   ],
   "source": [
    "using Plots\n",
    "pyplot(size=(500,250))\n",
    "\n",
    "plot(\n",
    "scatter(Y, Yₚ, legend=false, \n",
    "        xlab=\"Valores\", ylab=\"Predicciones\"),\n",
    "histogram(Eₚ, label=\"Residuales\", bins=5)\n",
    ")"
   ]
  },
  {
   "cell_type": "markdown",
   "metadata": {},
   "source": [
    "### Análisis de regresión"
   ]
  },
  {
   "cell_type": "markdown",
   "metadata": {},
   "source": [
    "[**Supuestos**](http://www.itl.nist.gov/div898/handbook/pri/section2/pri24.htm), muchos de los cuales aplican a los residuos:  \n",
    "\n",
    "- **Linealidad**: Si no se cumple se comete un error de <a href=\"https://en.wikipedia.org/wiki/Specification_(regression)\">especificación</a>, dado que el modelo será incorrecto. En el caso de una o dos variables independientes, ayuda observar un gráfico de dispersión en busca de una tendencia lineal (línea, plano).   \n",
    "- **Independencia de los residuos**: Los residuos no deben estar correlacionados (deben ser una variable aleatoria), algo que puede suceder cuando se trabaja con series temporales. El [estadístico de Durbin-Watson](https://en.wikipedia.org/wiki/Durbin%E2%80%93Watson_statistic) puede ayudar en la detección de autocorrelaciones.  \n",
    "- **Homocedasticidad**: Igualdad de varianza para cada valor o grupo de valores de la/s variable/s independiente/s  \n",
    "- **Normalidad**: Para cada valor o grupo de valores de la/s variable/s independiente/s los residuos se distribuyen de manera normal con $\\mu = 0$   \n",
    "- **No-colinealidad**: Las variables independientes no pueden ser combinaciones lineales unas de otras, no debe haber correlación entre ellas.   "
   ]
  },
  {
   "cell_type": "code",
   "execution_count": 15,
   "metadata": {
    "collapsed": true
   },
   "outputs": [],
   "source": [
    "using GLM"
   ]
  },
  {
   "cell_type": "code",
   "execution_count": 16,
   "metadata": {
    "collapsed": false
   },
   "outputs": [
    {
     "data": {
      "text/plain": [
       "10×3 Array{Float64,2}:\n",
       " 1.0  0.0307714  0.4821  \n",
       " 1.0  0.286979   0.558296\n",
       " 1.0  0.110116   0.287557\n",
       " 1.0  0.85274    0.191639\n",
       " 1.0  0.895312   0.764406\n",
       " 1.0  0.361209   0.230311\n",
       " 1.0  0.460176   0.601009\n",
       " 1.0  0.8968     0.892419\n",
       " 1.0  0.293208   0.97748 \n",
       " 1.0  0.653764   0.689387"
      ]
     },
     "execution_count": 16,
     "metadata": {},
     "output_type": "execute_result"
    }
   ],
   "source": [
    "Xₐ = hcat(ones(N), X) # Y = 1*α + β₁X₁ + β₂X₂ + ..."
   ]
  },
  {
   "cell_type": "code",
   "execution_count": 17,
   "metadata": {
    "collapsed": false
   },
   "outputs": [
    {
     "data": {
      "text/plain": [
       "GLM.LinearModel{GLM.LmResp{Array{Float64,1}},GLM.DensePredChol{Float64,Base.LinAlg.Cholesky{Float64,Array{Float64,2}}}}:\n",
       "\n",
       "Coefficients:\n",
       "     Estimate Std.Error t value Pr(>|t|)\n",
       "x1   0.220747 0.0289136 7.63471   0.0001\n",
       "x2    0.19005 0.0371247 5.11923   0.0014\n",
       "x3   0.845895 0.0440124 19.2195    <1e-6\n",
       "\n"
      ]
     },
     "execution_count": 17,
     "metadata": {},
     "output_type": "execute_result"
    }
   ],
   "source": [
    "modelo = lm(Xₐ,Y)"
   ]
  },
  {
   "cell_type": "code",
   "execution_count": 18,
   "metadata": {
    "collapsed": false
   },
   "outputs": [
    {
     "data": {
      "text/plain": [
       "10-element Array{Float64,1}:\n",
       "  0.018459  \n",
       "  0.0310968 \n",
       " -0.0353076 \n",
       " -0.00299254\n",
       " -0.015911  \n",
       "  0.0385749 \n",
       " -0.0492571 \n",
       "  0.0369678 \n",
       " -0.00253678\n",
       " -0.0190936 "
      ]
     },
     "execution_count": 18,
     "metadata": {},
     "output_type": "execute_result"
    }
   ],
   "source": [
    "residuos = residuals(modelo)"
   ]
  },
  {
   "cell_type": "markdown",
   "metadata": {},
   "source": [
    "### Mínimos Cuadrados Ponderados."
   ]
  },
  {
   "cell_type": "markdown",
   "metadata": {},
   "source": [
    "En el caso de no cumplirse con la homocedacia, es posible darle a cada observación un peso inversamente proporcional a la varianza para ese valor o grupo de valores de la/s variable/s independiente/s en una regresion por [minimos cuadrados ponderados](https://en.wikipedia.org/wiki/Least_squares#Weighted_least_squares). Lo óptimo es conocer de antemano cual es la varianza de cada medición. Por ejemplo si medimos cada dato con una herramienta diferente y conocemos su error. Sino existen maneras de determinar los posibles valores de la varianza (o de un estimador robusto correlacionado con ésta) con respecto a las variables independientes.  "
   ]
  },
  {
   "cell_type": "code",
   "execution_count": 19,
   "metadata": {
    "collapsed": true
   },
   "outputs": [],
   "source": [
    "using DataFrames"
   ]
  },
  {
   "cell_type": "code",
   "execution_count": 20,
   "metadata": {
    "collapsed": false
   },
   "outputs": [
    {
     "data": {
      "text/html": [
       "<table class=\"data-frame\"><thead><tr><th></th><th>X</th><th>Y</th></tr></thead><tbody><tr><th>1</th><td>0.7555047802543704</td><td>6.1168419478764635</td></tr><tr><th>2</th><td>0.6500033518030761</td><td>6.107586925334288</td></tr><tr><th>3</th><td>0.7965660071085492</td><td>6.266883634304559</td></tr><tr><th>4</th><td>0.7255222107116668</td><td>5.5623703682775245</td></tr><tr><th>5</th><td>0.4685298886063147</td><td>5.42364892432</td></tr><tr><th>6</th><td>0.40896991632975244</td><td>5.576719251621155</td></tr><tr><th>7</th><td>0.8390647031766272</td><td>5.827034024344083</td></tr><tr><th>8</th><td>0.7184557653175316</td><td>5.210219930930277</td></tr><tr><th>9</th><td>0.10769765132451736</td><td>5.0982632537600265</td></tr><tr><th>10</th><td>0.7988459323955748</td><td>6.12960831676362</td></tr><tr><th>11</th><td>0.9539687403441199</td><td>7.009458129620786</td></tr><tr><th>12</th><td>0.2817248584417835</td><td>5.243180791595584</td></tr><tr><th>13</th><td>0.16331130315930165</td><td>5.214760619037241</td></tr><tr><th>14</th><td>0.9333174579786916</td><td>6.790585730556131</td></tr><tr><th>15</th><td>0.11850926289333574</td><td>5.15587147072243</td></tr><tr><th>16</th><td>0.6333831111234667</td><td>5.941288094515035</td></tr><tr><th>17</th><td>0.18517792154144996</td><td>5.257487485007942</td></tr><tr><th>18</th><td>0.5212053236795784</td><td>5.670332197426866</td></tr><tr><th>19</th><td>0.36569885749564857</td><td>5.729282478654712</td></tr><tr><th>20</th><td>0.5379872460915731</td><td>5.727871343786915</td></tr><tr><th>21</th><td>0.4297953404444863</td><td>5.454010389252044</td></tr><tr><th>22</th><td>0.44258805367891085</td><td>5.8349850031366195</td></tr><tr><th>23</th><td>0.3195314044430273</td><td>5.5417992614936855</td></tr><tr><th>24</th><td>0.518613145900948</td><td>5.315563354873516</td></tr><tr><th>25</th><td>0.5801553880307495</td><td>5.751732128993892</td></tr><tr><th>26</th><td>0.4477318327556923</td><td>5.840175189224592</td></tr><tr><th>27</th><td>0.6546377613751402</td><td>5.521643464722013</td></tr><tr><th>28</th><td>0.13172967776493638</td><td>5.152039359371673</td></tr><tr><th>29</th><td>0.38974490694625863</td><td>5.496211936058352</td></tr><tr><th>30</th><td>0.9582289826555692</td><td>5.796509880451708</td></tr><tr><th>&vellip;</th><td>&vellip;</td><td>&vellip;</td></tr></tbody></table>"
      ],
      "text/plain": [
       "100×2 DataFrames.DataFrame\n",
       "│ Row │ X         │ Y       │\n",
       "├─────┼───────────┼─────────┤\n",
       "│ 1   │ 0.755505  │ 6.11684 │\n",
       "│ 2   │ 0.650003  │ 6.10759 │\n",
       "│ 3   │ 0.796566  │ 6.26688 │\n",
       "│ 4   │ 0.725522  │ 5.56237 │\n",
       "│ 5   │ 0.46853   │ 5.42365 │\n",
       "│ 6   │ 0.40897   │ 5.57672 │\n",
       "│ 7   │ 0.839065  │ 5.82703 │\n",
       "│ 8   │ 0.718456  │ 5.21022 │\n",
       "│ 9   │ 0.107698  │ 5.09826 │\n",
       "│ 10  │ 0.798846  │ 6.12961 │\n",
       "│ 11  │ 0.953969  │ 7.00946 │\n",
       "⋮\n",
       "│ 89  │ 0.32316   │ 4.92033 │\n",
       "│ 90  │ 0.974868  │ 6.01073 │\n",
       "│ 91  │ 0.0101096 │ 5.01989 │\n",
       "│ 92  │ 0.815031  │ 5.74403 │\n",
       "│ 93  │ 0.276619  │ 5.09504 │\n",
       "│ 94  │ 0.57959   │ 5.95522 │\n",
       "│ 95  │ 0.528779  │ 5.16871 │\n",
       "│ 96  │ 0.521227  │ 5.55777 │\n",
       "│ 97  │ 0.267257  │ 5.3808  │\n",
       "│ 98  │ 0.465484  │ 5.23335 │\n",
       "│ 99  │ 0.960729  │ 5.79642 │\n",
       "│ 100 │ 0.182106  │ 5.3598  │"
      ]
     },
     "execution_count": 20,
     "metadata": {},
     "output_type": "execute_result"
    }
   ],
   "source": [
    "N = 100\n",
    "X = rand(N)\n",
    "β = rand()\n",
    "α = 5\n",
    "\n",
    "E = rand(Normal(1,0.5),N) .* X # heterocedasticidad\n",
    "\n",
    "Y = α + X * β + E\n",
    "\n",
    "datos = DataFrame(hcat(X, Y))\n",
    "names!(datos, [:X, :Y])"
   ]
  },
  {
   "cell_type": "code",
   "execution_count": 25,
   "metadata": {
    "collapsed": false
   },
   "outputs": [
    {
     "data": {
      "text/plain": [
       "DataFrames.DataFrameRegressionModel{GLM.GeneralizedLinearModel{GLM.GlmResp{Array{Float64,1},Distributions.Normal{Float64},GLM.IdentityLink},GLM.DensePredChol{Float64,Base.LinAlg.Cholesky{Float64,Array{Float64,2}}}},Array{Float64,2}}\n",
       "\n",
       "Formula: Y ~ 1 + X\n",
       "\n",
       "Coefficients:\n",
       "             Estimate Std.Error z value Pr(>|z|)\n",
       "(Intercept)   5.00851 0.0541294 92.5285   <1e-99\n",
       "X              1.3304 0.0974747 13.6487   <1e-41\n"
      ]
     },
     "execution_count": 25,
     "metadata": {},
     "output_type": "execute_result"
    }
   ],
   "source": [
    "modelo = glm(@formula(Y ~ X), datos, Normal(), IdentityLink())"
   ]
  },
  {
   "cell_type": "code",
   "execution_count": 26,
   "metadata": {
    "collapsed": false
   },
   "outputs": [
    {
     "data": {
      "text/plain": [
       "2-element Array{Float64,1}:\n",
       " 5.00851\n",
       " 1.3304 "
      ]
     },
     "execution_count": 26,
     "metadata": {},
     "output_type": "execute_result"
    }
   ],
   "source": [
    "coeficientes = coef(modelo)"
   ]
  },
  {
   "cell_type": "code",
   "execution_count": 29,
   "metadata": {
    "collapsed": false
   },
   "outputs": [
    {
     "data": {
      "text/html": [
       "<img src=\"data:image/png;base64,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\" />"
      ]
     },
     "execution_count": 29,
     "metadata": {},
     "output_type": "execute_result"
    }
   ],
   "source": [
    "using StatPlots\n",
    "pyplot(size=(300,300))\n",
    "\n",
    "scatter(datos, :X, :Y, legend=false)\n",
    "Plots.abline!(coeficientes[2], coeficientes[1])"
   ]
  },
  {
   "cell_type": "code",
   "execution_count": 30,
   "metadata": {
    "collapsed": false
   },
   "outputs": [
    {
     "data": {
      "text/plain": [
       "100-element Array{Float64,1}:\n",
       "  0.103207  \n",
       "  0.234311  \n",
       "  0.198621  \n",
       " -0.411376  \n",
       " -0.208195  \n",
       "  0.0241138 \n",
       " -0.297769  \n",
       " -0.754125  \n",
       " -0.0535298 \n",
       "  0.058312  \n",
       "  0.731787  \n",
       " -0.140138  \n",
       " -0.0110208 \n",
       "  ⋮         \n",
       " -0.518117  \n",
       " -0.294746  \n",
       " -0.00206862\n",
       " -0.348796  \n",
       " -0.281484  \n",
       "  0.175619  \n",
       " -0.543289  \n",
       " -0.144178  \n",
       "  0.0167338 \n",
       " -0.394444  \n",
       " -0.490244  \n",
       "  0.109015  "
      ]
     },
     "execution_count": 30,
     "metadata": {},
     "output_type": "execute_result"
    }
   ],
   "source": [
    "residuos = Y - predict(modelo)"
   ]
  },
  {
   "cell_type": "code",
   "execution_count": 31,
   "metadata": {
    "collapsed": false
   },
   "outputs": [
    {
     "data": {
      "text/html": [
       "<img src=\"data:image/png;base64,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\" />"
      ]
     },
     "execution_count": 31,
     "metadata": {},
     "output_type": "execute_result"
    }
   ],
   "source": [
    "scatter(X, residuos, legend=false)"
   ]
  },
  {
   "cell_type": "code",
   "execution_count": 32,
   "metadata": {
    "collapsed": false
   },
   "outputs": [
    {
     "data": {
      "text/html": [
       "<table class=\"data-frame\"><thead><tr><th></th><th>x</th><th>y</th></tr></thead><tbody><tr><th>1</th><td>0.1</td><td>0.02213005266994569</td></tr><tr><th>2</th><td>0.15000000000000002</td><td>0.03201768481813598</td></tr><tr><th>3</th><td>0.2</td><td>0.06786344863988106</td></tr><tr><th>4</th><td>0.25</td><td>0.12769986133560404</td></tr><tr><th>5</th><td>0.30000000000000004</td><td>0.1761011520576226</td></tr><tr><th>6</th><td>0.35</td><td>0.22300560057832286</td></tr><tr><th>7</th><td>0.4</td><td>0.16373083687563167</td></tr><tr><th>8</th><td>0.44999999999999996</td><td>0.2042341948078266</td></tr><tr><th>9</th><td>0.5</td><td>0.24453736291451844</td></tr><tr><th>10</th><td>0.55</td><td>0.26127049064212476</td></tr><tr><th>11</th><td>0.6</td><td>0.23706608842726723</td></tr><tr><th>12</th><td>0.65</td><td>0.25734220128723023</td></tr><tr><th>13</th><td>0.7</td><td>0.28486043807130107</td></tr><tr><th>14</th><td>0.75</td><td>0.3905551672455809</td></tr><tr><th>15</th><td>0.7999999999999999</td><td>0.3679743427482098</td></tr><tr><th>16</th><td>0.85</td><td>0.3453935182508386</td></tr><tr><th>17</th><td>0.9</td><td>0.3458504507041181</td></tr></tbody></table>"
      ],
      "text/plain": [
       "17×2 DataFrames.DataFrame\n",
       "│ Row │ x    │ y         │\n",
       "├─────┼──────┼───────────┤\n",
       "│ 1   │ 0.1  │ 0.0221301 │\n",
       "│ 2   │ 0.15 │ 0.0320177 │\n",
       "│ 3   │ 0.2  │ 0.0678634 │\n",
       "│ 4   │ 0.25 │ 0.1277    │\n",
       "│ 5   │ 0.3  │ 0.176101  │\n",
       "│ 6   │ 0.35 │ 0.223006  │\n",
       "│ 7   │ 0.4  │ 0.163731  │\n",
       "│ 8   │ 0.45 │ 0.204234  │\n",
       "│ 9   │ 0.5  │ 0.244537  │\n",
       "│ 10  │ 0.55 │ 0.26127   │\n",
       "│ 11  │ 0.6  │ 0.237066  │\n",
       "│ 12  │ 0.65 │ 0.257342  │\n",
       "│ 13  │ 0.7  │ 0.28486   │\n",
       "│ 14  │ 0.75 │ 0.390555  │\n",
       "│ 15  │ 0.8  │ 0.367974  │\n",
       "│ 16  │ 0.85 │ 0.345394  │\n",
       "│ 17  │ 0.9  │ 0.34585   │"
      ]
     },
     "execution_count": 32,
     "metadata": {},
     "output_type": "execute_result"
    }
   ],
   "source": [
    "residuos_modelo = DataFrame(\n",
    "x = collect(0:0.05:0.8).+0.1, # inicio + paso/2 = centro de la ventana\n",
    "y = Float64[ mad( residuos[i .<= X .<= i+0.2] ) for i in collect(0:0.05:0.8) ] # paso = 0.2\n",
    ")"
   ]
  },
  {
   "cell_type": "code",
   "execution_count": 35,
   "metadata": {
    "collapsed": false
   },
   "outputs": [
    {
     "data": {
      "text/plain": [
       "DataFrames.DataFrameRegressionModel{GLM.GeneralizedLinearModel{GLM.GlmResp{Array{Float64,1},Distributions.Normal{Float64},GLM.IdentityLink},GLM.DensePredChol{Float64,Base.LinAlg.Cholesky{Float64,Array{Float64,2}}}},Array{Float64,2}}\n",
       "\n",
       "Formula: y ~ 1 + x\n",
       "\n",
       "Coefficients:\n",
       "               Estimate Std.Error  z value Pr(>|z|)\n",
       "(Intercept)  0.00891738 0.0197618 0.451244   0.6518\n",
       "x              0.423534 0.0354932  11.9328   <1e-32\n"
      ]
     },
     "execution_count": 35,
     "metadata": {},
     "output_type": "execute_result"
    }
   ],
   "source": [
    "modelo = glm(@formula(y ~ x), residuos_modelo, Normal(), IdentityLink())"
   ]
  },
  {
   "cell_type": "code",
   "execution_count": 36,
   "metadata": {
    "collapsed": false
   },
   "outputs": [
    {
     "data": {
      "text/html": [
       "<img src=\"data:image/png;base64,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\" />"
      ]
     },
     "execution_count": 36,
     "metadata": {},
     "output_type": "execute_result"
    }
   ],
   "source": [
    "plot(\n",
    "scatter(residuos_modelo, :x,:y),\n",
    "scatter(residuos_modelo[:x],residuos_modelo[:y]-predict(modelo)),\n",
    "legend=false, size=(400,200))"
   ]
  },
  {
   "cell_type": "code",
   "execution_count": 37,
   "metadata": {
    "collapsed": false
   },
   "outputs": [
    {
     "data": {
      "text/plain": [
       "2-element Array{Float64,1}:\n",
       " 0.00891738\n",
       " 0.423534  "
      ]
     },
     "execution_count": 37,
     "metadata": {},
     "output_type": "execute_result"
    }
   ],
   "source": [
    "C = coef(modelo)"
   ]
  },
  {
   "cell_type": "code",
   "execution_count": 38,
   "metadata": {
    "collapsed": false
   },
   "outputs": [
    {
     "data": {
      "text/plain": [
       "100-element Array{Float64,1}:\n",
       "  3.04045\n",
       "  3.51845\n",
       "  2.88775\n",
       "  3.16255\n",
       "  4.82263\n",
       "  5.49058\n",
       "  2.74507\n",
       "  3.19277\n",
       " 18.3382 \n",
       "  2.87972\n",
       "  2.42157\n",
       "  7.79804\n",
       " 12.8065 \n",
       "  ⋮      \n",
       "  6.85933\n",
       "  2.37075\n",
       " 75.7626 \n",
       "  2.82398\n",
       "  7.93179\n",
       "  3.93092\n",
       "  4.29418\n",
       "  4.35399\n",
       "  8.18937\n",
       "  4.85282\n",
       "  2.4049 \n",
       " 11.6218 "
      ]
     },
     "execution_count": 38,
     "metadata": {},
     "output_type": "execute_result"
    }
   ],
   "source": [
    "pesos = Float64[ 1/(C[1] + C[2]*x) for x in datos[:X] ]"
   ]
  },
  {
   "cell_type": "code",
   "execution_count": 39,
   "metadata": {
    "collapsed": false
   },
   "outputs": [
    {
     "data": {
      "text/plain": [
       "DataFrames.DataFrameRegressionModel{GLM.GeneralizedLinearModel{GLM.GlmResp{Array{Float64,1},Distributions.Normal{Float64},GLM.IdentityLink},GLM.DensePredChol{Float64,Base.LinAlg.Cholesky{Float64,Array{Float64,2}}}},Array{Float64,2}}\n",
       "\n",
       "Formula: Y ~ 1 + X\n",
       "\n",
       "Coefficients:\n",
       "             Estimate  Std.Error z value Pr(>|z|)\n",
       "(Intercept)   5.00158 0.00661172 756.473   <1e-99\n",
       "X             1.34475   0.020055 67.0529   <1e-99\n"
      ]
     },
     "execution_count": 39,
     "metadata": {},
     "output_type": "execute_result"
    }
   ],
   "source": [
    "lineal_ponderada = glm(@formula(Y ~ X), datos, Normal(), IdentityLink(), wts=pesos)"
   ]
  },
  {
   "cell_type": "code",
   "execution_count": 40,
   "metadata": {
    "collapsed": false
   },
   "outputs": [
    {
     "data": {
      "text/html": [
       "<img src=\"data:image/png;base64,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\" />"
      ]
     },
     "execution_count": 40,
     "metadata": {},
     "output_type": "execute_result"
    }
   ],
   "source": [
    "reg_plot = scatter(datos, :X, :Y)\n",
    "Plots.abline!(reg_plot, coef(lineal_ponderada)[2], coef(lineal_ponderada)[1])\n",
    "\n",
    "residuos = ( datos[:Y] - predict(lineal_ponderada) ) .* pesos\n",
    "\n",
    "normal = Normal(0,std(residuos))\n",
    "\n",
    "res_plot = histogram(residuos, bins=10, normed=true)\n",
    "plot!(res_plot, res -> pdf(normal, res), minimum(residuos), maximum(residuos))\n",
    "\n",
    "res_scatter = scatter(datos[:X], residuos)\n",
    "\n",
    "plot(reg_plot, res_scatter, res_plot, legend=false, size=(800,200), layout=grid(1,3))"
   ]
  },
  {
   "cell_type": "markdown",
   "metadata": {},
   "source": [
    "En general es preferible usar pesos cuando éstos se conocen de antemano. Por ejemplo si se conoce el error experimental de los instrumentos, B factors o resolución en estructuras cristalográficas, etc.  Tratar de encontrar pesos puede ser complicado. En este caso, los pesos hacen que los residuales ponderados cumplan homocedacia, pero quizás a costa de la normalidad."
   ]
  },
  {
   "cell_type": "markdown",
   "metadata": {},
   "source": [
    "### Ridge Regression \n",
    "\n",
    "[Ridge regression](https://en.wikipedia.org/wiki/Tikhonov_regularization) en [MultivariateStats](http://multivariatestatsjl.readthedocs.io/en/latest/lreg.html#ridge-regression) y [en ScikitLearn](http://scikit-learn.org/stable/modules/linear_model.html#ridge-regression).  \n",
    "Esta regresión es mucho más robusta a la presencia de variables explicativas correlacionadas (colineales)."
   ]
  },
  {
   "cell_type": "markdown",
   "metadata": {},
   "source": [
    "*Ridge Regression* usando **ScikitLearn.jl**, el valor de α es seleccionado usando *validación cruzada*:"
   ]
  },
  {
   "cell_type": "code",
   "execution_count": 41,
   "metadata": {
    "collapsed": false
   },
   "outputs": [
    {
     "data": {
      "text/plain": [
       "10-element Array{Float64,1}:\n",
       " 1.27462 \n",
       " 1.0329  \n",
       " 0.8406  \n",
       " 1.48093 \n",
       " 0.519938\n",
       " 0.694567\n",
       " 1.53851 \n",
       " 1.98415 \n",
       " 1.11655 \n",
       " 0.568023"
      ]
     },
     "execution_count": 41,
     "metadata": {},
     "output_type": "execute_result"
    }
   ],
   "source": [
    "k = 3  # variables independientes\n",
    "@assert k > 2\n",
    "N = 10 # observaciones\n",
    "X = rand(N, k) # simulación: valores observados para las variables independientes\n",
    "X[:,1] = X[:,1].*X[:,2] + X[:,1] # colineales\n",
    "α = rand() # simulación: valor real de la intersección\n",
    "β = rand(k) # simulación: valores reales de los coeficientes\n",
    "E = 0.1 .* rand(N) # simulación: agrega errores al azar al modelo\n",
    "Y = α + X * β + E # valores para la variable dependiente con el modelo lineal que acabamos de armar"
   ]
  },
  {
   "cell_type": "code",
   "execution_count": 42,
   "metadata": {
    "collapsed": false
   },
   "outputs": [
    {
     "name": "stderr",
     "output_type": "stream",
     "text": [
      "\u001b[1m\u001b[31mWARNING: Your Python's scikit-learn has version 0.14.1. We recommend updating to 0.18.0 or higher for best compatibility with ScikitLearn.jl.\u001b[0m\n"
     ]
    },
    {
     "data": {
      "text/plain": [
       "PyObject <class 'sklearn.linear_model.ridge.RidgeCV'>"
      ]
     },
     "execution_count": 42,
     "metadata": {},
     "output_type": "execute_result"
    }
   ],
   "source": [
    "using ScikitLearn\n",
    "@sk_import linear_model: RidgeCV"
   ]
  },
  {
   "cell_type": "code",
   "execution_count": 43,
   "metadata": {
    "collapsed": false
   },
   "outputs": [
    {
     "data": {
      "text/plain": [
       "PyObject RidgeCV(alphas=[0.01, 0.02, 0.03, 0.04, 0.05, 0.06, 0.07, 0.08, 0.09, 0.1, 0.11, 0.12, 0.13, 0.14, 0.15, 0.16, 0.17, 0.18, 0.19, 0.2, 0.21, 0.22, 0.23, 0.24, 0.25, 0.26, 0.27, 0.28, 0.29, 0.3, 0.31, 0.32, 0.33, 0.34, 0.35, 0.36, 0.37, 0.38, 0.39, 0.4, 0.41, 0.42, 0.43, 0.44, 0.45, 0.46, 0.47, 0.48, 0.49, 0....9.84, 9.85, 9.86, 9.87, 9.88, 9.89, 9.9, 9.91, 9.92, 9.93, 9.94, 9.95, 9.96, 9.97, 9.98, 9.99, 10.0],\n",
       "    cv=None, fit_intercept=True, gcv_mode=None, loss_func=None,\n",
       "    normalize=False, score_func=None, scoring=None, store_cv_values=False)"
      ]
     },
     "execution_count": 43,
     "metadata": {},
     "output_type": "execute_result"
    }
   ],
   "source": [
    "rcv = RidgeCV(alphas=0.01:0.01:10.0)"
   ]
  },
  {
   "cell_type": "code",
   "execution_count": 44,
   "metadata": {
    "collapsed": false
   },
   "outputs": [
    {
     "data": {
      "text/plain": [
       "PyObject RidgeCV(alphas=[0.01, 0.02, 0.03, 0.04, 0.05, 0.06, 0.07, 0.08, 0.09, 0.1, 0.11, 0.12, 0.13, 0.14, 0.15, 0.16, 0.17, 0.18, 0.19, 0.2, 0.21, 0.22, 0.23, 0.24, 0.25, 0.26, 0.27, 0.28, 0.29, 0.3, 0.31, 0.32, 0.33, 0.34, 0.35, 0.36, 0.37, 0.38, 0.39, 0.4, 0.41, 0.42, 0.43, 0.44, 0.45, 0.46, 0.47, 0.48, 0.49, 0....9.84, 9.85, 9.86, 9.87, 9.88, 9.89, 9.9, 9.91, 9.92, 9.93, 9.94, 9.95, 9.96, 9.97, 9.98, 9.99, 10.0],\n",
       "    cv=None, fit_intercept=True, gcv_mode=None, loss_func=None,\n",
       "    normalize=False, score_func=None, scoring=None, store_cv_values=False)"
      ]
     },
     "execution_count": 44,
     "metadata": {},
     "output_type": "execute_result"
    }
   ],
   "source": [
    "ScikitLearn.fit!(rcv, X, Y)"
   ]
  },
  {
   "cell_type": "code",
   "execution_count": 45,
   "metadata": {
    "collapsed": false
   },
   "outputs": [
    {
     "data": {
      "text/plain": [
       "3-element Array{Float64,1}:\n",
       " 0.288703\n",
       " 0.80839 \n",
       " 0.58305 "
      ]
     },
     "execution_count": 45,
     "metadata": {},
     "output_type": "execute_result"
    }
   ],
   "source": [
    "rcv[:coef_]"
   ]
  },
  {
   "cell_type": "code",
   "execution_count": 46,
   "metadata": {
    "collapsed": false
   },
   "outputs": [
    {
     "data": {
      "text/plain": [
       "0.26559505862944266"
      ]
     },
     "execution_count": 46,
     "metadata": {},
     "output_type": "execute_result"
    }
   ],
   "source": [
    "rcv[:intercept_]"
   ]
  },
  {
   "cell_type": "code",
   "execution_count": 47,
   "metadata": {
    "collapsed": false
   },
   "outputs": [
    {
     "data": {
      "text/plain": [
       "0.01"
      ]
     },
     "execution_count": 47,
     "metadata": {},
     "output_type": "execute_result"
    }
   ],
   "source": [
    "α = rcv[:alpha_]"
   ]
  },
  {
   "cell_type": "markdown",
   "metadata": {},
   "source": [
    "*Ridge Regression* usando **ScikitLearn.jl**:"
   ]
  },
  {
   "cell_type": "code",
   "execution_count": 48,
   "metadata": {
    "collapsed": false
   },
   "outputs": [
    {
     "data": {
      "text/plain": [
       "PyObject <class 'sklearn.linear_model.ridge.Ridge'>"
      ]
     },
     "execution_count": 48,
     "metadata": {},
     "output_type": "execute_result"
    }
   ],
   "source": [
    "@sk_import linear_model: Ridge"
   ]
  },
  {
   "cell_type": "code",
   "execution_count": 49,
   "metadata": {
    "collapsed": false
   },
   "outputs": [
    {
     "data": {
      "text/plain": [
       "PyObject Ridge(alpha=0.01, copy_X=True, fit_intercept=True, max_iter=None,\n",
       "   normalize=False, solver='auto', tol=0.001)"
      ]
     },
     "execution_count": 49,
     "metadata": {},
     "output_type": "execute_result"
    }
   ],
   "source": [
    "r = Ridge(alpha = α)"
   ]
  },
  {
   "cell_type": "code",
   "execution_count": 50,
   "metadata": {
    "collapsed": false
   },
   "outputs": [
    {
     "data": {
      "text/plain": [
       "PyObject Ridge(alpha=0.01, copy_X=True, fit_intercept=True, max_iter=None,\n",
       "   normalize=False, solver='auto', tol=0.001)"
      ]
     },
     "execution_count": 50,
     "metadata": {},
     "output_type": "execute_result"
    }
   ],
   "source": [
    "ScikitLearn.fit!(r, X, Y)"
   ]
  },
  {
   "cell_type": "code",
   "execution_count": 51,
   "metadata": {
    "collapsed": false
   },
   "outputs": [
    {
     "data": {
      "text/plain": [
       "3-element Array{Float64,1}:\n",
       " 0.288703\n",
       " 0.80839 \n",
       " 0.58305 "
      ]
     },
     "execution_count": 51,
     "metadata": {},
     "output_type": "execute_result"
    }
   ],
   "source": [
    "r[:coef_]"
   ]
  },
  {
   "cell_type": "code",
   "execution_count": 52,
   "metadata": {
    "collapsed": false
   },
   "outputs": [
    {
     "data": {
      "text/plain": [
       "0.26559505862944266"
      ]
     },
     "execution_count": 52,
     "metadata": {},
     "output_type": "execute_result"
    }
   ],
   "source": [
    "rcv[:intercept_]"
   ]
  },
  {
   "cell_type": "markdown",
   "metadata": {},
   "source": [
    "*Ridge Regression* usando **MultivariateStats**:"
   ]
  },
  {
   "cell_type": "code",
   "execution_count": 53,
   "metadata": {
    "collapsed": false
   },
   "outputs": [
    {
     "data": {
      "text/plain": [
       "4-element Array{Float64,1}:\n",
       " 0.288703\n",
       " 0.80839 \n",
       " 0.58305 \n",
       " 0.265595"
      ]
     },
     "execution_count": 53,
     "metadata": {},
     "output_type": "execute_result"
    }
   ],
   "source": [
    "MultivariateStats.ridge(X, Y, α)"
   ]
  },
  {
   "cell_type": "markdown",
   "metadata": {},
   "source": [
    "*Ridge Regression* usando **R** and **RCall**:"
   ]
  },
  {
   "cell_type": "code",
   "execution_count": 57,
   "metadata": {
    "collapsed": false
   },
   "outputs": [
    {
     "data": {
      "text/plain": [
       "RCall.RObject{RCall.VecSxp}\n",
       "           `#JL`$X1  `#JL`$X2  `#JL`$X3 \n",
       "0.2617481 0.2888427 0.8149272 0.5843138 \n"
      ]
     },
     "execution_count": 57,
     "metadata": {},
     "output_type": "execute_result"
    }
   ],
   "source": [
    "using RCall\n",
    "\n",
    "R\"\"\"\n",
    "library(MASS)\n",
    "lmr <- lm.ridge($Y ~ $X, lambda=$α)\n",
    "\"\"\""
   ]
  }
 ],
 "metadata": {
  "kernelspec": {
   "display_name": "Julia 0.5.0",
   "language": "julia",
   "name": "julia-0.5"
  },
  "language_info": {
   "file_extension": ".jl",
   "mimetype": "application/julia",
   "name": "julia",
   "version": "0.5.0"
  }
 },
 "nbformat": 4,
 "nbformat_minor": 0
}
