{
 "cells": [
  {
   "cell_type": "markdown",
   "metadata": {},
   "source": [
    "### Unidad III. Agrupamiento y clasificación. \n",
    "\n",
    "## Técnicas topológicas de agrupación (clustering) jerárquicas y lineales. "
   ]
  },
  {
   "cell_type": "markdown",
   "metadata": {},
   "source": [
    "### Clustering"
   ]
  },
  {
   "cell_type": "markdown",
   "metadata": {},
   "source": [
    "Una buena descripción y comparación de diferentes algoritmos de clustering se encuentra en el sitio de *Scikit Learn*: [**Clustering**](http://scikit-learn.org/stable/modules/clustering.html)"
   ]
  },
  {
   "cell_type": "markdown",
   "metadata": {},
   "source": [
    "Existen diversas bibliotecas en diferentes leguaje (*R*, *Python*, *Julia*) que implementen diferentes algoritmos de clustering. En **Julia** tenemos, principalmente:\n",
    "- [**Clustering**](https://github.com/JuliaStats/Clustering.jl) \n",
    "    - K-means\n",
    "    - K-medoids\n",
    "    - Affinity Propagation\n",
    "    - DBSCAN\n",
    "- [**Distances**](https://github.com/JuliaStats/Distances.jl) No tiene algoritmos de clustering, pero implementa diferentes <a href=”https://en.wikipedia.org/wiki/Metric_(mathematics)”>métricas</a> o medidas de distancia.\n",
    "- [**ScikitLearn**](https://github.com/cstjean/ScikitLearn.jl)"
   ]
  },
  {
   "cell_type": "code",
   "execution_count": 1,
   "metadata": {
    "collapsed": false
   },
   "outputs": [
    {
     "data": {
      "text/html": [
       "<table class=\"data-frame\"><thead><tr><th></th><th>SepalLength</th><th>SepalWidth</th><th>PetalLength</th><th>PetalWidth</th><th>Species</th></tr></thead><tbody><tr><th>1</th><td>5.1</td><td>3.5</td><td>1.4</td><td>0.2</td><td>setosa</td></tr><tr><th>2</th><td>4.9</td><td>3.0</td><td>1.4</td><td>0.2</td><td>setosa</td></tr><tr><th>3</th><td>4.7</td><td>3.2</td><td>1.3</td><td>0.2</td><td>setosa</td></tr><tr><th>4</th><td>4.6</td><td>3.1</td><td>1.5</td><td>0.2</td><td>setosa</td></tr><tr><th>5</th><td>5.0</td><td>3.6</td><td>1.4</td><td>0.2</td><td>setosa</td></tr><tr><th>6</th><td>5.4</td><td>3.9</td><td>1.7</td><td>0.4</td><td>setosa</td></tr></tbody></table>"
      ],
      "text/plain": [
       "6×5 DataFrames.DataFrame\n",
       "│ Row │ SepalLength │ SepalWidth │ PetalLength │ PetalWidth │ Species  │\n",
       "├─────┼─────────────┼────────────┼─────────────┼────────────┼──────────┤\n",
       "│ 1   │ 5.1         │ 3.5        │ 1.4         │ 0.2        │ \"setosa\" │\n",
       "│ 2   │ 4.9         │ 3.0        │ 1.4         │ 0.2        │ \"setosa\" │\n",
       "│ 3   │ 4.7         │ 3.2        │ 1.3         │ 0.2        │ \"setosa\" │\n",
       "│ 4   │ 4.6         │ 3.1        │ 1.5         │ 0.2        │ \"setosa\" │\n",
       "│ 5   │ 5.0         │ 3.6        │ 1.4         │ 0.2        │ \"setosa\" │\n",
       "│ 6   │ 5.4         │ 3.9        │ 1.7         │ 0.4        │ \"setosa\" │"
      ]
     },
     "execution_count": 1,
     "metadata": {},
     "output_type": "execute_result"
    }
   ],
   "source": [
    "using RDatasets \n",
    "\n",
    "iris = dataset(\"datasets\", \"iris\")\n",
    "\n",
    "head(iris)"
   ]
  },
  {
   "cell_type": "code",
   "execution_count": 2,
   "metadata": {
    "collapsed": false
   },
   "outputs": [
    {
     "data": {
      "text/plain": [
       "150×4 Array{Float64,2}:\n",
       " 5.1  3.5  1.4  0.2\n",
       " 4.9  3.0  1.4  0.2\n",
       " 4.7  3.2  1.3  0.2\n",
       " 4.6  3.1  1.5  0.2\n",
       " 5.0  3.6  1.4  0.2\n",
       " 5.4  3.9  1.7  0.4\n",
       " 4.6  3.4  1.4  0.3\n",
       " 5.0  3.4  1.5  0.2\n",
       " 4.4  2.9  1.4  0.2\n",
       " 4.9  3.1  1.5  0.1\n",
       " 5.4  3.7  1.5  0.2\n",
       " 4.8  3.4  1.6  0.2\n",
       " 4.8  3.0  1.4  0.1\n",
       " ⋮                 \n",
       " 6.0  3.0  4.8  1.8\n",
       " 6.9  3.1  5.4  2.1\n",
       " 6.7  3.1  5.6  2.4\n",
       " 6.9  3.1  5.1  2.3\n",
       " 5.8  2.7  5.1  1.9\n",
       " 6.8  3.2  5.9  2.3\n",
       " 6.7  3.3  5.7  2.5\n",
       " 6.7  3.0  5.2  2.3\n",
       " 6.3  2.5  5.0  1.9\n",
       " 6.5  3.0  5.2  2.0\n",
       " 6.2  3.4  5.4  2.3\n",
       " 5.9  3.0  5.1  1.8"
      ]
     },
     "execution_count": 2,
     "metadata": {},
     "output_type": "execute_result"
    }
   ],
   "source": [
    "X = convert(Matrix{Float64}, iris[:,1:4])"
   ]
  },
  {
   "cell_type": "code",
   "execution_count": 6,
   "metadata": {
    "collapsed": false
   },
   "outputs": [],
   "source": [
    "using Distances"
   ]
  },
  {
   "cell_type": "code",
   "execution_count": 7,
   "metadata": {
    "collapsed": false
   },
   "outputs": [
    {
     "data": {
      "text/plain": [
       "4×4 Array{Float64,2}:\n",
       "  0.0     36.1578  28.9662  57.183 \n",
       " 36.1578   0.0     25.7781  25.8641\n",
       " 28.9662  25.7781   0.0     33.8647\n",
       " 57.183   25.8641  33.8647   0.0   "
      ]
     },
     "execution_count": 7,
     "metadata": {},
     "output_type": "execute_result"
    }
   ],
   "source": [
    "distancia = pairwise(Euclidean(), X)"
   ]
  },
  {
   "cell_type": "code",
   "execution_count": 8,
   "metadata": {
    "collapsed": false
   },
   "outputs": [],
   "source": [
    "using RCall"
   ]
  },
  {
   "cell_type": "code",
   "execution_count": 9,
   "metadata": {
    "collapsed": false
   },
   "outputs": [
    {
     "data": {
      "text/plain": [
       "RCall.RObject{RCall.VecSxp}\n",
       "\n",
       "Call:\n",
       "hclust(d = as.dist(`#JL`$distancia), method = \"complete\")\n",
       "\n",
       "Cluster method   : complete \n",
       "Number of objects: 4 \n",
       "\n"
      ]
     },
     "execution_count": 9,
     "metadata": {},
     "output_type": "execute_result"
    }
   ],
   "source": [
    "R\"\"\"\n",
    "hc <- hclust(as.dist($distancia), method=\"complete\")\n",
    "\"\"\""
   ]
  },
  {
   "cell_type": "code",
   "execution_count": 10,
   "metadata": {
    "collapsed": false
   },
   "outputs": [],
   "source": [
    "R\"\"\"\n",
    "plot(hc, label=$(names(iris)[1:4]))\n",
    "rect.hclust(hc, h=30, border=\"gray\")\n",
    "\"\"\";"
   ]
  },
  {
   "cell_type": "code",
   "execution_count": 8,
   "metadata": {
    "collapsed": false
   },
   "outputs": [
    {
     "data": {
      "image/png": "[encoded data removed]"
     },
     "metadata": {},
     "output_type": "display_data"
    }
   ],
   "source": [
    "R\"\"\"\n",
    "hc <- hclust(as.dist($distancia), method=\"single\")\n",
    "plot(hc, label=$(names(iris)[1:4]))\n",
    "rect.hclust(hc, h=30, border=\"gray\")\n",
    "\"\"\";"
   ]
  },
  {
   "cell_type": "code",
   "execution_count": 11,
   "metadata": {
    "collapsed": false
   },
   "outputs": [
    {
     "data": {
      "text/plain": [
       "150×150 Array{Float64,2}:\n",
       " 0.0       0.538516  0.509902  0.648074  …  4.45982   4.65081   4.14005 \n",
       " 0.538516  0.0       0.3       0.331662     4.49889   4.71805   4.15331 \n",
       " 0.509902  0.3       0.0       0.244949     4.66154   4.84871   4.29884 \n",
       " 0.648074  0.331662  0.244949  0.0          4.53321   4.71911   4.1497  \n",
       " 0.141421  0.608276  0.509902  0.648074     4.50444   4.67868   4.17373 \n",
       " 0.616441  1.09087   1.08628   1.16619   …  4.10244   4.26497   3.81838 \n",
       " 0.519615  0.509902  0.264575  0.331662     4.59347   4.74974   4.21782 \n",
       " 0.173205  0.424264  0.412311  0.5          4.39773   4.58912   4.06079 \n",
       " 0.921954  0.509902  0.43589   0.3          4.70106   4.88876   4.30232 \n",
       " 0.469042  0.173205  0.316228  0.316228     4.45758   4.67226   4.10609 \n",
       " 0.374166  0.866025  0.883176  1.0       …  4.31625   4.5111    4.03237 \n",
       " 0.374166  0.458258  0.374166  0.374166     4.38748   4.5618    4.02244 \n",
       " 0.591608  0.141421  0.264575  0.264575     4.57602   4.79166   4.21782 \n",
       " ⋮                                       ⋱                              \n",
       " 3.89615   3.91535   4.06694   3.92683      0.67082   0.9       0.316228\n",
       " 4.79687   4.86004   5.02693   4.91019      0.469042  0.787401  1.09087 \n",
       " 5.01996   5.07247   5.22877   5.1049    …  0.608276  0.6245    1.1225  \n",
       " 4.63681   4.70213   4.86826   4.76025      0.519615  0.818535  1.1225  \n",
       " 4.20833   4.18091   4.33474   4.17732      0.774597  0.948683  0.331662\n",
       " 5.25738   5.32071   5.4754    5.34977      0.842615  0.806226  1.31909 \n",
       " 5.13615   5.20673   5.3535    5.23259      0.793725  0.6245    1.25698 \n",
       " 4.65403   4.7       4.86415   4.74552   …  0.360555  0.67082   0.948683\n",
       " 4.27668   4.24971   4.43058   4.28836      0.583095  1.06771   0.655744\n",
       " 4.45982   4.49889   4.66154   4.53321      0.0       0.616441  0.640312\n",
       " 4.65081   4.71805   4.84871   4.71911      0.616441  0.0       0.768115\n",
       " 4.14005   4.15331   4.29884   4.1497       0.640312  0.768115  0.0     "
      ]
     },
     "execution_count": 11,
     "metadata": {},
     "output_type": "execute_result"
    }
   ],
   "source": [
    "distancia = pairwise(Euclidean(), X')"
   ]
  },
  {
   "cell_type": "code",
   "execution_count": 17,
   "metadata": {
    "collapsed": false
   },
   "outputs": [],
   "source": [
    "R\"\"\"\n",
    "hcomplete <- hclust(as.dist($distancia), method=\"complete\")\n",
    "plot(hcomplete)\n",
    "rect.hclust(hcomplete, h=1.0, border=\"gray\")\n",
    "\"\"\";"
   ]
  },
  {
   "cell_type": "code",
   "execution_count": 18,
   "metadata": {
    "collapsed": false
   },
   "outputs": [],
   "source": [
    "R\"\"\"\n",
    "hsingle <- hclust(as.dist($distancia), method=\"single\")\n",
    "plot(hsingle)\n",
    "rect.hclust(hsingle, h=1.0, border=\"gray\")\n",
    "\"\"\";"
   ]
  },
  {
   "cell_type": "code",
   "execution_count": 19,
   "metadata": {
    "collapsed": false
   },
   "outputs": [
    {
     "data": {
      "text/plain": [
       "150-element Array{Int32,1}:\n",
       " 1\n",
       " 1\n",
       " 1\n",
       " 1\n",
       " 1\n",
       " 1\n",
       " 1\n",
       " 1\n",
       " 1\n",
       " 1\n",
       " 1\n",
       " 1\n",
       " 1\n",
       " ⋮\n",
       " 2\n",
       " 2\n",
       " 2\n",
       " 2\n",
       " 2\n",
       " 2\n",
       " 2\n",
       " 2\n",
       " 2\n",
       " 2\n",
       " 2\n",
       " 2"
      ]
     },
     "execution_count": 19,
     "metadata": {},
     "output_type": "execute_result"
    }
   ],
   "source": [
    "hsingle = rcopy( R\"cutree(hsingle, h=1.0)\" )"
   ]
  },
  {
   "cell_type": "code",
   "execution_count": 20,
   "metadata": {
    "collapsed": false
   },
   "outputs": [
    {
     "data": {
      "text/plain": [
       "150-element Array{Int32,1}:\n",
       "  1\n",
       "  1\n",
       "  2\n",
       "  2\n",
       "  1\n",
       "  3\n",
       "  1\n",
       "  1\n",
       "  2\n",
       "  1\n",
       "  3\n",
       "  1\n",
       "  1\n",
       "  ⋮\n",
       " 13\n",
       " 21\n",
       " 15\n",
       " 21\n",
       " 13\n",
       " 15\n",
       " 15\n",
       " 21\n",
       " 14\n",
       " 21\n",
       " 15\n",
       " 13"
      ]
     },
     "execution_count": 20,
     "metadata": {},
     "output_type": "execute_result"
    }
   ],
   "source": [
    "hcomplete = rcopy( R\"cutree(hcomplete, h=1.0)\" )"
   ]
  },
  {
   "cell_type": "code",
   "execution_count": 21,
   "metadata": {
    "collapsed": false
   },
   "outputs": [],
   "source": [
    "using FreqTables"
   ]
  },
  {
   "cell_type": "code",
   "execution_count": 22,
   "metadata": {
    "collapsed": false
   },
   "outputs": [
    {
     "data": {
      "text/plain": [
       "22×2 Named Array{Int64,2}\n",
       "Dim1 ╲ Dim2 │  1   2\n",
       "────────────┼───────\n",
       "1           │ 22   0\n",
       "2           │  8   0\n",
       "3           │ 14   0\n",
       "4           │  5   0\n",
       "5           │  1   0\n",
       "6           │  0   9\n",
       "7           │  0   9\n",
       "8           │  0   8\n",
       "9           │  0  14\n",
       "10          │  0   4\n",
       "11          │  0   1\n",
       "12          │  0   3\n",
       "13          │  0   9\n",
       "14          │  0   8\n",
       "15          │  0   8\n",
       "16          │  0   5\n",
       "17          │  0   7\n",
       "18          │  0   3\n",
       "19          │  0   1\n",
       "20          │  0   2\n",
       "21          │  0   7\n",
       "22          │  0   2"
      ]
     },
     "execution_count": 22,
     "metadata": {},
     "output_type": "execute_result"
    }
   ],
   "source": [
    "freqtable(hcomplete, hsingle)"
   ]
  },
  {
   "cell_type": "code",
   "execution_count": 23,
   "metadata": {
    "collapsed": false
   },
   "outputs": [
    {
     "name": "stderr",
     "output_type": "stream",
     "text": [
      "\u001b[1m\u001b[34mINFO: Recompiling stale cache file /home/dzea/.julia/lib/v0.5/Clustering.ji for module Clustering.\n",
      "\u001b[0m"
     ]
    }
   ],
   "source": [
    "using Clustering"
   ]
  },
  {
   "cell_type": "code",
   "execution_count": 24,
   "metadata": {
    "collapsed": false
   },
   "outputs": [
    {
     "ename": "LoadError",
     "evalue": "MethodError: no method matching varinfo(::Int32, ::Array{Int32,1}, ::Int32, ::Array{Int32,1})",
     "output_type": "error",
     "traceback": [
      "MethodError: no method matching varinfo(::Int32, ::Array{Int32,1}, ::Int32, ::Array{Int32,1})",
      ""
     ]
    }
   ],
   "source": [
    "varinfo(maximum(hcomplete), hcomplete, maximum(hsingle), hsingle)"
   ]
  },
  {
   "cell_type": "code",
   "execution_count": 25,
   "metadata": {
    "collapsed": false
   },
   "outputs": [
    {
     "data": {
      "text/html": [
       "3 methods for generic function <b>varinfo</b>:<ul><li> varinfo(k1::<b>Int64</b>, a1::<b>AbstractArray{Int64,1}</b>, k2::<b>Int64</b>, a2::<b>AbstractArray{Int64,1}</b>) at <a href=\"https://github.com/JuliaStats/Clustering.jl/tree/ea03689a96f5a4601894959a028b390e9fbf7f73/src/varinfo.jl#L7\" target=\"_blank\">/home/dzea/.julia/v0.5/Clustering/src/varinfo.jl:7</a></li> <li> varinfo(R::<b>Clustering.ClusteringResult</b>, k0::<b>Int64</b>, a0::<b>AbstractArray{Int64,1}</b>) at <a href=\"https://github.com/JuliaStats/Clustering.jl/tree/ea03689a96f5a4601894959a028b390e9fbf7f73/src/varinfo.jl#L51\" target=\"_blank\">/home/dzea/.julia/v0.5/Clustering/src/varinfo.jl:51</a></li> <li> varinfo(R1::<b>Clustering.ClusteringResult</b>, R2::<b>Clustering.ClusteringResult</b>) at <a href=\"https://github.com/JuliaStats/Clustering.jl/tree/ea03689a96f5a4601894959a028b390e9fbf7f73/src/varinfo.jl#L54\" target=\"_blank\">/home/dzea/.julia/v0.5/Clustering/src/varinfo.jl:54</a></li> </ul>"
      ],
      "text/plain": [
       "# 3 methods for generic function \"varinfo\":\n",
       "varinfo(k1::Int64, a1::AbstractArray{Int64,1}, k2::Int64, a2::AbstractArray{Int64,1}) at /home/dzea/.julia/v0.5/Clustering/src/varinfo.jl:7\n",
       "varinfo(R::Clustering.ClusteringResult, k0::Int64, a0::AbstractArray{Int64,1}) at /home/dzea/.julia/v0.5/Clustering/src/varinfo.jl:51\n",
       "varinfo(R1::Clustering.ClusteringResult, R2::Clustering.ClusteringResult) at /home/dzea/.julia/v0.5/Clustering/src/varinfo.jl:54"
      ]
     },
     "execution_count": 25,
     "metadata": {},
     "output_type": "execute_result"
    }
   ],
   "source": [
    "methods(varinfo)"
   ]
  },
  {
   "cell_type": "code",
   "execution_count": 26,
   "metadata": {
    "collapsed": false
   },
   "outputs": [
    {
     "data": {
      "text/plain": [
       "150-element Array{Int64,1}:\n",
       " 1\n",
       " 1\n",
       " 1\n",
       " 1\n",
       " 1\n",
       " 1\n",
       " 1\n",
       " 1\n",
       " 1\n",
       " 1\n",
       " 1\n",
       " 1\n",
       " 1\n",
       " ⋮\n",
       " 2\n",
       " 2\n",
       " 2\n",
       " 2\n",
       " 2\n",
       " 2\n",
       " 2\n",
       " 2\n",
       " 2\n",
       " 2\n",
       " 2\n",
       " 2"
      ]
     },
     "execution_count": 26,
     "metadata": {},
     "output_type": "execute_result"
    }
   ],
   "source": [
    "hcomplete = convert(Vector{Int64}, hcomplete)\n",
    "hsingle   = convert(Vector{Int64}, hsingle)"
   ]
  },
  {
   "cell_type": "code",
   "execution_count": 27,
   "metadata": {
    "collapsed": false
   },
   "outputs": [
    {
     "data": {
      "text/html": [
       "2.2007191709028677"
      ],
      "text/plain": [
       "2.2007191709028677"
      ]
     },
     "execution_count": 27,
     "metadata": {},
     "output_type": "execute_result"
    }
   ],
   "source": [
    "varinfo(maximum(hcomplete), hcomplete, maximum(hsingle), hsingle)"
   ]
  },
  {
   "cell_type": "code",
   "execution_count": 28,
   "metadata": {
    "collapsed": false
   },
   "outputs": [
    {
     "name": "stderr",
     "output_type": "stream",
     "text": [
      "\u001b[1m\u001b[34mINFO: Precompiling module Bootstrap.\n",
      "\u001b[0m"
     ]
    }
   ],
   "source": [
    "using Bootstrap"
   ]
  },
  {
   "cell_type": "code",
   "execution_count": 29,
   "metadata": {
    "collapsed": false
   },
   "outputs": [
    {
     "data": {
      "text/plain": [
       "(8.881784197001252e-16,0.0)"
      ]
     },
     "execution_count": 29,
     "metadata": {},
     "output_type": "execute_result"
    }
   ],
   "source": [
    "( varinfo(maximum(hcomplete), hcomplete, maximum(hcomplete), hcomplete), \n",
    "  varinfo(maximum(hsingle), hsingle, maximum(hsingle), hsingle) )"
   ]
  },
  {
   "cell_type": "code",
   "execution_count": 30,
   "metadata": {
    "collapsed": false
   },
   "outputs": [
    {
     "data": {
      "text/plain": [
       "150×2 Array{Int64,2}:\n",
       "  1  1\n",
       "  1  1\n",
       "  2  1\n",
       "  2  1\n",
       "  1  1\n",
       "  3  1\n",
       "  1  1\n",
       "  1  1\n",
       "  2  1\n",
       "  1  1\n",
       "  3  1\n",
       "  1  1\n",
       "  1  1\n",
       "  ⋮   \n",
       " 13  2\n",
       " 21  2\n",
       " 15  2\n",
       " 21  2\n",
       " 13  2\n",
       " 15  2\n",
       " 15  2\n",
       " 21  2\n",
       " 14  2\n",
       " 21  2\n",
       " 15  2\n",
       " 13  2"
      ]
     },
     "execution_count": 30,
     "metadata": {},
     "output_type": "execute_result"
    }
   ],
   "source": [
    "asignaciones = hcat(hcomplete, hsingle)"
   ]
  },
  {
   "cell_type": "code",
   "execution_count": 31,
   "metadata": {
    "collapsed": false
   },
   "outputs": [
    {
     "data": {
      "text/plain": [
       "VI (generic function with 1 method)"
      ]
     },
     "execution_count": 31,
     "metadata": {},
     "output_type": "execute_result"
    }
   ],
   "source": [
    "function VI(indices)\n",
    "    A = asignaciones[indices,1]\n",
    "    B = asignaciones[indices,2]\n",
    "    varinfo(maximum(A), A, maximum(B), B)\n",
    "end"
   ]
  },
  {
   "cell_type": "code",
   "execution_count": 36,
   "metadata": {
    "collapsed": false
   },
   "outputs": [
    {
     "data": {
      "text/plain": [
       "Bootstrap Sampling\n",
       "  Estimates:\n",
       "    │ Var │ Estimate │ Bias       │ StdError  │\n",
       "    ├─────┼──────────┼────────────┼───────────┤\n",
       "    │ 1   │ 2.20072  │ -0.0707971 │ 0.0717877 │\n",
       "  Sampling: BasicSampling\n",
       "  Samples:  10000\n",
       "  Data:     Array{Int64,1}: { 150 }\n"
      ]
     },
     "execution_count": 36,
     "metadata": {},
     "output_type": "execute_result"
    }
   ],
   "source": [
    "VI_boot = bootstrap(collect(1:size(asignaciones,1)), VI, BasicSampling(10_000))"
   ]
  },
  {
   "cell_type": "code",
   "execution_count": 39,
   "metadata": {
    "collapsed": false
   },
   "outputs": [
    {
     "data": {
      "text/plain": [
       "((2.2007191709028677,2.132464155482269,2.3668591663516687),)"
      ]
     },
     "execution_count": 39,
     "metadata": {},
     "output_type": "execute_result"
    }
   ],
   "source": [
    "ci(VI_boot, BCaConfInt(0.95))"
   ]
  },
  {
   "cell_type": "code",
   "execution_count": 43,
   "metadata": {
    "collapsed": false
   },
   "outputs": [
    {
     "data": {
      "text/html": [
       "<img src=\"data:image/png;base64,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\" />"
      ]
     },
     "execution_count": 43,
     "metadata": {},
     "output_type": "execute_result"
    }
   ],
   "source": [
    "using Plots, StatPlots\n",
    "pyplot(size=(300,300))\n",
    "\n",
    "histogram(VI_boot.t1, linecolor=:grey, fillcolor=:grey, legend=false)\n",
    "vline!([0, VI_boot.t0])"
   ]
  },
  {
   "cell_type": "code",
   "execution_count": null,
   "metadata": {
    "collapsed": true
   },
   "outputs": [],
   "source": []
  }
 ],
 "metadata": {
  "kernelspec": {
   "display_name": "Julia 0.5.0",
   "language": "julia",
   "name": "julia-0.5"
  },
  "language_info": {
   "file_extension": ".jl",
   "mimetype": "application/julia",
   "name": "julia",
   "version": "0.5.0"
  }
 },
 "nbformat": 4,
 "nbformat_minor": 0
}
