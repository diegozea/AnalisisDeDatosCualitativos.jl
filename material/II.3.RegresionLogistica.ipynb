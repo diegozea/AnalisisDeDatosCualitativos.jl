{
 "cells": [
  {
   "cell_type": "markdown",
   "metadata": {},
   "source": [
    "### Unidad II. Regresiones y reducción de dimensionalidad.\n",
    "\n",
    "## Análisis de Regresión Logística.\n",
    "\n",
    "- Curvas ROC."
   ]
  },
  {
   "cell_type": "markdown",
   "metadata": {},
   "source": [
    "#### Lectura de datos"
   ]
  },
  {
   "cell_type": "markdown",
   "metadata": {},
   "source": [
    "Puedo leer la tabla desde un archivo [*csv (comma-separated values)*](https://en.wikipedia.org/wiki/Comma-separated_values) (por ejemplo, exportado de Excel) usando [`readtable` de *DataFrames*](http://juliastats.github.io/DataFrames.jl/stable/)"
   ]
  },
  {
   "cell_type": "code",
   "execution_count": 1,
   "metadata": {
    "collapsed": false
   },
   "outputs": [
    {
     "data": {
      "text/html": [
       "<table class=\"data-frame\"><thead><tr><th></th><th>Sex</th><th>WrHnd</th><th>NWHnd</th><th>WHnd</th><th>Fold</th><th>Pulse</th><th>Clap</th><th>Exer</th><th>Smoke</th><th>Height</th><th>MI</th><th>Age</th></tr></thead><tbody><tr><th>1</th><td>Female</td><td>18.5</td><td>18.0</td><td>Right</td><td>R on L</td><td>92</td><td>Left</td><td>Some</td><td>Never</td><td>173.0</td><td>Metric</td><td>18.25</td></tr><tr><th>2</th><td>Male</td><td>19.5</td><td>20.5</td><td>Left</td><td>R on L</td><td>104</td><td>Left</td><td>None</td><td>Regul</td><td>177.8</td><td>Imperial</td><td>17.583</td></tr><tr><th>3</th><td>Male</td><td>18.0</td><td>13.3</td><td>Right</td><td>L on R</td><td>87</td><td>Neither</td><td>None</td><td>Occas</td><td>NaN</td><td>NA</td><td>16.917</td></tr><tr><th>4</th><td>Male</td><td>18.8</td><td>18.9</td><td>Right</td><td>R on L</td><td>NA</td><td>Neither</td><td>None</td><td>Never</td><td>160.0</td><td>Metric</td><td>20.333</td></tr><tr><th>5</th><td>Male</td><td>20.0</td><td>20.0</td><td>Right</td><td>Neither</td><td>35</td><td>Right</td><td>Some</td><td>Never</td><td>165.0</td><td>Metric</td><td>23.667</td></tr><tr><th>6</th><td>Female</td><td>18.0</td><td>17.7</td><td>Right</td><td>L on R</td><td>64</td><td>Right</td><td>Some</td><td>Never</td><td>172.72</td><td>Imperial</td><td>21.0</td></tr></tbody></table>"
      ],
      "text/plain": [
       "6×12 DataFrames.DataFrame\n",
       "│ Row │ Sex      │ WrHnd │ NWHnd │ WHnd    │ Fold      │ Pulse │ Clap      │\n",
       "├─────┼──────────┼───────┼───────┼─────────┼───────────┼───────┼───────────┤\n",
       "│ 1   │ \"Female\" │ 18.5  │ 18.0  │ \"Right\" │ \"R on L\"  │ 92    │ \"Left\"    │\n",
       "│ 2   │ \"Male\"   │ 19.5  │ 20.5  │ \"Left\"  │ \"R on L\"  │ 104   │ \"Left\"    │\n",
       "│ 3   │ \"Male\"   │ 18.0  │ 13.3  │ \"Right\" │ \"L on R\"  │ 87    │ \"Neither\" │\n",
       "│ 4   │ \"Male\"   │ 18.8  │ 18.9  │ \"Right\" │ \"R on L\"  │ NA    │ \"Neither\" │\n",
       "│ 5   │ \"Male\"   │ 20.0  │ 20.0  │ \"Right\" │ \"Neither\" │ 35    │ \"Right\"   │\n",
       "│ 6   │ \"Female\" │ 18.0  │ 17.7  │ \"Right\" │ \"L on R\"  │ 64    │ \"Right\"   │\n",
       "\n",
       "│ Row │ Exer   │ Smoke   │ Height │ MI         │ Age    │\n",
       "├─────┼────────┼─────────┼────────┼────────────┼────────┤\n",
       "│ 1   │ \"Some\" │ \"Never\" │ 173.0  │ \"Metric\"   │ 18.25  │\n",
       "│ 2   │ \"None\" │ \"Regul\" │ 177.8  │ \"Imperial\" │ 17.583 │\n",
       "│ 3   │ \"None\" │ \"Occas\" │ NaN    │ NA         │ 16.917 │\n",
       "│ 4   │ \"None\" │ \"Never\" │ 160.0  │ \"Metric\"   │ 20.333 │\n",
       "│ 5   │ \"Some\" │ \"Never\" │ 165.0  │ \"Metric\"   │ 23.667 │\n",
       "│ 6   │ \"Some\" │ \"Never\" │ 172.72 │ \"Imperial\" │ 21.0   │"
      ]
     },
     "execution_count": 1,
     "metadata": {},
     "output_type": "execute_result"
    }
   ],
   "source": [
    "using DataFrames\n",
    "survey = readtable(\"survey.csv\")\n",
    "head(survey)"
   ]
  },
  {
   "cell_type": "markdown",
   "metadata": {},
   "source": [
    "Para este análisis los `NaN` ([*not a number*](https://en.wikipedia.org/wiki/NaN)) pueden ser tomados como valores faltantes: `NA` (*not available*)"
   ]
  },
  {
   "cell_type": "code",
   "execution_count": 2,
   "metadata": {
    "collapsed": false
   },
   "outputs": [
    {
     "data": {
      "text/html": [
       "<table class=\"data-frame\"><thead><tr><th></th><th>Sex</th><th>WrHnd</th><th>NWHnd</th><th>WHnd</th><th>Fold</th><th>Pulse</th><th>Clap</th><th>Exer</th><th>Smoke</th><th>Height</th><th>MI</th><th>Age</th></tr></thead><tbody><tr><th>1</th><td>Female</td><td>18.5</td><td>18.0</td><td>Right</td><td>R on L</td><td>92</td><td>Left</td><td>Some</td><td>Never</td><td>173.0</td><td>Metric</td><td>18.25</td></tr><tr><th>2</th><td>Male</td><td>19.5</td><td>20.5</td><td>Left</td><td>R on L</td><td>104</td><td>Left</td><td>None</td><td>Regul</td><td>177.8</td><td>Imperial</td><td>17.583</td></tr><tr><th>3</th><td>Male</td><td>18.0</td><td>13.3</td><td>Right</td><td>L on R</td><td>87</td><td>Neither</td><td>None</td><td>Occas</td><td>NA</td><td>NA</td><td>16.917</td></tr><tr><th>4</th><td>Male</td><td>18.8</td><td>18.9</td><td>Right</td><td>R on L</td><td>NA</td><td>Neither</td><td>None</td><td>Never</td><td>160.0</td><td>Metric</td><td>20.333</td></tr><tr><th>5</th><td>Male</td><td>20.0</td><td>20.0</td><td>Right</td><td>Neither</td><td>35</td><td>Right</td><td>Some</td><td>Never</td><td>165.0</td><td>Metric</td><td>23.667</td></tr><tr><th>6</th><td>Female</td><td>18.0</td><td>17.7</td><td>Right</td><td>L on R</td><td>64</td><td>Right</td><td>Some</td><td>Never</td><td>172.72</td><td>Imperial</td><td>21.0</td></tr></tbody></table>"
      ],
      "text/plain": [
       "6×12 DataFrames.DataFrame\n",
       "│ Row │ Sex      │ WrHnd │ NWHnd │ WHnd    │ Fold      │ Pulse │ Clap      │\n",
       "├─────┼──────────┼───────┼───────┼─────────┼───────────┼───────┼───────────┤\n",
       "│ 1   │ \"Female\" │ 18.5  │ 18.0  │ \"Right\" │ \"R on L\"  │ 92    │ \"Left\"    │\n",
       "│ 2   │ \"Male\"   │ 19.5  │ 20.5  │ \"Left\"  │ \"R on L\"  │ 104   │ \"Left\"    │\n",
       "│ 3   │ \"Male\"   │ 18.0  │ 13.3  │ \"Right\" │ \"L on R\"  │ 87    │ \"Neither\" │\n",
       "│ 4   │ \"Male\"   │ 18.8  │ 18.9  │ \"Right\" │ \"R on L\"  │ NA    │ \"Neither\" │\n",
       "│ 5   │ \"Male\"   │ 20.0  │ 20.0  │ \"Right\" │ \"Neither\" │ 35    │ \"Right\"   │\n",
       "│ 6   │ \"Female\" │ 18.0  │ 17.7  │ \"Right\" │ \"L on R\"  │ 64    │ \"Right\"   │\n",
       "\n",
       "│ Row │ Exer   │ Smoke   │ Height │ MI         │ Age    │\n",
       "├─────┼────────┼─────────┼────────┼────────────┼────────┤\n",
       "│ 1   │ \"Some\" │ \"Never\" │ 173.0  │ \"Metric\"   │ 18.25  │\n",
       "│ 2   │ \"None\" │ \"Regul\" │ 177.8  │ \"Imperial\" │ 17.583 │\n",
       "│ 3   │ \"None\" │ \"Occas\" │ NA     │ NA         │ 16.917 │\n",
       "│ 4   │ \"None\" │ \"Never\" │ 160.0  │ \"Metric\"   │ 20.333 │\n",
       "│ 5   │ \"Some\" │ \"Never\" │ 165.0  │ \"Metric\"   │ 23.667 │\n",
       "│ 6   │ \"Some\" │ \"Never\" │ 172.72 │ \"Imperial\" │ 21.0   │"
      ]
     },
     "execution_count": 2,
     "metadata": {},
     "output_type": "execute_result"
    }
   ],
   "source": [
    "survey = readtable(\"survey.csv\", nastrings=[\"\",\"NA\",\"NaN\"])\n",
    "head(survey)"
   ]
  },
  {
   "cell_type": "markdown",
   "metadata": {},
   "source": [
    "### [Regresión Logística](https://en.wikipedia.org/wiki/Logistic_regression)"
   ]
  },
  {
   "cell_type": "markdown",
   "metadata": {},
   "source": [
    "Supongamos, que partiendo de los datos de la encuesta queremos generar un modelo que nos permita clasificar hombres y mujeres dependiendo de su altura.  \n",
    "Podríamos darle un valor numérico a hombres y mujeres (`0`, `1`), para luego realizar una regresión lineal que permita predecir estos valores.  \n",
    "Cómo no disponemos de la posibilidad de conseguir nuevos datos (por ejemplo, no podemos permitirnos una segunda encuesta), vamos a hacer esta primera exploración en una porción del *dataset*.  "
   ]
  },
  {
   "cell_type": "code",
   "execution_count": 3,
   "metadata": {
    "collapsed": false
   },
   "outputs": [
    {
     "data": {
      "text/html": [
       "<table class=\"data-frame\"><thead><tr><th></th><th>Sex</th><th>Height</th></tr></thead><tbody><tr><th>1</th><td>Female</td><td>173.0</td></tr><tr><th>2</th><td>Male</td><td>177.8</td></tr><tr><th>3</th><td>Male</td><td>NA</td></tr><tr><th>4</th><td>Male</td><td>160.0</td></tr><tr><th>5</th><td>Male</td><td>165.0</td></tr><tr><th>6</th><td>Female</td><td>172.72</td></tr></tbody></table>"
      ],
      "text/plain": [
       "6×2 DataFrames.DataFrame\n",
       "│ Row │ Sex      │ Height │\n",
       "├─────┼──────────┼────────┤\n",
       "│ 1   │ \"Female\" │ 173.0  │\n",
       "│ 2   │ \"Male\"   │ 177.8  │\n",
       "│ 3   │ \"Male\"   │ NA     │\n",
       "│ 4   │ \"Male\"   │ 160.0  │\n",
       "│ 5   │ \"Male\"   │ 165.0  │\n",
       "│ 6   │ \"Female\" │ 172.72 │"
      ]
     },
     "execution_count": 3,
     "metadata": {},
     "output_type": "execute_result"
    }
   ],
   "source": [
    "subset = survey[:,[:Sex,:Height]] # Me quedo con las columnas de interés\n",
    "head(subset)"
   ]
  },
  {
   "cell_type": "code",
   "execution_count": 4,
   "metadata": {
    "collapsed": false
   },
   "outputs": [
    {
     "data": {
      "text/html": [
       "<table class=\"data-frame\"><thead><tr><th></th><th>Sex</th><th>Height</th></tr></thead><tbody><tr><th>1</th><td>Female</td><td>173.0</td></tr><tr><th>2</th><td>Male</td><td>177.8</td></tr><tr><th>3</th><td>Male</td><td>160.0</td></tr><tr><th>4</th><td>Male</td><td>165.0</td></tr><tr><th>5</th><td>Female</td><td>172.72</td></tr><tr><th>6</th><td>Male</td><td>182.88</td></tr></tbody></table>"
      ],
      "text/plain": [
       "6×2 DataFrames.DataFrame\n",
       "│ Row │ Sex      │ Height │\n",
       "├─────┼──────────┼────────┤\n",
       "│ 1   │ \"Female\" │ 173.0  │\n",
       "│ 2   │ \"Male\"   │ 177.8  │\n",
       "│ 3   │ \"Male\"   │ 160.0  │\n",
       "│ 4   │ \"Male\"   │ 165.0  │\n",
       "│ 5   │ \"Female\" │ 172.72 │\n",
       "│ 6   │ \"Male\"   │ 182.88 │"
      ]
     },
     "execution_count": 4,
     "metadata": {},
     "output_type": "execute_result"
    }
   ],
   "source": [
    "completecases!(subset) # Elimina las filas que tienen al menos un NA\n",
    "head(subset)"
   ]
  },
  {
   "cell_type": "markdown",
   "metadata": {},
   "source": [
    "Le doy un valor numérico a hombres y mujeres (`0`, `1`)"
   ]
  },
  {
   "cell_type": "code",
   "execution_count": 5,
   "metadata": {
    "collapsed": false
   },
   "outputs": [
    {
     "data": {
      "text/html": [
       "<table class=\"data-frame\"><thead><tr><th></th><th>Sex</th><th>Height</th></tr></thead><tbody><tr><th>1</th><td>1</td><td>173.0</td></tr><tr><th>2</th><td>0</td><td>177.8</td></tr><tr><th>3</th><td>0</td><td>160.0</td></tr><tr><th>4</th><td>0</td><td>165.0</td></tr><tr><th>5</th><td>1</td><td>172.72</td></tr><tr><th>6</th><td>0</td><td>182.88</td></tr></tbody></table>"
      ],
      "text/plain": [
       "6×2 DataFrames.DataFrame\n",
       "│ Row │ Sex │ Height │\n",
       "├─────┼─────┼────────┤\n",
       "│ 1   │ 1   │ 173.0  │\n",
       "│ 2   │ 0   │ 177.8  │\n",
       "│ 3   │ 0   │ 160.0  │\n",
       "│ 4   │ 0   │ 165.0  │\n",
       "│ 5   │ 1   │ 172.72 │\n",
       "│ 6   │ 0   │ 182.88 │"
      ]
     },
     "execution_count": 5,
     "metadata": {},
     "output_type": "execute_result"
    }
   ],
   "source": [
    "subset[:Sex] = [ sex == \"Male\" ? 0 : 1 for sex in subset[:Sex]]\n",
    "head(subset)"
   ]
  },
  {
   "cell_type": "code",
   "execution_count": 6,
   "metadata": {
    "collapsed": false
   },
   "outputs": [
    {
     "data": {
      "text/plain": [
       "208"
      ]
     },
     "execution_count": 6,
     "metadata": {},
     "output_type": "execute_result"
    }
   ],
   "source": [
    "N = nrow(subset)"
   ]
  },
  {
   "cell_type": "code",
   "execution_count": 7,
   "metadata": {
    "collapsed": false
   },
   "outputs": [
    {
     "data": {
      "text/plain": [
       "6"
      ]
     },
     "execution_count": 7,
     "metadata": {},
     "output_type": "execute_result"
    }
   ],
   "source": [
    "div(N,30)"
   ]
  },
  {
   "cell_type": "markdown",
   "metadata": {},
   "source": [
    "Para evitar [**hipótesis post hoc**](https://en.wikipedia.org/wiki/Testing_hypotheses_suggested_by_the_data), y para poder entrenar nuestro clasificador sin [**overfitting**](https://en.wikipedia.org/wiki/Overfitting), usaremos una estrategia de <a href=”https://en.wikipedia.org/wiki/Cross-validation_(statistics)”>**cross validation**</a>. En este caso será un 6-fold cross-validation (para poder tener cerca de 30 puntos en casa grupo de prueba) estratificado (para poder conservar la proporción de hombres y mujeres en cada grupo de datos) usando [MLBase](http://mlbasejl.readthedocs.io/en/latest/crossval.html).\n"
   ]
  },
  {
   "cell_type": "code",
   "execution_count": 8,
   "metadata": {
    "collapsed": true
   },
   "outputs": [],
   "source": [
    "using MLBase"
   ]
  },
  {
   "cell_type": "code",
   "execution_count": 9,
   "metadata": {
    "collapsed": false
   },
   "outputs": [
    {
     "data": {
      "text/plain": [
       "MLBase.StratifiedKfold(208,Array{Int64,1}[[34,132,63,88,95,66,200,202,208,119  …  146,152,37,110,29,124,72,185,58,172],[126,147,3,162,105,61,45,21,30,103  …  79,17,47,48,140,127,69,167,125,199]],6,[17.0,17.6667])"
      ]
     },
     "execution_count": 9,
     "metadata": {},
     "output_type": "execute_result"
    }
   ],
   "source": [
    "cv = StratifiedKfold(subset[:Sex], 6)"
   ]
  },
  {
   "cell_type": "code",
   "execution_count": 10,
   "metadata": {
    "collapsed": false
   },
   "outputs": [
    {
     "data": {
      "text/plain": [
       "6-element Array{Any,1}:\n",
       " [1,2,4,5,6,7,8,9,10,11  …  196,197,198,199,201,203,204,205,206,207]  \n",
       " [1,2,3,6,8,9,10,11,13,14  …  199,200,201,202,203,204,205,206,207,208]\n",
       " [1,2,3,4,5,6,7,8,9,10  …  198,199,200,201,202,203,204,205,207,208]   \n",
       " [1,2,3,4,5,6,7,8,11,12  …  195,196,197,198,199,200,201,202,206,208]  \n",
       " [2,3,4,5,7,9,10,11,12,13  …  198,199,200,202,203,204,205,206,207,208]\n",
       " [1,3,4,5,6,7,8,9,10,11  …  198,200,201,202,203,204,205,206,207,208]  "
      ]
     },
     "execution_count": 10,
     "metadata": {},
     "output_type": "execute_result"
    }
   ],
   "source": [
    "índices_cv = collect(cv)"
   ]
  },
  {
   "cell_type": "code",
   "execution_count": 11,
   "metadata": {
    "collapsed": false
   },
   "outputs": [
    {
     "name": "stdout",
     "output_type": "stream",
     "text": [
      "Sex\n",
      "Min      0.0\n",
      "1st Qu.  0.0\n",
      "Median   0.0\n",
      "Mean     0.4913294797687861\n",
      "3rd Qu.  1.0\n",
      "Max      1.0\n",
      "NAs      0\n",
      "NA%      0.0%\n",
      "\n",
      "Height\n",
      "Min      150.0\n",
      "1st Qu.  165.0\n",
      "Median   171.0\n",
      "Mean     172.4492485549133\n",
      "3rd Qu.  180.0\n",
      "Max      200.0\n",
      "NAs      0\n",
      "NA%      0.0%\n",
      "\n"
     ]
    }
   ],
   "source": [
    "índices_exploración = índices_cv[1]\n",
    "exploración = subset[índices_exploración,:]\n",
    "\n",
    "describe(exploración)"
   ]
  },
  {
   "cell_type": "code",
   "execution_count": 12,
   "metadata": {
    "collapsed": false
   },
   "outputs": [
    {
     "data": {
      "text/plain": [
       "Plots.PyPlotBackend()"
      ]
     },
     "execution_count": 12,
     "metadata": {},
     "output_type": "execute_result"
    }
   ],
   "source": [
    "using Plots, StatPlots\n",
    "pyplot(size=(400,200))"
   ]
  },
  {
   "cell_type": "code",
   "execution_count": 13,
   "metadata": {
    "collapsed": false
   },
   "outputs": [],
   "source": [
    "using GLM\n",
    "using Distributions"
   ]
  },
  {
   "cell_type": "code",
   "execution_count": 14,
   "metadata": {
    "collapsed": false
   },
   "outputs": [
    {
     "data": {
      "text/plain": [
       "DataFrames.DataFrameRegressionModel{GLM.GeneralizedLinearModel{GLM.GlmResp{Array{Float64,1},Distributions.Normal{Float64},GLM.IdentityLink},GLM.DensePredChol{Float64,Base.LinAlg.Cholesky{Float64,Array{Float64,2}}}},Array{Float64,2}}\n",
       "\n",
       "Formula: Sex ~ 1 + Height\n",
       "\n",
       "Coefficients:\n",
       "               Estimate  Std.Error z value Pr(>|z|)\n",
       "(Intercept)     6.33119   0.496178 12.7599   <1e-36\n",
       "Height       -0.0338642 0.00287252 -11.789   <1e-31\n"
      ]
     },
     "execution_count": 14,
     "metadata": {},
     "output_type": "execute_result"
    }
   ],
   "source": [
    "lineal = glm(@formula(Sex ~ Height), exploración, Normal(), IdentityLink())"
   ]
  },
  {
   "cell_type": "code",
   "execution_count": 15,
   "metadata": {
    "collapsed": false
   },
   "outputs": [
    {
     "data": {
      "text/html": [
       "<img src=\"data:image/png;base64,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\" />"
      ]
     },
     "execution_count": 15,
     "metadata": {},
     "output_type": "execute_result"
    }
   ],
   "source": [
    "reg_plot = scatter(exploración, :Height, :Sex)\n",
    "Plots.abline!(reg_plot, coef(lineal)[2], coef(lineal)[1])\n",
    "\n",
    "residuos = exploración[:Sex] - predict(lineal)\n",
    "normal = Normal(0,std(residuos))\n",
    "res_plot = histogram(residuos, bins=10, normed=true)\n",
    "plot!(res_plot, res -> pdf(normal, res), minimum(residuos), maximum(residuos))\n",
    "\n",
    "plot(reg_plot, res_plot, legend=false)"
   ]
  },
  {
   "cell_type": "markdown",
   "metadata": {},
   "source": [
    "En clase anteriores vimos que en caso de no disponer de un test estadístico en Julia, podíamos usar los tests implementados en R usando RCall. También es posible acceder desde Julia a los tests implementados en **Python** usando la biblioteca [**PyCall**](https://github.com/stevengj/PyCall.jl). En este caso por ejemplo, para testear la normalidad de los residuos usando la implementación de la [prueba de Shapiro en **SciPy**](http://docs.scipy.org/doc/scipy/reference/generated/scipy.stats.shapiro.html), y si la media de los residuos es 0 usando la [prueba T de Student para una muestra](http://docs.scipy.org/doc/scipy-0.17.0/reference/generated/scipy.stats.ttest_1samp.html)."
   ]
  },
  {
   "cell_type": "code",
   "execution_count": 16,
   "metadata": {
    "collapsed": true
   },
   "outputs": [],
   "source": [
    "using PyCall"
   ]
  },
  {
   "cell_type": "code",
   "execution_count": 17,
   "metadata": {
    "collapsed": true
   },
   "outputs": [],
   "source": [
    "@pyimport scipy.stats as stats"
   ]
  },
  {
   "cell_type": "code",
   "execution_count": 18,
   "metadata": {
    "collapsed": false
   },
   "outputs": [
    {
     "data": {
      "text/plain": [
       "(0.9790576100349426,0.010318323969841003)"
      ]
     },
     "execution_count": 18,
     "metadata": {},
     "output_type": "execute_result"
    }
   ],
   "source": [
    "stats.shapiro(residuos) # W, P"
   ]
  },
  {
   "cell_type": "code",
   "execution_count": 19,
   "metadata": {
    "collapsed": false
   },
   "outputs": [
    {
     "data": {
      "text/plain": [
       "(-1.61389e-14,0.9999999999999871)"
      ]
     },
     "execution_count": 19,
     "metadata": {},
     "output_type": "execute_result"
    }
   ],
   "source": [
    "stats.ttest_1samp(residuos, 0) # T, P"
   ]
  },
  {
   "cell_type": "markdown",
   "metadata": {},
   "source": [
    "Tratando de predecir una variable dependiente binaria, es fácil quebrar la hipótesis de normalidad de los residuos (como sucede en este caso). Una alternativa es reemplazar la predicción lineal por una **función sigmoide** que sirva para predecir las probabilidades de 1, de manera que todo lo que se prediga por encima de 0.5 sea un 1 y el resto un 0.  \n",
    "\n",
    "[**Función sigmoide**](https://en.wikipedia.org/wiki/Sigmoid_function):  \n",
    "\n",
    "$$S(t) = \\frac{1}{1+e^{-t}} = \\frac{e^{t}}{e^{t}+1}$$\n"
   ]
  },
  {
   "cell_type": "code",
   "execution_count": 20,
   "metadata": {
    "collapsed": false
   },
   "outputs": [
    {
     "data": {
      "text/plain": [
       "S (generic function with 1 method)"
      ]
     },
     "execution_count": 20,
     "metadata": {},
     "output_type": "execute_result"
    }
   ],
   "source": [
    "S(t) = 1/(1+exp(-t))"
   ]
  },
  {
   "cell_type": "code",
   "execution_count": 21,
   "metadata": {
    "collapsed": false
   },
   "outputs": [
    {
     "data": {
      "text/html": [
       "<img src=\"data:image/png;base64,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\" />"
      ]
     },
     "execution_count": 21,
     "metadata": {},
     "output_type": "execute_result"
    }
   ],
   "source": [
    "plot(S,-5, 5, legend=false)"
   ]
  },
  {
   "cell_type": "markdown",
   "metadata": {},
   "source": [
    "La [**función logística**](https://es.wikipedia.org/wiki/Funci%C3%B3n_log%C3%ADstica) la obtenemos reemplazando $t$ por una ecuación lineal:\n",
    "\n",
    "$$L(x) = \\frac{1}{1+e^{-(\\alpha+\\beta_{1}X_{1})}}$$"
   ]
  },
  {
   "cell_type": "markdown",
   "metadata": {},
   "source": [
    "En este contexto la usaremos para calcular la probabilidad de nuestra variable dependiente $Y$ (`:Sex`) tome una de las categorías (*Female* en este caso):"
   ]
  },
  {
   "cell_type": "code",
   "execution_count": 22,
   "metadata": {
    "collapsed": false
   },
   "outputs": [
    {
     "data": {
      "text/plain": [
       "Py (generic function with 1 method)"
      ]
     },
     "execution_count": 22,
     "metadata": {},
     "output_type": "execute_result"
    }
   ],
   "source": [
    "Py(x,α,β) = 1/(1+exp(-(α+β*x)))"
   ]
  },
  {
   "cell_type": "code",
   "execution_count": 23,
   "metadata": {
    "collapsed": false
   },
   "outputs": [
    {
     "name": "stderr",
     "output_type": "stream",
     "text": [
      "\u001b[1m\u001b[34mINFO: Saved animation to /home/dzea/.julia/v0.5/AnalisisDeDatosCualitativos/material/logit_beta.gif\n",
      "\u001b[0m"
     ]
    },
    {
     "data": {
      "text/html": [
       "<img src=\"logit_beta.gif?0.31792184102872967>\" />"
      ],
      "text/plain": [
       "Plots.AnimatedGif(\"/home/dzea/.julia/v0.5/AnalisisDeDatosCualitativos/material/logit_beta.gif\")"
      ]
     },
     "execution_count": 23,
     "metadata": {},
     "output_type": "execute_result"
    }
   ],
   "source": [
    "anim = @animate for β=filter!(x -> x != 0, collect(-10:10))\n",
    "    plot(x -> Py(x,0,β), -5, 5, label=β)\n",
    "end\n",
    "gif(anim, \"logit_beta.gif\", fps = 1)"
   ]
  },
  {
   "cell_type": "code",
   "execution_count": 24,
   "metadata": {
    "collapsed": false
   },
   "outputs": [
    {
     "name": "stderr",
     "output_type": "stream",
     "text": [
      "\u001b[1m\u001b[34mINFO: Saved animation to /home/dzea/.julia/v0.5/AnalisisDeDatosCualitativos/material/logit_alpha.gif\n",
      "\u001b[0m"
     ]
    },
    {
     "data": {
      "text/html": [
       "<img src=\"logit_alpha.gif?0.547121253923432>\" />"
      ],
      "text/plain": [
       "Plots.AnimatedGif(\"/home/dzea/.julia/v0.5/AnalisisDeDatosCualitativos/material/logit_alpha.gif\")"
      ]
     },
     "execution_count": 24,
     "metadata": {},
     "output_type": "execute_result"
    }
   ],
   "source": [
    "anim = @animate for α=-5:1:5\n",
    "    β = 2\n",
    "    inflexión = -α/β\n",
    "    plot(x -> Py(x,α,β), -5, 5, label=α)\n",
    "    vline!([inflexión], label=inflexión)\n",
    "    hline!([0.5], label=\"0.5\")\n",
    "end\n",
    "gif(anim, \"logit_alpha.gif\", fps = 1)"
   ]
  },
  {
   "cell_type": "markdown",
   "metadata": {},
   "source": [
    "Los [*odds* o **chances**](https://en.wikipedia.org/wiki/Odds) de un evento se determinan dividiendo la probabilidad de que suceda el evento sobre la probabilidad de que el evento no suceda. \n"
   ]
  },
  {
   "cell_type": "markdown",
   "metadata": {},
   "source": [
    "$$ odds = \\frac{P_{Y}}{1-P_{Y}} $$"
   ]
  },
  {
   "cell_type": "code",
   "execution_count": 25,
   "metadata": {
    "collapsed": false
   },
   "outputs": [
    {
     "data": {
      "text/plain": [
       "odds (generic function with 1 method)"
      ]
     },
     "execution_count": 25,
     "metadata": {},
     "output_type": "execute_result"
    }
   ],
   "source": [
    "odds(x,α,β) = Py(x,α,β)/(1-Py(x,α,β))"
   ]
  },
  {
   "cell_type": "markdown",
   "metadata": {},
   "source": [
    "La función [**logit**](https://en.wikipedia.org/wiki/Logit) es la inversa de la función logística, se calcula tomando el logaritmo natural de los *odds*. Nos permite transformar la función logística a la función lineal que contenía."
   ]
  },
  {
   "cell_type": "markdown",
   "metadata": {},
   "source": [
    "$$ logit = ln(odds) = \\alpha+\\beta_{1}X_{1} $$"
   ]
  },
  {
   "cell_type": "code",
   "execution_count": 26,
   "metadata": {
    "collapsed": false
   },
   "outputs": [
    {
     "data": {
      "text/plain": [
       "log_odds (generic function with 1 method)"
      ]
     },
     "execution_count": 26,
     "metadata": {},
     "output_type": "execute_result"
    }
   ],
   "source": [
    "log_odds(x,α,β) = log(odds(x,α,β)) # logit"
   ]
  },
  {
   "cell_type": "code",
   "execution_count": 27,
   "metadata": {
    "collapsed": false
   },
   "outputs": [
    {
     "name": "stderr",
     "output_type": "stream",
     "text": [
      "\u001b[1m\u001b[34mINFO: Saved animation to /home/dzea/.julia/v0.5/AnalisisDeDatosCualitativos/material/logit.gif\n",
      "\u001b[0m"
     ]
    },
    {
     "data": {
      "text/html": [
       "<img src=\"logit.gif?0.5068326436591819>\" />"
      ],
      "text/plain": [
       "Plots.AnimatedGif(\"/home/dzea/.julia/v0.5/AnalisisDeDatosCualitativos/material/logit.gif\")"
      ]
     },
     "execution_count": 27,
     "metadata": {},
     "output_type": "execute_result"
    }
   ],
   "source": [
    "anim = @animate for α=-5:1:5\n",
    "    β = 1\n",
    "    plot(x -> Py(x,α,β), -5, 5, label=\"Py\", ylim=(0,1)),\n",
    "    plot!(x -> odds(x,α,β), -5, 5, label=\"odds\"),\n",
    "    plot!(x -> log_odds(x,α,β), -5, 5, label=\"logit\")\n",
    "end\n",
    "gif(anim, \"logit.gif\", fps = 1)"
   ]
  },
  {
   "cell_type": "markdown",
   "metadata": {},
   "source": [
    "Dado que nuestra variable dependiente $Y$ sólo tiene dos valores posibles (0,1), sigue una distribución de [**Bernoulli**](https://en.wikipedia.org/wiki/Bernoulli_trial). Se usará la [**link function**](https://en.wikipedia.org/wiki/Generalized_linear_model#Link_function) *logit* para hacer la transformación del valor esperado de $Y$ en nuestra [**GLM**](https://en.wikipedia.org/wiki/Logistic_regression#As_a_generalized_linear_model)."
   ]
  },
  {
   "cell_type": "code",
   "execution_count": 28,
   "metadata": {
    "collapsed": false
   },
   "outputs": [
    {
     "data": {
      "text/plain": [
       "DataFrames.DataFrameRegressionModel{GLM.GeneralizedLinearModel{GLM.GlmResp{Array{Float64,1},Distributions.Bernoulli{Float64},GLM.LogitLink},GLM.DensePredChol{Float64,Base.LinAlg.Cholesky{Float64,Array{Float64,2}}}},Array{Float64,2}}\n",
       "\n",
       "Formula: Sex ~ 1 + Height\n",
       "\n",
       "Coefficients:\n",
       "              Estimate Std.Error  z value Pr(>|z|)\n",
       "(Intercept)    42.5616   6.34226   6.7108   <1e-10\n",
       "Height       -0.247833 0.0369881 -6.70033   <1e-10\n"
      ]
     },
     "execution_count": 28,
     "metadata": {},
     "output_type": "execute_result"
    }
   ],
   "source": [
    "logística = glm(@formula(Sex ~ Height), exploración, Bernoulli(), LogitLink())"
   ]
  },
  {
   "cell_type": "code",
   "execution_count": 29,
   "metadata": {
    "collapsed": false
   },
   "outputs": [
    {
     "data": {
      "text/plain": [
       "2-element Array{Float64,1}:\n",
       " 42.5616  \n",
       " -0.247833"
      ]
     },
     "execution_count": 29,
     "metadata": {},
     "output_type": "execute_result"
    }
   ],
   "source": [
    "coef(logística)"
   ]
  },
  {
   "cell_type": "code",
   "execution_count": 30,
   "metadata": {
    "collapsed": false
   },
   "outputs": [
    {
     "data": {
      "text/plain": [
       "-0.24783276987899816"
      ]
     },
     "execution_count": 30,
     "metadata": {},
     "output_type": "execute_result"
    }
   ],
   "source": [
    "α = coef(logística)[1]\n",
    "β = coef(logística)[2]"
   ]
  },
  {
   "cell_type": "code",
   "execution_count": 31,
   "metadata": {
    "collapsed": false,
    "scrolled": true
   },
   "outputs": [
    {
     "data": {
      "text/html": [
       "<img src=\"data:image/png;base64,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\" />"
      ]
     },
     "execution_count": 31,
     "metadata": {},
     "output_type": "execute_result"
    }
   ],
   "source": [
    "scatter(exploración, :Height, :Sex, alpha=0.25, legend=false)\n",
    "plot!(x -> Py(x,α,β))\n",
    "vline!([-α/β])"
   ]
  },
  {
   "cell_type": "code",
   "execution_count": 32,
   "metadata": {
    "collapsed": false
   },
   "outputs": [
    {
     "ename": "LoadError",
     "evalue": "InitError: MethodError: no method matching reval_p(::String)\u001b[0m\nClosest candidates are:\n  reval_p(\u001b[1m\u001b[31m::Ptr{RCall.ExprSxp}\u001b[0m, \u001b[1m\u001b[31m::Ptr{RCall.EnvSxp}\u001b[0m) at /home/dzea/.julia/v0.5/RCall/src/eval.jl:90\n  reval_p(\u001b[1m\u001b[31m::Ptr{RCall.ExprSxp}\u001b[0m) at /home/dzea/.julia/v0.5/RCall/src/eval.jl:90\n  reval_p(\u001b[1m\u001b[31m::Ptr{RCall.ExprSxp}\u001b[0m, \u001b[1m\u001b[31m::Ptr{RCall.EnvSxp}\u001b[0m, \u001b[1m\u001b[31m::Tuple{IO,IO,IO}\u001b[0m) at /home/dzea/.julia/v0.5/RCall/src/eval.jl:74\n  ...\u001b[0m\nduring initialization of module RCall",
     "output_type": "error",
     "traceback": [
      "InitError: MethodError: no method matching reval_p(::String)\u001b[0m\nClosest candidates are:\n  reval_p(\u001b[1m\u001b[31m::Ptr{RCall.ExprSxp}\u001b[0m, \u001b[1m\u001b[31m::Ptr{RCall.EnvSxp}\u001b[0m) at /home/dzea/.julia/v0.5/RCall/src/eval.jl:90\n  reval_p(\u001b[1m\u001b[31m::Ptr{RCall.ExprSxp}\u001b[0m) at /home/dzea/.julia/v0.5/RCall/src/eval.jl:90\n  reval_p(\u001b[1m\u001b[31m::Ptr{RCall.ExprSxp}\u001b[0m, \u001b[1m\u001b[31m::Ptr{RCall.EnvSxp}\u001b[0m, \u001b[1m\u001b[31m::Tuple{IO,IO,IO}\u001b[0m) at /home/dzea/.julia/v0.5/RCall/src/eval.jl:74\n  ...\u001b[0m\nduring initialization of module RCall",
      "",
      " in ijulia_init() at /home/dzea/.julia/v0.5/RCall/src/IJuliaHooks.jl:82",
      " in __init__() at /home/dzea/.julia/v0.5/RCall/src/setup.jl:242",
      " in _include_from_serialized(::String) at ./loading.jl:150",
      " in _require_from_serialized(::Int64, ::Symbol, ::String, ::Bool) at ./loading.jl:187",
      " in _require_search_from_serialized(::Int64, ::Symbol, ::String, ::Bool) at ./loading.jl:217",
      " in require(::Symbol) at ./loading.jl:371"
     ]
    }
   ],
   "source": [
    "using RCall"
   ]
  },
  {
   "cell_type": "code",
   "execution_count": 33,
   "metadata": {
    "collapsed": false
   },
   "outputs": [
    {
     "ename": "LoadError",
     "evalue": "UndefVarError: @R_str not defined",
     "output_type": "error",
     "traceback": [
      "UndefVarError: @R_str not defined",
      ""
     ]
    }
   ],
   "source": [
    "R\"\"\"\n",
    "logistica <- glm(Sex ~ Height, $exploración, family = binomial(link = \"logit\"))\n",
    "\"\"\""
   ]
  },
  {
   "cell_type": "code",
   "execution_count": 34,
   "metadata": {
    "collapsed": false
   },
   "outputs": [
    {
     "ename": "LoadError",
     "evalue": "UndefVarError: @R_str not defined",
     "output_type": "error",
     "traceback": [
      "UndefVarError: @R_str not defined",
      ""
     ]
    }
   ],
   "source": [
    "R\"summary(logistica)\""
   ]
  },
  {
   "cell_type": "markdown",
   "metadata": {},
   "source": [
    "### ¿Qué tan buena es nuestra predicción? [*Matriz de confusión*](https://en.wikipedia.org/wiki/Confusion_matrix)"
   ]
  },
  {
   "cell_type": "code",
   "execution_count": 35,
   "metadata": {
    "collapsed": false
   },
   "outputs": [
    {
     "data": {
      "text/plain": [
       "2×2 Named Array{Int64,2}\n",
       "Dim1 ╲ Dim2 │ false   true\n",
       "────────────┼─────────────\n",
       "0           │    70     18\n",
       "1           │    15     70"
      ]
     },
     "execution_count": 35,
     "metadata": {},
     "output_type": "execute_result"
    }
   ],
   "source": [
    "predicción = predict(logística) # Py\n",
    "\n",
    "clasificación = predicción .>= 0.5 # true: Female, false: Male\n",
    "\n",
    "using FreqTables\n",
    "\n",
    "tabla = freqtable(exploración[:Sex], clasificación)"
   ]
  },
  {
   "cell_type": "markdown",
   "metadata": {},
   "source": [
    "|            |      Nₚ    |     Pₚ     |\n",
    "|------------|------------|------------|\n",
    "|   **N**        |    TN      |   FP       |\n",
    "|   **P**        |    FN      |   TP       |"
   ]
  },
  {
   "cell_type": "code",
   "execution_count": 36,
   "metadata": {
    "collapsed": false
   },
   "outputs": [
    {
     "name": "stderr",
     "output_type": "stream",
     "text": [
      "\u001b[1m\u001b[31mWARNING: Dropping mismatching names\u001b[0m\n"
     ]
    }
   ],
   "source": [
    "P = tabla ./ sum(tabla,2) # P(predicción|realidad)"
   ]
  },
  {
   "cell_type": "markdown",
   "metadata": {},
   "source": [
    "|            |      Nₚ    |     Pₚ     |\n",
    "|------------|------------|------------|\n",
    "|   **N**        |      TNR, [Especificidad](https://en.wikipedia.org/wiki/Sensitivity_and_specificity)    |   FPR      |\n",
    "|   **P**        |      FNR   |   TPR, [Sensibilidad, *Recall*](https://en.wikipedia.org/wiki/Precision_and_recall)       |"
   ]
  },
  {
   "cell_type": "code",
   "execution_count": 37,
   "metadata": {
    "collapsed": false
   },
   "outputs": [
    {
     "name": "stderr",
     "output_type": "stream",
     "text": [
      "\u001b[1m\u001b[31mWARNING: Dropping mismatching names\u001b[0m\n"
     ]
    },
    {
     "data": {
      "text/plain": [
       "2×2 Array{Float64,2}:\n",
       " 0.823529  0.204545\n",
       " 0.176471  0.795455"
      ]
     },
     "execution_count": 37,
     "metadata": {},
     "output_type": "execute_result"
    }
   ],
   "source": [
    "P = tabla ./ sum(tabla,1) # P(realidad|predicción)"
   ]
  },
  {
   "cell_type": "markdown",
   "metadata": {},
   "source": [
    "|            |      Nₚ    |     Pₚ     |\n",
    "|------------|------------|------------|\n",
    "|   **N**        |      Negative predictive value (NPV)    |   False discovery rate (FDR)      |\n",
    "|   **P**        |      False omission rate (FOR)   |   Positive predictive value (PPV), Precisión       |"
   ]
  },
  {
   "cell_type": "markdown",
   "metadata": {},
   "source": [
    "### [ROC](https://en.wikipedia.org/wiki/Receiver_operating_characteristic)"
   ]
  },
  {
   "cell_type": "code",
   "execution_count": 38,
   "metadata": {
    "collapsed": false
   },
   "outputs": [
    {
     "name": "stderr",
     "output_type": "stream",
     "text": [
      "WARNING: Method definition require(Symbol) in module Base at loading.jl:345 overwritten in module Main at /home/dzea/.julia/v0.5/Requires/src/require.jl:12.\n",
      "WARNING: Method definition detplot(ROCAnalysis.Roc) in module ROCAnalysis at /home/dzea/.julia/v0.5/ROCAnalysis/src/plot.jl:9 overwritten at /home/dzea/.julia/v0.5/ROCAnalysis/src/pyplot.jl:10.\n",
      "WARNING: Method definition detplot(ROCAnalysis.Roc, Any) in module ROCAnalysis at /home/dzea/.julia/v0.5/ROCAnalysis/src/plot.jl:9 overwritten at /home/dzea/.julia/v0.5/ROCAnalysis/src/pyplot.jl:10.\n",
      "WARNING: Method definition #detplot(Array{Any, 1}, ROCAnalysis.#detplot, ROCAnalysis.Roc) in module ROCAnalysis overwritten.\n",
      "WARNING: Method definition #detplot(Array{Any, 1}, ROCAnalysis.#detplot, ROCAnalysis.Roc, Any) in module ROCAnalysis overwritten.\n"
     ]
    }
   ],
   "source": [
    "# Pkg.clone(\"https://github.com/JuliaML/MLPlots.jl.git\")\n",
    "# using MLPlots\n",
    "\n",
    "using ROCAnalysis"
   ]
  },
  {
   "cell_type": "code",
   "execution_count": 39,
   "metadata": {
    "collapsed": false
   },
   "outputs": [],
   "source": [
    "using PlotRecipes\n",
    "\n",
    "mid_of_vec(v::AbstractVector) = v[max(1, round(Int, length(v)/2))]\n",
    "\n",
    "@recipe function plot(roc::ROCAnalysis.Roc, auc::Bool = true)\n",
    "    :legend     --> false\n",
    "    :xlabel     --> \"False Positive Rate\"\n",
    "    :ylabel     --> \"True Positive Rate\"\n",
    "    :linestyle  --> [:solid :dash]\n",
    "    :linealpha  --> [1.0 0.5]\n",
    "    :label      --> [\"ROC\" \"\"]\n",
    "\n",
    "    x = roc.pfa\n",
    "    y = 1 .- roc.pmiss\n",
    "\n",
    "    # add fill to the diagonal\n",
    "    :fillrange  --> 0       # hack\n",
    "    :fillalpha  --> [0.3 0] # hack\n",
    "\n",
    "    if auc\n",
    "        auc_ann = @sprintf(\"AUC %1.3f\", 1 - ROCAnalysis.auc(roc))\n",
    "        :annotation --> (mid_of_vec(x), mid_of_vec(y), text(auc_ann, :left, :top, 9, :monospace))\n",
    "    end\n",
    "\n",
    "    # xargs, yargs\n",
    "    [x, [0,1]], [y, [0,1]]\n",
    "end"
   ]
  },
  {
   "cell_type": "code",
   "execution_count": 40,
   "metadata": {
    "collapsed": false
   },
   "outputs": [
    {
     "data": {
      "text/plain": [
       "88-element Array{Float64,1}:\n",
       " 0.181975  \n",
       " 0.841474  \n",
       " 0.0594116 \n",
       " 0.308084  \n",
       " 0.763789  \n",
       " 0.0594116 \n",
       " 0.00946634\n",
       " 0.213365  \n",
       " 0.00946634\n",
       " 0.105976  \n",
       " 0.105976  \n",
       " 0.439292  \n",
       " 0.29452   \n",
       " ⋮         \n",
       " 0.363256  \n",
       " 0.94826   \n",
       " 0.841474  \n",
       " 0.841474  \n",
       " 0.60589   \n",
       " 0.0360052 \n",
       " 0.0174481 \n",
       " 0.545434  \n",
       " 0.0360052 \n",
       " 0.0360052 \n",
       " 0.105976  \n",
       " 0.0577713 "
      ]
     },
     "execution_count": 40,
     "metadata": {},
     "output_type": "execute_result"
    }
   ],
   "source": [
    "objetivo    = predicción[ exploración[:Sex] .== 1 ]\n",
    "no_objetivo = predicción[ exploración[:Sex] .== 0 ]"
   ]
  },
  {
   "cell_type": "code",
   "execution_count": 41,
   "metadata": {
    "collapsed": false
   },
   "outputs": [
    {
     "data": {
      "text/plain": [
       "ROCAnalysis.Roc{Float64}([1.0,0.625,0.545455,0.409091,0.409091,0.340909,0.295455,0.272727,0.261364,0.25  …  0.113636,0.102273,0.0795455,0.0795455,0.0227273,0.0227273,0.0113636,0.0113636,0.0,0.0],[0.0,0.0,0.0117647,0.0117647,0.0235294,0.0235294,0.0352941,0.0705882,0.0705882,0.0941176  …  0.411765,0.435294,0.470588,0.541176,0.635294,0.788235,0.823529,0.976471,0.976471,1.0],Bool[true,true,false,true,false,true,true,false,true,false  …  false,false,false,false,true,false,false,false,true,true],[0.00090659,0.105976,0.114229,0.174712,0.181975,0.29452,0.308084,0.363256,0.422278,0.439292  …  0.716209,0.733989,0.763789,0.785411,0.841474,0.871811,0.94826,0.959154,0.984669,0.992543],[-Inf,-2.90975,-2.90975,-1.75707,-1.75707,-1.35161,0.0346856,0.0346856,0.257829,0.257829  …  1.1333,1.1333,1.1333,1.1333,1.1333,2.70883,2.70883,2.70883,2.70883,Inf])"
      ]
     },
     "execution_count": 41,
     "metadata": {},
     "output_type": "execute_result"
    }
   ],
   "source": [
    "R = ROCAnalysis.roc(objetivo, no_objetivo)"
   ]
  },
  {
   "cell_type": "code",
   "execution_count": 42,
   "metadata": {
    "collapsed": false
   },
   "outputs": [
    {
     "data": {
      "text/html": [
       "<img src=\"data:image/png;base64,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\" />"
      ]
     },
     "execution_count": 42,
     "metadata": {},
     "output_type": "execute_result"
    }
   ],
   "source": [
    "plot(R, xlab=\"1 - Especificidad\", ylab=\"Sensibilidad\")"
   ]
  },
  {
   "cell_type": "code",
   "execution_count": 43,
   "metadata": {
    "collapsed": false
   },
   "outputs": [
    {
     "data": {
      "text/html": [
       "0.8939839572192514"
      ],
      "text/plain": [
       "0.8939839572192514"
      ]
     },
     "execution_count": 43,
     "metadata": {},
     "output_type": "execute_result"
    }
   ],
   "source": [
    "AUC(R)"
   ]
  },
  {
   "cell_type": "markdown",
   "metadata": {},
   "source": [
    "#### Entrenamiento"
   ]
  },
  {
   "cell_type": "code",
   "execution_count": 45,
   "metadata": {
    "collapsed": false
   },
   "outputs": [
    {
     "name": "stderr",
     "output_type": "stream",
     "text": [
      "WARNING: Method definition entrenar(Any) in module Main at In[44]:3 overwritten at In[45]:3.\n",
      "WARNING: Method definition evaluar(Any, Any) in module Main at In[44]:6 overwritten at In[45]:6.\n"
     ]
    },
    {
     "data": {
      "text/plain": [
       "6-element Array{Float64,1}:\n",
       " 93.3333\n",
       " 80.0   \n",
       " 83.3333\n",
       " 93.3333\n",
       " 82.3529\n",
       " 71.4286"
      ]
     },
     "execution_count": 45,
     "metadata": {},
     "output_type": "execute_result"
    }
   ],
   "source": [
    "coeficientes = []\n",
    "\n",
    "entrenar(indices) = glm(@formula(Sex ~ Height), subset[indices,:], Bernoulli(), LogitLink())\n",
    "\n",
    "function evaluar(modelo, indices)\n",
    "    α = coef(modelo)[1]\n",
    "    β = coef(modelo)[2]\n",
    "    push!(coeficientes, [α, β]) # Guardo los coeficientes\n",
    "    limite = -α/β\n",
    "    real = subset[indices,:Sex] .== 0\n",
    "    predicción = subset[indices,:Height] .>= limite\n",
    "    100*sum(predicción & real)/sum(predicción)# PPV = TP / Pₚ\n",
    "end\n",
    "\n",
    "scores = cross_validate(\n",
    "    entrenar,\n",
    "    evaluar,\n",
    "    nrow(subset), # N\n",
    "    cv) # cross validation: 6-fold estratificado"
   ]
  },
  {
   "cell_type": "code",
   "execution_count": 46,
   "metadata": {
    "collapsed": false
   },
   "outputs": [
    {
     "data": {
      "text/plain": [
       "(83.96358543417367,8.383463838268014)"
      ]
     },
     "execution_count": 46,
     "metadata": {},
     "output_type": "execute_result"
    }
   ],
   "source": [
    "mean_and_std(scores)"
   ]
  },
  {
   "cell_type": "code",
   "execution_count": 47,
   "metadata": {
    "collapsed": false
   },
   "outputs": [
    {
     "data": {
      "text/plain": [
       "6×2 Array{Float64,2}:\n",
       " 42.5616  -0.247833\n",
       " 45.8864  -0.267343\n",
       " 44.198   -0.257597\n",
       " 41.4504  -0.240969\n",
       " 39.8648  -0.232443\n",
       " 45.7383  -0.266934"
      ]
     },
     "execution_count": 47,
     "metadata": {},
     "output_type": "execute_result"
    }
   ],
   "source": [
    "coeficientes = hcat(coeficientes...)'"
   ]
  },
  {
   "cell_type": "code",
   "execution_count": 48,
   "metadata": {
    "collapsed": false
   },
   "outputs": [
    {
     "data": {
      "text/plain": [
       "(43.28326750465418,-0.25218658410505373)"
      ]
     },
     "execution_count": 48,
     "metadata": {},
     "output_type": "execute_result"
    }
   ],
   "source": [
    "α, β = (mean(coeficientes, 1)...)"
   ]
  },
  {
   "cell_type": "code",
   "execution_count": 49,
   "metadata": {
    "collapsed": false
   },
   "outputs": [
    {
     "data": {
      "text/html": [
       "<img src=\"data:image/png;base64,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\" />"
      ]
     },
     "execution_count": 49,
     "metadata": {},
     "output_type": "execute_result"
    }
   ],
   "source": [
    "plt = scatter(exploración, :Height, :Sex, alpha=0.25, legend=false, ylim=(0,1))\n",
    "for i in 1:size(coeficientes,1)\n",
    "    alpha = coeficientes[i,1]\n",
    "    beta = coeficientes[i,2]\n",
    "    plot!(plt, x -> Py(x,alpha,beta), alpha=0.5, c=colorant\"gray\")\n",
    "    vline!(plt, [-alpha/beta], alpha=0.5, c=colorant\"gray\")\n",
    "end\n",
    "plot!(plt, x -> Py(x,α,β), c=colorant\"green\")\n",
    "vline!(plt, [-α/β], c=colorant\"green\")"
   ]
  },
  {
   "cell_type": "markdown",
   "metadata": {},
   "source": [
    "### Múltiples variables independientes"
   ]
  },
  {
   "cell_type": "code",
   "execution_count": 51,
   "metadata": {
    "collapsed": false
   },
   "outputs": [
    {
     "data": {
      "text/html": [
       "<table class=\"data-frame\"><thead><tr><th></th><th>Sex</th><th>WrHnd</th><th>NWHnd</th><th>WHnd</th><th>Fold</th><th>Pulse</th><th>Clap</th><th>Exer</th><th>Smoke</th><th>Height</th><th>MI</th><th>Age</th></tr></thead><tbody><tr><th>1</th><td>false</td><td>18.5</td><td>18.0</td><td>Right</td><td>R on L</td><td>92</td><td>Left</td><td>Some</td><td>Never</td><td>173.0</td><td>Metric</td><td>18.25</td></tr><tr><th>2</th><td>false</td><td>19.5</td><td>20.5</td><td>Left</td><td>R on L</td><td>104</td><td>Left</td><td>None</td><td>Regul</td><td>177.8</td><td>Imperial</td><td>17.583</td></tr><tr><th>3</th><td>false</td><td>20.0</td><td>20.0</td><td>Right</td><td>Neither</td><td>35</td><td>Right</td><td>Some</td><td>Never</td><td>165.0</td><td>Metric</td><td>23.667</td></tr><tr><th>4</th><td>false</td><td>18.0</td><td>17.7</td><td>Right</td><td>L on R</td><td>64</td><td>Right</td><td>Some</td><td>Never</td><td>172.72</td><td>Imperial</td><td>21.0</td></tr><tr><th>5</th><td>false</td><td>17.7</td><td>17.7</td><td>Right</td><td>L on R</td><td>83</td><td>Right</td><td>Freq</td><td>Never</td><td>182.88</td><td>Imperial</td><td>18.833</td></tr><tr><th>6</th><td>false</td><td>17.0</td><td>17.3</td><td>Right</td><td>R on L</td><td>74</td><td>Right</td><td>Freq</td><td>Never</td><td>157.0</td><td>Metric</td><td>35.833</td></tr></tbody></table>"
      ],
      "text/plain": [
       "6×12 DataFrames.DataFrame\n",
       "│ Row │ Sex   │ WrHnd │ NWHnd │ WHnd    │ Fold      │ Pulse │ Clap    │ Exer   │\n",
       "├─────┼───────┼───────┼───────┼─────────┼───────────┼───────┼─────────┼────────┤\n",
       "│ 1   │ false │ 18.5  │ 18.0  │ \"Right\" │ \"R on L\"  │ 92    │ \"Left\"  │ \"Some\" │\n",
       "│ 2   │ false │ 19.5  │ 20.5  │ \"Left\"  │ \"R on L\"  │ 104   │ \"Left\"  │ \"None\" │\n",
       "│ 3   │ false │ 20.0  │ 20.0  │ \"Right\" │ \"Neither\" │ 35    │ \"Right\" │ \"Some\" │\n",
       "│ 4   │ false │ 18.0  │ 17.7  │ \"Right\" │ \"L on R\"  │ 64    │ \"Right\" │ \"Some\" │\n",
       "│ 5   │ false │ 17.7  │ 17.7  │ \"Right\" │ \"L on R\"  │ 83    │ \"Right\" │ \"Freq\" │\n",
       "│ 6   │ false │ 17.0  │ 17.3  │ \"Right\" │ \"R on L\"  │ 74    │ \"Right\" │ \"Freq\" │\n",
       "\n",
       "│ Row │ Smoke   │ Height │ MI         │ Age    │\n",
       "├─────┼─────────┼────────┼────────────┼────────┤\n",
       "│ 1   │ \"Never\" │ 173.0  │ \"Metric\"   │ 18.25  │\n",
       "│ 2   │ \"Regul\" │ 177.8  │ \"Imperial\" │ 17.583 │\n",
       "│ 3   │ \"Never\" │ 165.0  │ \"Metric\"   │ 23.667 │\n",
       "│ 4   │ \"Never\" │ 172.72 │ \"Imperial\" │ 21.0   │\n",
       "│ 5   │ \"Never\" │ 182.88 │ \"Imperial\" │ 18.833 │\n",
       "│ 6   │ \"Never\" │ 157.0  │ \"Metric\"   │ 35.833 │"
      ]
     },
     "execution_count": 51,
     "metadata": {},
     "output_type": "execute_result"
    }
   ],
   "source": [
    "completecases!(survey)\n",
    "survey[:Sex] = survey[:Sex] .== \"Female\"\n",
    "head(survey)"
   ]
  },
  {
   "cell_type": "code",
   "execution_count": 53,
   "metadata": {
    "collapsed": false
   },
   "outputs": [
    {
     "data": {
      "text/plain": [
       "DataFrames.DataFrameRegressionModel{GLM.GeneralizedLinearModel{GLM.GlmResp{Array{Float64,1},Distributions.Binomial{Float64},GLM.LogitLink},GLM.DensePredChol{Float64,Base.LinAlg.Cholesky{Float64,Array{Float64,2}}}},Array{Float64,2}}\n",
       "\n",
       "Formula: Sex ~ 1 + Pulse + Height + Age\n",
       "\n",
       "Coefficients:\n",
       "                 Estimate Std.Error      z value Pr(>|z|)\n",
       "(Intercept)      -21.5661   33485.1  -0.00064405   0.9995\n",
       "Pulse        -3.55508e-16   149.414 -2.37935e-18   1.0000\n",
       "Height       -4.27343e-15   171.836 -2.48693e-17   1.0000\n",
       "Age          -5.54898e-17    281.73 -1.96961e-19   1.0000\n"
      ]
     },
     "execution_count": 53,
     "metadata": {},
     "output_type": "execute_result"
    }
   ],
   "source": [
    "glm(@formula(Sex ~ Pulse + Height + Age), survey, Binomial(), LogitLink())"
   ]
  },
  {
   "cell_type": "code",
   "execution_count": 54,
   "metadata": {
    "collapsed": false
   },
   "outputs": [
    {
     "name": "stderr",
     "output_type": "stream",
     "text": [
      "\u001b[1m\u001b[31mWARNING: RCall.jl: Warning: glm.fit: algorithm did not converge\u001b[0m\n"
     ]
    },
    {
     "data": {
      "text/plain": [
       "RCall.RObject{RCall.VecSxp}\n",
       "\n",
       "Call:  glm(formula = Sex ~ Pulse + Height + Age, family = binomial(link = \"logit\"), \n",
       "    data = `#JL`$survey)\n",
       "\n",
       "Coefficients:\n",
       "(Intercept)        Pulse       Height          Age  \n",
       " -2.657e+01    5.511e-16    2.219e-16   -4.825e-17  \n",
       "\n",
       "Degrees of Freedom: 167 Total (i.e. Null);  164 Residual\n",
       "Null Deviance:\t    0 \n",
       "Residual Deviance: 9.747e-10 \tAIC: 8\n"
      ]
     },
     "execution_count": 54,
     "metadata": {},
     "output_type": "execute_result"
    }
   ],
   "source": [
    "using RCall \n",
    "\n",
    "R\"\"\"\n",
    "logistica <- glm(Sex ~ Pulse + Height + Age, $survey, family = binomial(link = \"logit\"))\n",
    "\"\"\""
   ]
  },
  {
   "cell_type": "code",
   "execution_count": 55,
   "metadata": {
    "collapsed": false
   },
   "outputs": [
    {
     "data": {
      "text/plain": [
       "RCall.RObject{RCall.VecSxp}\n",
       "\n",
       "Call:\n",
       "glm(formula = Sex ~ Pulse + Height + Age, family = binomial(link = \"logit\"), \n",
       "    data = `#JL`$survey)\n",
       "\n",
       "Deviance Residuals: \n",
       "       Min          1Q      Median          3Q         Max  \n",
       "-2.409e-06  -2.409e-06  -2.409e-06  -2.409e-06  -2.409e-06  \n",
       "\n",
       "Coefficients:\n",
       "              Estimate Std. Error z value Pr(>|z|)\n",
       "(Intercept) -2.657e+01  5.414e+05       0        1\n",
       "Pulse        5.511e-16  2.416e+03       0        1\n",
       "Height       2.219e-16  2.778e+03       0        1\n",
       "Age         -4.825e-17  4.555e+03       0        1\n",
       "\n",
       "(Dispersion parameter for binomial family taken to be 1)\n",
       "\n",
       "    Null deviance: 0.0000e+00  on 167  degrees of freedom\n",
       "Residual deviance: 9.7467e-10  on 164  degrees of freedom\n",
       "AIC: 8\n",
       "\n",
       "Number of Fisher Scoring iterations: 25\n",
       "\n"
      ]
     },
     "execution_count": 55,
     "metadata": {},
     "output_type": "execute_result"
    }
   ],
   "source": [
    "R\"summary(logistica)\""
   ]
  },
  {
   "cell_type": "markdown",
   "metadata": {},
   "source": [
    "### [Stepwise regression](https://en.wikipedia.org/wiki/Stepwise_regression)"
   ]
  },
  {
   "cell_type": "markdown",
   "metadata": {},
   "source": [
    "> In statistics, stepwise regression includes regression models in which the choice of predictive variables is carried out by an automatic procedure."
   ]
  },
  {
   "cell_type": "code",
   "execution_count": 56,
   "metadata": {
    "collapsed": false
   },
   "outputs": [
    {
     "name": "stdout",
     "output_type": "stream",
     "text": [
      "Start:  AIC=8\n",
      "Sex ~ Pulse + Height + Age\n",
      "\n",
      "         Df   Deviance AIC\n",
      "- Pulse   1 9.7467e-10   6\n",
      "- Height  1 9.7467e-10   6\n",
      "- Age     1 9.7467e-10   6\n",
      "<none>      9.7467e-10   8\n",
      "\n",
      "Step:  AIC=6\n",
      "Sex ~ Height + Age\n",
      "\n",
      "         Df   Deviance AIC\n",
      "- Height  1 9.7467e-10   4\n",
      "- Age     1 9.7467e-10   4\n",
      "<none>      9.7467e-10   6\n",
      "\n",
      "Step:  AIC=4\n",
      "Sex ~ Age\n",
      "\n",
      "       Df   Deviance AIC\n",
      "- Age   1 9.7467e-10   2\n",
      "<none>    9.7467e-10   4\n",
      "\n",
      "Step:  AIC=2\n",
      "Sex ~ 1\n",
      "\n"
     ]
    },
    {
     "name": "stderr",
     "output_type": "stream",
     "text": [
      "\u001b[1m\u001b[31mWARNING: RCall.jl: Warning: glm.fit: algorithm did not converge\n",
      "Warning: glm.fit: algorithm did not converge\n",
      "Warning: glm.fit: algorithm did not converge\n",
      "Warning: glm.fit: algorithm did not converge\n",
      "Warning: glm.fit: algorithm did not converge\n",
      "Warning: glm.fit: algorithm did not converge\n",
      "Warning: glm.fit: algorithm did not converge\n",
      "Warning: glm.fit: algorithm did not converge\n",
      "Warning: glm.fit: algorithm did not converge\n",
      "Warning: glm.fit: algorithm did not converge\u001b[0m\n"
     ]
    },
    {
     "data": {
      "text/plain": [
       "RCall.RObject{RCall.VecSxp}\n",
       "\n",
       "Call:  glm(formula = Sex ~ 1, family = binomial(link = \"logit\"), data = `#JL`$survey)\n",
       "\n",
       "Coefficients:\n",
       "(Intercept)  \n",
       "     -26.57  \n",
       "\n",
       "Degrees of Freedom: 167 Total (i.e. Null);  167 Residual\n",
       "Null Deviance:\t    0 \n",
       "Residual Deviance: 9.747e-10 \tAIC: 2\n"
      ]
     },
     "execution_count": 56,
     "metadata": {},
     "output_type": "execute_result"
    }
   ],
   "source": [
    "R\"\"\"\n",
    "logistica <- step(glm(Sex ~ Pulse + Height + Age, $survey, family = binomial(link = \"logit\")))\n",
    "\"\"\""
   ]
  },
  {
   "cell_type": "markdown",
   "metadata": {},
   "source": [
    "#### AIC"
   ]
  },
  {
   "cell_type": "markdown",
   "metadata": {},
   "source": [
    "> El criterio de información de Akaike (AIC) es una medida de la calidad relativa de un modelo estadístico, para un conjunto dado de datos. Como tal, el AIC proporciona un medio para la selección del modelo.  \n",
    "AIC maneja un trade-off entre la [**bondad de ajuste del modelo**](https://en.wikipedia.org/wiki/Goodness_of_fit) y la complejidad del modelo. Se basa en la entropía de información: se ofrece una estimación relativa de la información perdida cuando se utiliza un modelo determinado para representar el proceso que genera los datos.  \n",
    "Dado un conjunto de modelos candidatos para los datos, el modelo preferido es el que tiene el valor mínimo en el AIC. Por lo tanto AIC no sólo recompensa la bondad de ajuste, sino también incluye una penalidad, que es una función creciente del número de parámetros estimados. Esta penalización desalienta el [**sobreajuste**](https://en.wikipedia.org/wiki/Overfitting) (aumentando el número de parámetros libres en el modelo mejora la bondad del ajuste, sin importar el número de parámetros libres en el proceso de generación de datos).\n",
    ">> - [Akaike information criterion, *wiki*](https://en.wikipedia.org/wiki/Akaike_information_criterion) "
   ]
  }
 ],
 "metadata": {
  "kernelspec": {
   "display_name": "Julia 0.5.0",
   "language": "julia",
   "name": "julia-0.5"
  },
  "language_info": {
   "file_extension": ".jl",
   "mimetype": "application/julia",
   "name": "julia",
   "version": "0.5.0"
  }
 },
 "nbformat": 4,
 "nbformat_minor": 0
}
