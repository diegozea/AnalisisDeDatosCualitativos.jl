{
 "cells": [
  {
   "cell_type": "markdown",
   "metadata": {},
   "source": [
    "### Unidad I. Regresiones y reducción de dimensionalidad.\n",
    "\n",
    "## Independencia de variables y medidas de asociación.\n",
    "\n",
    "- Distribución conjunta de variables aleatorias. \n",
    " - Tablas de Contingencia.\n",
    " - Concepto de independencia. "
   ]
  },
  {
   "cell_type": "markdown",
   "metadata": {},
   "source": [
    "Llamamos [**distribución conjunta**](https://en.wikipedia.org/wiki/Joint_probability_distribution) (o *multivariada*) de dos (*distribución bivariada*) o más variables aleatorias a la distribución de la **intersección** de las variables. En el caso de dos variables aleatorias $X$ e $Y$:"
   ]
  },
  {
   "cell_type": "markdown",
   "metadata": {},
   "source": [
    "$$P(X=x, Y=y) = P(X=x|Y=y) \\cdot P(Y=y) = P(Y=y|X=x) \\cdot P(X=x)$$"
   ]
  },
  {
   "cell_type": "markdown",
   "metadata": {},
   "source": [
    "Donde $P(x|y)$ es la [**probabilidad condicional**](https://en.wikipedia.org/wiki/Conditional_probability) de $x$ dado $y$.  \n",
    "La probabilidad conjunta cumple:  \n",
    "$$\\sum_{i}\\sum_{j} P(X=x_{i}, Y=y_{j}) = 1$$"
   ]
  },
  {
   "cell_type": "markdown",
   "metadata": {},
   "source": [
    "Si $X$ e $Y$ son <a href=\"https://en.wikipedia.org/wiki/Independence_(probability_theory)\">variables **independientes**</a>, se cumple que:"
   ]
  },
  {
   "cell_type": "markdown",
   "metadata": {},
   "source": [
    "$$P(X=x, Y=y) = P(X=x) \\cdot P(Y=y)$$"
   ]
  },
  {
   "cell_type": "markdown",
   "metadata": {},
   "source": [
    "Las definiciones anteriores son para dos variables categóricas, sin embargo la misma idea se extiende para variables continuas, donde la función de densidad de probabilidad (*PDF*) conjunta se define como:\n"
   ]
  },
  {
   "cell_type": "markdown",
   "metadata": {},
   "source": [
    "$$PDF_{X,Y}(x,y) = PDF_{X|Y}(x|y) \\cdot PDF_{Y}(y) = PDF_{Y|X}(y|x) \\cdot PDF_{X}(x)$$"
   ]
  },
  {
   "cell_type": "markdown",
   "metadata": {},
   "source": [
    "Donde $PDF_{X}(x)$ es la función de densidad de probabilidad marginal o [**distribución marginal**](https://en.wikipedia.org/wiki/Marginal_distribution)."
   ]
  },
  {
   "cell_type": "markdown",
   "metadata": {},
   "source": [
    "$$PDF_{X}(x) = \\int_{y} PDF_{X,Y}(x,y) dy = \\int_{y} PDF_{X|Y}(x|y) \\cdot PDF_{Y}(y) dy$$"
   ]
  },
  {
   "cell_type": "markdown",
   "metadata": {},
   "source": [
    "En el caso de variables categóricas:"
   ]
  },
  {
   "cell_type": "markdown",
   "metadata": {},
   "source": [
    "$$ P(X=x) = \\sum_{y} P(X=x, Y=y) = \\sum_{y} P(X=x|Y=y) \\cdot P(Y=y)$$"
   ]
  },
  {
   "cell_type": "markdown",
   "metadata": {},
   "source": [
    "La función de densidad de probabilidad acumulada (*CDF*) para dos variables se define como:"
   ]
  },
  {
   "cell_type": "markdown",
   "metadata": {},
   "source": [
    "$$CDF_{X,Y}(x,y) = P(X \\le x, Y \\le y)$$"
   ]
  },
  {
   "cell_type": "markdown",
   "metadata": {},
   "source": [
    "### Tablas de Contingencia"
   ]
  },
  {
   "cell_type": "markdown",
   "metadata": {},
   "source": [
    "Las [**tablas de contingencia**](https://en.wikipedia.org/wiki/Contingency_table) representan todas las combinaciones de valores posibles para un determinado número de variables categóricas. Si por ejemplo tenemos tres variables categóricas $X$, $Y$ y $Z$, cada una con $i$, $j$ y $k$ niveles respectivamente. La tabla de contingencia que contiene la clasificación cruzada entre $X$ e $Y$ será una tabla $i \\times j$ (*two-way table*). La tabla que además incluya a la variable $Z$ será una tabla $i \\times j \\times k$ (*three-way contingency table*)."
   ]
  },
  {
   "cell_type": "code",
   "execution_count": 1,
   "metadata": {
    "collapsed": false
   },
   "outputs": [
    {
     "data": {
      "text/html": [
       "<table class=\"data-frame\"><thead><tr><th></th><th>Sex</th><th>WrHnd</th><th>NWHnd</th><th>WHnd</th><th>Fold</th><th>Pulse</th><th>Clap</th><th>Exer</th><th>Smoke</th><th>Height</th><th>MI</th><th>Age</th></tr></thead><tbody><tr><th>1</th><td>Female</td><td>18.5</td><td>18.0</td><td>Right</td><td>R on L</td><td>92</td><td>Left</td><td>Some</td><td>Never</td><td>173.0</td><td>Metric</td><td>18.25</td></tr><tr><th>2</th><td>Male</td><td>19.5</td><td>20.5</td><td>Left</td><td>R on L</td><td>104</td><td>Left</td><td>None</td><td>Regul</td><td>177.8</td><td>Imperial</td><td>17.583</td></tr><tr><th>3</th><td>Male</td><td>18.0</td><td>13.3</td><td>Right</td><td>L on R</td><td>87</td><td>Neither</td><td>None</td><td>Occas</td><td>NA</td><td>NA</td><td>16.917</td></tr><tr><th>4</th><td>Male</td><td>18.8</td><td>18.9</td><td>Right</td><td>R on L</td><td>NA</td><td>Neither</td><td>None</td><td>Never</td><td>160.0</td><td>Metric</td><td>20.333</td></tr><tr><th>5</th><td>Male</td><td>20.0</td><td>20.0</td><td>Right</td><td>Neither</td><td>35</td><td>Right</td><td>Some</td><td>Never</td><td>165.0</td><td>Metric</td><td>23.667</td></tr><tr><th>6</th><td>Female</td><td>18.0</td><td>17.7</td><td>Right</td><td>L on R</td><td>64</td><td>Right</td><td>Some</td><td>Never</td><td>172.72</td><td>Imperial</td><td>21.0</td></tr></tbody></table>"
      ],
      "text/plain": [
       "6×12 DataFrames.DataFrame\n",
       "│ Row │ Sex      │ WrHnd │ NWHnd │ WHnd    │ Fold      │ Pulse │ Clap      │\n",
       "├─────┼──────────┼───────┼───────┼─────────┼───────────┼───────┼───────────┤\n",
       "│ 1   │ \"Female\" │ 18.5  │ 18.0  │ \"Right\" │ \"R on L\"  │ 92    │ \"Left\"    │\n",
       "│ 2   │ \"Male\"   │ 19.5  │ 20.5  │ \"Left\"  │ \"R on L\"  │ 104   │ \"Left\"    │\n",
       "│ 3   │ \"Male\"   │ 18.0  │ 13.3  │ \"Right\" │ \"L on R\"  │ 87    │ \"Neither\" │\n",
       "│ 4   │ \"Male\"   │ 18.8  │ 18.9  │ \"Right\" │ \"R on L\"  │ NA    │ \"Neither\" │\n",
       "│ 5   │ \"Male\"   │ 20.0  │ 20.0  │ \"Right\" │ \"Neither\" │ 35    │ \"Right\"   │\n",
       "│ 6   │ \"Female\" │ 18.0  │ 17.7  │ \"Right\" │ \"L on R\"  │ 64    │ \"Right\"   │\n",
       "\n",
       "│ Row │ Exer   │ Smoke   │ Height │ MI         │ Age    │\n",
       "├─────┼────────┼─────────┼────────┼────────────┼────────┤\n",
       "│ 1   │ \"Some\" │ \"Never\" │ 173.0  │ \"Metric\"   │ 18.25  │\n",
       "│ 2   │ \"None\" │ \"Regul\" │ 177.8  │ \"Imperial\" │ 17.583 │\n",
       "│ 3   │ \"None\" │ \"Occas\" │ NA     │ NA         │ 16.917 │\n",
       "│ 4   │ \"None\" │ \"Never\" │ 160.0  │ \"Metric\"   │ 20.333 │\n",
       "│ 5   │ \"Some\" │ \"Never\" │ 165.0  │ \"Metric\"   │ 23.667 │\n",
       "│ 6   │ \"Some\" │ \"Never\" │ 172.72 │ \"Imperial\" │ 21.0   │"
      ]
     },
     "execution_count": 1,
     "metadata": {},
     "output_type": "execute_result"
    }
   ],
   "source": [
    "using RDatasets\n",
    "survey = dataset(\"MASS\", \"survey\")\n",
    "\n",
    "head(survey)"
   ]
  },
  {
   "cell_type": "code",
   "execution_count": 2,
   "metadata": {
    "collapsed": false,
    "scrolled": true
   },
   "outputs": [],
   "source": [
    "using FreqTables;"
   ]
  },
  {
   "cell_type": "code",
   "execution_count": 3,
   "metadata": {
    "collapsed": false
   },
   "outputs": [
    {
     "data": {
      "text/plain": [
       "2-element Named Array{Int64,1}\n",
       "Sex    │ \n",
       "───────┼────\n",
       "Female │ 118\n",
       "Male   │ 118"
      ]
     },
     "execution_count": 3,
     "metadata": {},
     "output_type": "execute_result"
    }
   ],
   "source": [
    "freqtable(survey, :Sex)"
   ]
  },
  {
   "cell_type": "code",
   "execution_count": 4,
   "metadata": {
    "collapsed": false
   },
   "outputs": [
    {
     "data": {
      "text/plain": [
       "2-element Named Array{Int64,1}\n",
       "WHnd  │ \n",
       "──────┼────\n",
       "Left  │  18\n",
       "Right │ 218"
      ]
     },
     "execution_count": 4,
     "metadata": {},
     "output_type": "execute_result"
    }
   ],
   "source": [
    "freqtable(survey, :WHnd)"
   ]
  },
  {
   "cell_type": "code",
   "execution_count": 5,
   "metadata": {
    "collapsed": false
   },
   "outputs": [
    {
     "data": {
      "text/plain": [
       "2×2 Named Array{Int64,2}\n",
       "Sex ╲ WHnd │  Left  Right\n",
       "───────────┼─────────────\n",
       "Female     │     7    110\n",
       "Male       │    10    108"
      ]
     },
     "execution_count": 5,
     "metadata": {},
     "output_type": "execute_result"
    }
   ],
   "source": [
    "# Nxy\n",
    "conteos = freqtable(survey, :Sex, :WHnd)"
   ]
  },
  {
   "cell_type": "code",
   "execution_count": 6,
   "metadata": {
    "collapsed": false
   },
   "outputs": [
    {
     "data": {
      "text/plain": [
       "2×1 Named Array{Int64,2}\n",
       "Sex ╲ WHnd │ sum(WHnd)\n",
       "───────────┼──────────\n",
       "Female     │       117\n",
       "Male       │       118"
      ]
     },
     "execution_count": 6,
     "metadata": {},
     "output_type": "execute_result"
    }
   ],
   "source": [
    "# Nx.\n",
    "marginal_Sex = sum(conteos,2)"
   ]
  },
  {
   "cell_type": "code",
   "execution_count": 7,
   "metadata": {
    "collapsed": false
   },
   "outputs": [
    {
     "data": {
      "text/plain": [
       "1×2 Named Array{Int64,2}\n",
       "Sex ╲ WHnd │  Left  Right\n",
       "───────────┼─────────────\n",
       "sum(Sex)   │    17    218"
      ]
     },
     "execution_count": 7,
     "metadata": {},
     "output_type": "execute_result"
    }
   ],
   "source": [
    "# N.y\n",
    "marginal_WHnd = sum(conteos,1)"
   ]
  },
  {
   "cell_type": "code",
   "execution_count": 8,
   "metadata": {
    "collapsed": false
   },
   "outputs": [
    {
     "data": {
      "text/html": [
       "235"
      ],
      "text/plain": [
       "235"
      ]
     },
     "execution_count": 8,
     "metadata": {},
     "output_type": "execute_result"
    }
   ],
   "source": [
    "# N\n",
    "total = sum(conteos)"
   ]
  },
  {
   "cell_type": "markdown",
   "metadata": {},
   "source": [
    "$$ P(Right,Female) = \\frac{N_{Right,Female}}{N}$$"
   ]
  },
  {
   "cell_type": "code",
   "execution_count": 9,
   "metadata": {
    "collapsed": false
   },
   "outputs": [
    {
     "data": {
      "text/plain": [
       "2×2 Named Array{Float64,2}\n",
       "Sex ╲ WHnd │      Left      Right\n",
       "───────────┼─────────────────────\n",
       "Female     │ 0.0297872   0.468085\n",
       "Male       │ 0.0425532   0.459574"
      ]
     },
     "execution_count": 9,
     "metadata": {},
     "output_type": "execute_result"
    }
   ],
   "source": [
    "# P(x,y)\n",
    "probabilidades = conteos ./ total"
   ]
  },
  {
   "cell_type": "code",
   "execution_count": 10,
   "metadata": {
    "collapsed": false
   },
   "outputs": [
    {
     "data": {
      "text/html": [
       "1.0"
      ],
      "text/plain": [
       "1.0"
      ]
     },
     "execution_count": 10,
     "metadata": {},
     "output_type": "execute_result"
    }
   ],
   "source": [
    "sum(probabilidades)"
   ]
  },
  {
   "cell_type": "markdown",
   "metadata": {},
   "source": [
    "$$ P(Right|Female) = \\frac{N_{Right,Female}}{N_{Female}}$$"
   ]
  },
  {
   "cell_type": "code",
   "execution_count": 11,
   "metadata": {
    "collapsed": false
   },
   "outputs": [
    {
     "name": "stderr",
     "output_type": "stream",
     "text": [
      "\u001b[1m\u001b[31mWARNING: Dropping mismatching names\u001b[0m\n"
     ]
    },
    {
     "data": {
      "text/plain": [
       "2×2 Array{Float64,2}:\n",
       " 0.0598291  0.940171\n",
       " 0.0847458  0.915254"
      ]
     },
     "execution_count": 11,
     "metadata": {},
     "output_type": "execute_result"
    }
   ],
   "source": [
    "# P(y|x)\n",
    "condicionales_Sex = conteos ./ marginal_Sex"
   ]
  },
  {
   "cell_type": "code",
   "execution_count": 12,
   "metadata": {
    "collapsed": false
   },
   "outputs": [
    {
     "data": {
      "text/plain": [
       "2×1 Array{Float64,2}:\n",
       " 1.0\n",
       " 1.0"
      ]
     },
     "execution_count": 12,
     "metadata": {},
     "output_type": "execute_result"
    }
   ],
   "source": [
    "sum(condicionales_Sex,2)"
   ]
  },
  {
   "cell_type": "markdown",
   "metadata": {},
   "source": [
    "En caso como éstos, dónde una de las variables fue fijada en el diseño experimental (comúnmente las filas) la distribución conjunta de las dos variables carece de sentido. En su lugar, es la probabilidad condicional de la variable no fijada, dada la variable que se fijó en el muestreo, la que tiene sentido. Lo mismo sucede cuando tenemos una variable predictiva y una respuesta, en donde tiene sentido pensar en la probabilidad condicional de la respuesta dado un valor de la variable predictiva. Cada una de éstas probabilidades condicionales sigue una distribución binomial:"
   ]
  },
  {
   "cell_type": "code",
   "execution_count": 13,
   "metadata": {
    "collapsed": false
   },
   "outputs": [],
   "source": [
    "using Distributions"
   ]
  },
  {
   "cell_type": "code",
   "execution_count": 23,
   "metadata": {
    "collapsed": false
   },
   "outputs": [
    {
     "data": {
      "text/html": [
       "117"
      ],
      "text/plain": [
       "117"
      ]
     },
     "execution_count": 23,
     "metadata": {},
     "output_type": "execute_result"
    }
   ],
   "source": [
    "# P(Left|Female)\n",
    "N = marginal_Sex[\"Female\",1]"
   ]
  },
  {
   "cell_type": "code",
   "execution_count": 24,
   "metadata": {
    "collapsed": false
   },
   "outputs": [
    {
     "data": {
      "text/plain": [
       "Distributions.Binomial{Float64}(n=117, p=0.05982905982905983)"
      ]
     },
     "execution_count": 24,
     "metadata": {},
     "output_type": "execute_result"
    }
   ],
   "source": [
    "Binomial(N, condicionales_Sex[1,1])"
   ]
  },
  {
   "cell_type": "code",
   "execution_count": 25,
   "metadata": {
    "collapsed": false
   },
   "outputs": [
    {
     "data": {
      "text/plain": [
       "Distributions.Binomial{Float64}(n=118, p=0.0847457627118644)"
      ]
     },
     "execution_count": 25,
     "metadata": {},
     "output_type": "execute_result"
    }
   ],
   "source": [
    "# P(Left|Male)\n",
    "Binomial(marginal_Sex[\"Male\",1], condicionales_Sex[2,1])"
   ]
  },
  {
   "cell_type": "markdown",
   "metadata": {},
   "source": [
    "En algunos casos, ninguna de las variables está fijada. Sólo se fija el número total de elementos que se clasificaron de manera simultánea. En esas tablas de contingencia, los marginales no tiene un valor fijo, sólo se decide la suma total con el diseño experimental. En ese caso, cada la probabilidad de cada celda de la tabla es el parámetro de una distribución multinomial, donde cada celda es una categoría:\n",
    "\n",
    "|    | y₁  | y₂  |\n",
    "|----|-----|-----|\n",
    "| x₁ | c₁  | c₃  |\n",
    "| x₂ | c₂  | c₄  |"
   ]
  },
  {
   "cell_type": "code",
   "execution_count": 26,
   "metadata": {
    "collapsed": false
   },
   "outputs": [
    {
     "data": {
      "text/plain": [
       "Distributions.Multinomial{Float64}(n=100, p=[0.2,0.2,0.5,0.1])"
      ]
     },
     "execution_count": 26,
     "metadata": {},
     "output_type": "execute_result"
    }
   ],
   "source": [
    "#                   total c₁   c₂   c₃   c₄\n",
    "multi = Multinomial(100, [0.2, 0.2, 0.5, 0.1])"
   ]
  },
  {
   "cell_type": "code",
   "execution_count": 27,
   "metadata": {
    "collapsed": false
   },
   "outputs": [
    {
     "data": {
      "text/plain": [
       "4-element Array{Int64,1}:\n",
       " 15\n",
       " 25\n",
       " 51\n",
       "  9"
      ]
     },
     "execution_count": 27,
     "metadata": {},
     "output_type": "execute_result"
    }
   ],
   "source": [
    "tabla = rand(multi)"
   ]
  },
  {
   "cell_type": "code",
   "execution_count": 28,
   "metadata": {
    "collapsed": false
   },
   "outputs": [
    {
     "data": {
      "text/plain": [
       "2×2 Array{Int64,2}:\n",
       " 15  51\n",
       " 25   9"
      ]
     },
     "execution_count": 28,
     "metadata": {},
     "output_type": "execute_result"
    }
   ],
   "source": [
    "reshape(tabla, (2,2))"
   ]
  },
  {
   "cell_type": "markdown",
   "metadata": {},
   "source": [
    "### Pearson's Chi-square Test"
   ]
  },
  {
   "cell_type": "markdown",
   "metadata": {},
   "source": [
    "El [**test χ² de Pearson**](https://en.wikipedia.org/wiki/Pearson%27s_chi-squared_test) utiliza el estadístico X² bajo la hipótesis nula de que las variables son independientes. Es decir, $p_{ij} = p_{i} \\cdot p_{j}$ para todo $i,j$ cuando $H_{0}$ es correcta. Siendo $\\mu_{ij} = n \\cdot p_{i} \\cdot p_{j}$ la frecuencia esperada bajo $H_{0}$:"
   ]
  },
  {
   "cell_type": "markdown",
   "metadata": {},
   "source": [
    "$$ X^{2} = \\sum \\frac{(n_{ij}-\\mu_{ij})^{2}}{\\mu_{ij}} $$"
   ]
  },
  {
   "cell_type": "markdown",
   "metadata": {},
   "source": [
    "X² sigue aproximadamente una distribución χ² para tamaños muestrales grandes. El *P value* es el área a la derecha (*right-tail probability*) de X² (dado que grandes valores de X² se corresponden a una mayor distancia de $H_{0}$. La aproximación χ²  mejora para grandes valores de $\\mu_{ij}$, siendo suficiente $\\mu_{ij} \\ge 5$. Los grados de libertad para una tabla de contingencia $I \\times J$ es $(I-1)(J-1)$. *(Agresti 1996)*  \n",
    "\n",
    "- *Agresti, A. (1996). An introduction to categorical data analysis (Vol. 135). New York: Wiley.*\n",
    "- *McDonald, John H. Handbook of biological statistics. Vol. 2. Baltimore, MD: Sparky House Publishing, 2009.* [**Capítulo sobre χ²**](http://www.biostathandbook.com/chiind.html)"
   ]
  },
  {
   "cell_type": "code",
   "execution_count": 29,
   "metadata": {
    "collapsed": false
   },
   "outputs": [
    {
     "data": {
      "text/plain": [
       "4×3 Named Array{Int64,2}\n",
       "Smoke ╲ Exer │ Freq  None  Some\n",
       "─────────────┼─────────────────\n",
       "Heavy        │    7     1     3\n",
       "Never        │   87    18    84\n",
       "Occas        │   12     3     4\n",
       "Regul        │    9     1     7"
      ]
     },
     "execution_count": 29,
     "metadata": {},
     "output_type": "execute_result"
    }
   ],
   "source": [
    "nij = freqtable(survey, :Smoke, :Exer)"
   ]
  },
  {
   "cell_type": "code",
   "execution_count": 30,
   "metadata": {
    "collapsed": false
   },
   "outputs": [
    {
     "data": {
      "text/html": [
       "236"
      ],
      "text/plain": [
       "236"
      ]
     },
     "execution_count": 30,
     "metadata": {},
     "output_type": "execute_result"
    }
   ],
   "source": [
    "n = sum(nij)"
   ]
  },
  {
   "cell_type": "code",
   "execution_count": 31,
   "metadata": {
    "collapsed": false
   },
   "outputs": [
    {
     "data": {
      "text/plain": [
       "4×3 Named Array{Float64,2}\n",
       "Smoke ╲ Exer │       Freq        None        Some\n",
       "─────────────┼───────────────────────────────────\n",
       "Heavy        │   0.029661  0.00423729   0.0127119\n",
       "Never        │   0.368644   0.0762712    0.355932\n",
       "Occas        │  0.0508475   0.0127119   0.0169492\n",
       "Regul        │  0.0381356  0.00423729    0.029661"
      ]
     },
     "execution_count": 31,
     "metadata": {},
     "output_type": "execute_result"
    }
   ],
   "source": [
    "pij = nij ./ n"
   ]
  },
  {
   "cell_type": "code",
   "execution_count": 32,
   "metadata": {
    "collapsed": false
   },
   "outputs": [
    {
     "data": {
      "text/plain": [
       "4×1 Named Array{Float64,2}\n",
       "Smoke ╲ Exer │ sum(Exer)\n",
       "─────────────┼──────────\n",
       "Heavy        │ 0.0466102\n",
       "Never        │  0.800847\n",
       "Occas        │ 0.0805085\n",
       "Regul        │ 0.0720339"
      ]
     },
     "execution_count": 32,
     "metadata": {},
     "output_type": "execute_result"
    }
   ],
   "source": [
    "pi = sum(pij, 2)"
   ]
  },
  {
   "cell_type": "code",
   "execution_count": 33,
   "metadata": {
    "collapsed": false
   },
   "outputs": [
    {
     "data": {
      "text/plain": [
       "1×3 Named Array{Float64,2}\n",
       "Smoke ╲ Exer │      Freq       None       Some\n",
       "─────────────┼────────────────────────────────\n",
       "sum(Smoke)   │  0.487288  0.0974576   0.415254"
      ]
     },
     "execution_count": 33,
     "metadata": {},
     "output_type": "execute_result"
    }
   ],
   "source": [
    "pj = sum(pij, 1)"
   ]
  },
  {
   "cell_type": "code",
   "execution_count": 34,
   "metadata": {
    "collapsed": false
   },
   "outputs": [
    {
     "data": {
      "text/plain": [
       "4×3 Named Array{Float64,2}\n",
       "Smoke ╲ Exer │    Freq     None     Some\n",
       "─────────────┼──────────────────────────\n",
       "Heavy        │ 5.36017  1.07203   4.5678\n",
       "Never        │ 92.0975  18.4195  78.4831\n",
       "Occas        │ 9.25847  1.85169  7.88983\n",
       "Regul        │  8.2839  1.65678  7.05932"
      ]
     },
     "execution_count": 34,
     "metadata": {},
     "output_type": "execute_result"
    }
   ],
   "source": [
    "μij = n .* pi * pj"
   ]
  },
  {
   "cell_type": "code",
   "execution_count": 35,
   "metadata": {
    "collapsed": false
   },
   "outputs": [
    {
     "data": {
      "text/html": [
       "5.488545890584233"
      ],
      "text/plain": [
       "5.488545890584233"
      ]
     },
     "execution_count": 35,
     "metadata": {},
     "output_type": "execute_result"
    }
   ],
   "source": [
    "X2 = sum((nij .- μij).^2 ./ μij)"
   ]
  },
  {
   "cell_type": "code",
   "execution_count": 36,
   "metadata": {
    "collapsed": false
   },
   "outputs": [
    {
     "data": {
      "text/html": [
       "0.48284216946545605"
      ],
      "text/plain": [
       "0.48284216946545605"
      ]
     },
     "execution_count": 36,
     "metadata": {},
     "output_type": "execute_result"
    }
   ],
   "source": [
    "using HypothesisTests\n",
    "# tabla 4x3\n",
    "# df (4-1)(3-1) = 3 ⋅ 2 = 6\n",
    "pvalue(Chisq(6), X2, tail=:right)"
   ]
  },
  {
   "cell_type": "code",
   "execution_count": 37,
   "metadata": {
    "collapsed": false
   },
   "outputs": [
    {
     "data": {
      "text/plain": [
       "Pearson's Chi-square Test\n",
       "-------------------------\n",
       "Population details:\n",
       "    parameter of interest:   Multinomial Probabilities\n",
       "    value under h_0:         [0.25,0.25,0.25,0.25]\n",
       "    point estimate:          [0.15,0.25,0.51,0.09]\n",
       "    95% confidence interval: Tuple{Float64,Float64}[(0.0,0.389999),(0.0,0.489999),(0.25,0.749999),(0.0,0.329999)]\n",
       "\n",
       "Test summary:\n",
       "    outcome with 95% confidence: reject h_0\n",
       "    two-sided p-value:           5.703407383477535e-9 (extremely significant)\n",
       "\n",
       "Details:\n",
       "    Sample size:        100\n",
       "    statistic:          41.28\n",
       "    degrees of freedom: 3\n",
       "    residuals:          [-2.0,0.0,5.2,-3.2]\n",
       "    std. residuals:     [-2.3094,0.0,6.00444,-3.69504]\n"
      ]
     },
     "execution_count": 37,
     "metadata": {},
     "output_type": "execute_result"
    }
   ],
   "source": [
    "ChisqTest(tabla)"
   ]
  },
  {
   "cell_type": "code",
   "execution_count": 40,
   "metadata": {
    "collapsed": false
   },
   "outputs": [],
   "source": [
    "using RCall"
   ]
  },
  {
   "cell_type": "code",
   "execution_count": 41,
   "metadata": {
    "collapsed": false
   },
   "outputs": [
    {
     "data": {
      "text/plain": [
       "RCall.RObject{RCall.VecSxp}\n",
       "\n",
       "\tChi-squared test for given probabilities\n",
       "\n",
       "data:  `#JL`$tabla\n",
       "X-squared = 41.28, df = 3, p-value = 5.703e-09\n",
       "\n"
      ]
     },
     "execution_count": 41,
     "metadata": {},
     "output_type": "execute_result"
    }
   ],
   "source": [
    "R\"chisq.test($tabla)\""
   ]
  },
  {
   "cell_type": "markdown",
   "metadata": {},
   "source": [
    "El *P value* el test nos describe la evidencia contra la hipótesis nula, pero no nos da un indicio de la naturaleza de las diferencias. Para poder ganar conocimiento acerca de lo que está pasando en al tabla, es posible hacer las diferencias celda a celda entre los valores observados y los valores esperados: $n_{ij} - \\mu_{ij}$. Sin embargo, estos valores serán más grandes a medida que las celdas tengan valores esperados mayores. Para poder evitar esto, se utilizan los residuos estandarizados, que no son más que la diferencia sobre su error estadístico:"
   ]
  },
  {
   "cell_type": "markdown",
   "metadata": {},
   "source": [
    "$$\\frac{n_{ij}-\\mu_{ij}}{\\sqrt{\\mu_{ij}(1-p_{i})(1-p_{j})}}$$"
   ]
  },
  {
   "cell_type": "code",
   "execution_count": 42,
   "metadata": {
    "collapsed": false
   },
   "outputs": [
    {
     "data": {
      "text/plain": [
       "4×3 Named Array{Float64,2}\n",
       "Smoke ╲ Exer │       Freq        None        Some\n",
       "─────────────┼───────────────────────────────────\n",
       "Heavy        │    1.63983  -0.0720339     -1.5678\n",
       "Never        │   -5.09746   -0.419492     5.51695\n",
       "Occas        │    2.74153     1.14831    -3.88983\n",
       "Regul        │   0.716102    -0.65678   -0.059322"
      ]
     },
     "execution_count": 42,
     "metadata": {},
     "output_type": "execute_result"
    }
   ],
   "source": [
    "diferencia = (nij .- μij)"
   ]
  },
  {
   "cell_type": "code",
   "execution_count": 43,
   "metadata": {
    "collapsed": false
   },
   "outputs": [
    {
     "data": {
      "text/plain": [
       "4×3 Array{Float64,2}:\n",
       " 1.61868  0.960447  1.59578\n",
       " 3.06657  1.81956   3.02318\n",
       " 2.0892   1.23963   2.05964\n",
       " 1.98527  1.17796   1.95718"
      ]
     },
     "execution_count": 43,
     "metadata": {},
     "output_type": "execute_result"
    }
   ],
   "source": [
    "se = sqrt( μij .* ( (1.-pi)*(1.-pj) ) )"
   ]
  },
  {
   "cell_type": "code",
   "execution_count": 44,
   "metadata": {
    "collapsed": false
   },
   "outputs": [
    {
     "data": {
      "text/plain": [
       "4×3 Named Array{Float64,2}\n",
       "Smoke ╲ Exer │       Freq        None        Some\n",
       "─────────────┼───────────────────────────────────\n",
       "Heavy        │    1.01307  -0.0750004   -0.982466\n",
       "Never        │   -1.66226   -0.230546     1.82488\n",
       "Occas        │    1.31224    0.926328     -1.8886\n",
       "Regul        │   0.360707   -0.557555  -0.0303099"
      ]
     },
     "execution_count": 44,
     "metadata": {},
     "output_type": "execute_result"
    }
   ],
   "source": [
    "residuos_estandarizados = diferencia ./ se"
   ]
  },
  {
   "cell_type": "markdown",
   "metadata": {},
   "source": [
    "### Fisher's Exact Test "
   ]
  },
  {
   "cell_type": "markdown",
   "metadata": {},
   "source": [
    "El test de χ² de Pearson, es un test para tamaños muestrales grandes dado que utiliza una distribución asintótica. Para tamaños de muestra más chicos, en particular para tablas de 2x2, el [**test de independencia de Fisher**](https://en.wikipedia.org/wiki/Fisher%27s_exact_test) utiliza la distribución exacta. Éste último es útil también cuando los valores de frecuencia esperados son bajos. Sin embargo, el test está pensado para un diseño experimental en el que se controlan ambos marginales. El ejemplo clásico es:"
   ]
  },
  {
   "cell_type": "code",
   "execution_count": 45,
   "metadata": {
    "collapsed": false
   },
   "outputs": [],
   "source": [
    "using NamedArrays"
   ]
  },
  {
   "cell_type": "code",
   "execution_count": 46,
   "metadata": {
    "collapsed": false
   },
   "outputs": [
    {
     "data": {
      "text/plain": [
       "2×2 Named Array{Int64,2}\n",
       "Real ╲ Predicción │ Leche     Té\n",
       "──────────────────┼─────────────\n",
       "Leche             │     3      1\n",
       "Té                │     1      3"
      ]
     },
     "execution_count": 46,
     "metadata": {},
     "output_type": "execute_result"
    }
   ],
   "source": [
    "tabla = NamedArray(Int[3 1; 1 3], ( [\"Leche\",\"Té\"], [\"Leche\",\"Té\"] ), (\"Real\",\"Predicción\"))"
   ]
  },
  {
   "cell_type": "code",
   "execution_count": 47,
   "metadata": {
    "collapsed": false
   },
   "outputs": [
    {
     "data": {
      "text/plain": [
       "Fisher's exact test\n",
       "-------------------\n",
       "Population details:\n",
       "    parameter of interest:   Odds ratio\n",
       "    value under h_0:         1.0\n",
       "    point estimate:          6.408319658199699\n",
       "    95% confidence interval: (0.21173559544657852,626.2435305888454)\n",
       "\n",
       "Test summary:\n",
       "    outcome with 95% confidence: fail to reject h_0\n",
       "    two-sided p-value:           0.485714285714286 (not significant)\n",
       "\n",
       "Details:\n",
       "    contingency table:\n",
       "        3  1\n",
       "        1  3\n"
      ]
     },
     "execution_count": 47,
     "metadata": {},
     "output_type": "execute_result"
    }
   ],
   "source": [
    "FisherExactTest(tabla'...)"
   ]
  },
  {
   "cell_type": "code",
   "execution_count": 48,
   "metadata": {
    "collapsed": false
   },
   "outputs": [
    {
     "data": {
      "text/plain": [
       "RCall.RObject{RCall.VecSxp}\n",
       "\n",
       "\tFisher's Exact Test for Count Data\n",
       "\n",
       "data:  `#JL`$tabla\n",
       "p-value = 0.4857\n",
       "alternative hypothesis: true odds ratio is not equal to 1\n",
       "95 percent confidence interval:\n",
       "   0.2117329 621.9337505\n",
       "sample estimates:\n",
       "odds ratio \n",
       "  6.408309 \n",
       "\n"
      ]
     },
     "execution_count": 48,
     "metadata": {},
     "output_type": "execute_result"
    }
   ],
   "source": [
    "R\"fisher.test($tabla)\""
   ]
  },
  {
   "cell_type": "markdown",
   "metadata": {},
   "source": [
    "- *McDonald, John H. Handbook of biological statistics. Vol. 2. Baltimore, MD: Sparky House Publishing, 2009.* [**Capítulo sobre el test de Fisher**](http://www.biostathandbook.com/fishers.html)"
   ]
  }
 ],
 "metadata": {
  "kernelspec": {
   "display_name": "Julia 0.5.0",
   "language": "julia",
   "name": "julia-0.5"
  },
  "language_info": {
   "file_extension": ".jl",
   "mimetype": "application/julia",
   "name": "julia",
   "version": "0.5.0"
  }
 },
 "nbformat": 4,
 "nbformat_minor": 0
}
