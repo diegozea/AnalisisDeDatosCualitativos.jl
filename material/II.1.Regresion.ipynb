{
 "cells": [
  {
   "cell_type": "markdown",
   "metadata": {},
   "source": [
    "### Unidad II. Regresiones y reducción de dimensionalidad.\n",
    "\n",
    "## Planteamiento del problema de regresión en forma general."
   ]
  },
  {
   "cell_type": "markdown",
   "metadata": {},
   "source": [
    "Tanto las [**regresiones**](https://en.wikipedia.org/wiki/Regression_analysis), como los [análisis de varianza](https://en.wikipedia.org/wiki/Analysis_of_variance) (*analysis of variance*, **ANOVA**) y los de covarianza ([*analysis of covariance*](https://en.wikipedia.org/wiki/Analysis_of_covariance), **ANCOVA**) forman parte del [**modelo lineal generalizado**](https://en.wikipedia.org/wiki/General_linear_model) (*general linear model*, **GLM**)."
   ]
  },
  {
   "cell_type": "code",
   "execution_count": 1,
   "metadata": {
    "collapsed": false
   },
   "outputs": [],
   "source": [
    "using GLM # La biblioteca GLM de Julia implementa ésto"
   ]
  },
  {
   "cell_type": "markdown",
   "metadata": {},
   "source": [
    "Los *GLM* suelen predecir una variable (*dependiente* o *respuesta*) $Y$ como combinación lineal de otro conjunto de $k$ variables (*independientes*, *predictoras*, *explicativa*) $X_{1} ... X_{k}$.  \n",
    "Sin embargo, los modelos lineales también son útiles para la predicción de varias variables independientes, por ejemplo mediante la *regresión multivariante* o el [*análisis multivariante de la varianza*](https://en.wikipedia.org/wiki/Multivariate_analysis_of_covariance) (*multivariate analysis of variance*, **MANOVA**).  \n",
    "Al ajustar el modelo lineal, uno encuentra una serie de pesos (*weights*) o **coeficientes** (*coefficients*) $\\beta_{1} ... \\beta_{k}$ para cada variable independiente, que satisfacen un criterio estadístico. Además se tiene un término intersección o constante (*intercept*) $\\alpha$ y un término que representa el error de la predicción (*prediction error*) $E$."
   ]
  },
  {
   "cell_type": "markdown",
   "metadata": {},
   "source": [
    "$$Y = \\alpha + \\beta_{1}X_{1} + \\beta_{2}X_{2} + ... + \\beta_{k}X_{k} + E$$"
   ]
  },
  {
   "cell_type": "markdown",
   "metadata": {},
   "source": [
    "La ecuación para los valores predichos para la variable dependiente sería:"
   ]
  },
  {
   "cell_type": "markdown",
   "metadata": {},
   "source": [
    "$$\\hat{Y} = \\alpha + \\beta_{1}X_{1} + \\beta_{2}X_{2} + ... + \\beta_{k}X_{k}$$"
   ]
  },
  {
   "cell_type": "markdown",
   "metadata": {},
   "source": [
    "La estimación de estos parámetros suele hacerse mediante el criterio de [**cuadrados mínimos**](https://en.wikipedia.org/wiki/Least_squares), que minimiza la suma de las diferencias entre los valores predichos y los observados al cuadrado [$SS_{E}$](https://en.wikipedia.org/wiki/Residual_sum_of_squares)."
   ]
  },
  {
   "cell_type": "markdown",
   "metadata": {},
   "source": [
    "$$ \\sum_{i=1}^{N}(Y_{i}-\\hat{Y}_{i})^{2} = \\sum_{i=1}^{N} E_{i}^{2} $$"
   ]
  },
  {
   "cell_type": "markdown",
   "metadata": {},
   "source": [
    "Uno puede establecer test estadísticos para el modelo general. Pero comúnmente se lo hace para cada uno de sus parámetros, dado que esto último permite analizar la influencia de las variables independientes sobre la dependiente."
   ]
  },
  {
   "cell_type": "markdown",
   "metadata": {},
   "source": [
    "Si bien el *ANOVA* es un *GLM*, tiene una terminología particular, en el cual cada variable independiente es denominada un **factor** (*factor*) con diferentes **niveles** (*levels*) en lugar de categorías o grupos. Se denomina *oneway ANOVA* al modelo que posee un solo factor, y *n-way ANOVA* o ANOVA factorial al que posee dos o más variables independientes categóricas. Mientras todas las variables independientes de un *ANOVA* son categóricas, un *ANCOVA* puede tener una o más variables continuas (covariables o *covariates*) entre sus variables independientes. "
   ]
  }
 ],
 "metadata": {
  "kernelspec": {
   "display_name": "Julia 0.5.0",
   "language": "julia",
   "name": "julia-0.5"
  },
  "language_info": {
   "file_extension": ".jl",
   "mimetype": "application/julia",
   "name": "julia",
   "version": "0.5.0"
  }
 },
 "nbformat": 4,
 "nbformat_minor": 0
}
