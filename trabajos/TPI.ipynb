{
 "cells": [
  {
   "cell_type": "markdown",
   "metadata": {},
   "source": [
    "# Trabajo Práctico I\n",
    "## Variables Aleatorias & Distribuciones de Probabilidad"
   ]
  },
  {
   "cell_type": "markdown",
   "metadata": {},
   "source": [
    "Deberán entregar está *IJulia notebook* con las respuestas a las preguntas que se encuentran final según el *dataset* asignado. Les recomiendo leer la guía de [Variables aleatorias y funciones de distribución](http://nbviewer.jupyter.org/github/diegozea/AnalisisDeDatosCualitativos.jl/blob/master/material/I.1.VariablesAleatoriasyFuncionesDeDistribucion.ipynb), en la cual encontrarán información para guiarse durante el análisis.  "
   ]
  },
  {
   "cell_type": "markdown",
   "metadata": {},
   "source": [
    "Sus comentarios deben escribirlos en celdas del tipo *Raw NBConvert* o *Markdown* preferentemente. Aunque también pueden escribir comentarios en celdas de código usando `#`."
   ]
  },
  {
   "cell_type": "markdown",
   "metadata": {},
   "source": [
    "Celda **Markdown**"
   ]
  },
  {
   "cell_type": "raw",
   "metadata": {},
   "source": [
    "Celda Raw NBConvert"
   ]
  },
  {
   "cell_type": "code",
   "execution_count": null,
   "metadata": {
    "collapsed": true
   },
   "outputs": [],
   "source": [
    "# Celda Code (comentario en celda de código estándar)"
   ]
  },
  {
   "cell_type": "markdown",
   "metadata": {},
   "source": [
    "Todas las bibliotecas necesarias deberían haberse instalado automáticamente cuando hicieron   \n",
    "```julia\n",
    "Pkg.clone(\"https://github.com/diegozea/AnalisisDeDatosCualitativos.jl.git\")\n",
    "```\n",
    "en Julia. Así que la siguiente celda debería correr sin problemas.  \n",
    "En caso de que tengan algún problema, si ya clonaron el repositorio, pueden actualizar el material haciendo:  \n",
    "```julia\n",
    "Pkg.update()\n",
    "```"
   ]
  },
  {
   "cell_type": "code",
   "execution_count": null,
   "metadata": {
    "collapsed": false
   },
   "outputs": [],
   "source": [
    "using RDatasets\n",
    "using DataFrames\n",
    "using StatsBase\n",
    "using Distributions\n",
    "using Plots     # Para usar plot(...)\n",
    "using StatPlots # En caso de que quieran hacer algún plot estadístico con Plots\n",
    "pyplot(size=(600,300)) # En caso de que usen Plots, para que los plots no sean enormes\n",
    "\n",
    "using RCall  # Si saben hacer algo de ésto con R, pueden acceder R desde Julia con RCall\n",
    "using PyCall # Si saben hacer algo de ésto con Python, pueden acceder Python desde Julia con PyCall"
   ]
  },
  {
   "cell_type": "markdown",
   "metadata": {},
   "source": [
    "A continuación se cargan los *datasets* a utilizar por cada uno. Con una breve descripción comentada. **Solo tienen que analizar el que les corresponde.**"
   ]
  },
  {
   "cell_type": "code",
   "execution_count": null,
   "metadata": {
    "collapsed": false
   },
   "outputs": [],
   "source": [
    "# Javier Corvi : msleep\n",
    "# ---------------------\n",
    "\n",
    "# An updated and expanded version of the mammals sleep dataset.\n",
    "# This is an updated and expanded version of the mammals sleep dataset. \n",
    "# Updated sleep times and weights were taken from V. M. Savage and G. B. West. \n",
    "# A quantitative, theoretical framework for understanding mammalian sleep. \n",
    "# Proceedings of the National Academy of Sciences, 104 (3):1051-1056, 2007.\n",
    "# A data frame with 83 rows and 11 variables\n",
    "# Aditional variables order, conservation status and vore were added from wikipedia.\n",
    "# name. common name\n",
    "# genus.\n",
    "# vore. carnivore, omnivore or herbivore?\n",
    "# order.\n",
    "# conservation. the conservation status of the animal\n",
    "# sleep\\_total. total amount of sleep, in hours\n",
    "# sleep\\_rem. rem sleep, in hours\n",
    "# sleep\\_cycle. length of sleep cycle, in hours\n",
    "# awake. amount of time spent awake, in hours\n",
    "# brainwt. brain weight in kilograms\n",
    "# bodywt. body weight in kilograms\n",
    "\n",
    "msleep = dataset(\"ggplot2\",\"msleep\")\n",
    "\n",
    "# Ricardo Bayona Grimaldo : mammals\n",
    "# ---------------------------------\n",
    "\n",
    "# Brain and Body Weights for 62 Species of Land Mammals\n",
    "# A data frame with average brain and body weights for 62 species of land mammals.\n",
    "# body: body weight in kg.\n",
    "# brain: brain weight in g.\n",
    "# name: Common name of species. (Rock hyrax-a = Heterohyrax brucci, Rock hyrax-b = Procavia habessinic..)\n",
    "\n",
    "mammals = dataset(\"MASS\",\"mammals\")\n",
    "\n",
    "# Oscar Santapá : poisons\n",
    "# -----------------------\n",
    "\n",
    "# The poisons data frame has 48 rows and 3 columns.\n",
    "# The data form a 3x4 factorial experiment, the factors being three poisons and four treatments. \n",
    "# Each combination of the two factors was used for four animals, \n",
    "# the allocation to animals having been completely randomized.\n",
    "# This data frame contains the following columns:\n",
    "# time: The survival time of the animal in units of 10 hours.\n",
    "# poison: A factor with levels 1, 2 and 3 giving the type of poison used.\n",
    "# treat: A factor with levels A, B, C and D giving the treatment.\n",
    "\n",
    "poisons = dataset(\"boot\",\"poisons\")\n",
    "\n",
    "# Rodrigo Bogado : flower\n",
    "# -----------------------\n",
    "\n",
    "# 8 characteristics for 18 popular flowers.\n",
    "# A data frame with 18 observations on 8 variables:\n",
    "# V1: winters, is binary and indicates whether the plant may be left in the garden when it freezes.\n",
    "# V2: shadow, is binary and shows whether the plant needs to stand in the shadow.\n",
    "# V3: tubers, is asymmetric binary and distinguishes between plants \n",
    "#     with tubers and plants that grow in any other way.\n",
    "# V4: color, is nominal and specifies the flower's color \n",
    "#     (1 = white, 2 = yellow, 3 = pink, 4 = red, 5 = blue).\n",
    "# V5: soil, is ordinal and indicates whether the plant grows in dry (1), normal (2), or wet (3) soil.\n",
    "# V6: preference, is ordinal and gives someone's preference ranking going from 1 to 18.\n",
    "# V7: height, is interval scaled, the plant's height in centimeters.\n",
    "# V8: distance, is interval scaled, the distance in centimeters that should be left between the plants.\n",
    "\n",
    "flower = dataset(\"cluster\",\"flower\")\n",
    "\n",
    "# Cesar Danerí : animals\n",
    "# ----------------------\n",
    "\n",
    "# This data set considers 6 binary attributes for 20 animals.\n",
    "# A data frame with 20 observations on 6 variables:\n",
    "# [:,1] war: warm-blooded\n",
    "# [:,2] fly: can fly\n",
    "# [:,3] ver: vertebrate\n",
    "# [:,4] end: endangered\n",
    "# [:,5] gro: live in groups\n",
    "# [:,6] hai: have hair\n",
    "# All variables are encoded as 1 = ‘no’, 2 = ‘yes’.\n",
    "\n",
    "animals = dataset(\"cluster\",\"animals\")\n",
    "\n",
    "# Rosa Amarilla : genotype\n",
    "# ------------------------\n",
    "\n",
    "# Rat Genotype Data\n",
    "# Data from a foster feeding experiment with rat mothers and litters of four different genotypes: \n",
    "# A, B, I and J. Rat litters were separated from their \n",
    "# natural mothers at birth and given to foster mothers to rear.\n",
    "# The data frame has the following components:\n",
    "# Litter: genotype of the litter.\n",
    "# Mother: genotype of the foster mother.\n",
    "# Wt: Litter average weight gain of the litter, in grams at age 28 days. \n",
    "# (The source states that the within-litter variability is negligible.)\n",
    "\n",
    "genotype = dataset(\"MASS\",\"genotype\")\n",
    "\n",
    "# Ulises Mancini : claridge\n",
    "# -------------------------\n",
    "\n",
    "# Genetic Links to Left-handedness\n",
    "# The claridge data frame has 37 rows and 2 columns.\n",
    "# The data are from an experiment which was designed to look \n",
    "# for a relationship between a certain genetic characteristic and handedness. \n",
    "# The 37 subjects were women who had a son with mental retardation due to \n",
    "# inheriting a defective X-chromosome. \n",
    "# For each such mother a genetic measurement of their DNA was made. \n",
    "# Larger values of this measurement are known to be linked to the defective gene and \n",
    "# it was hypothesized that larger values might also be linked to \n",
    "# a progressive shift away from right-handednesss. \n",
    "# Each woman also filled in a questionnaire regarding which hand they used for various tasks. \n",
    "# From these questionnaires a measure of hand preference was found for each mother. \n",
    "# The scale of this measure goes from 1, \n",
    "# indicating someone who always favours their right hand, to 8, \n",
    "# indicating someone who always favours their left hand. \n",
    "# Between these two extremes are people who favour one hand for some tasks and the other for other tasks.\n",
    "# This data frame contains the following columns:\n",
    "# dnan: The genetic measurement on each woman's DNA.\n",
    "# hand: The measure of left-handedness on an integer scale from 1 to 8.\n",
    "\n",
    "claridge  = dataset(\"boot\",\"claridge\");"
   ]
  },
  {
   "cell_type": "markdown",
   "metadata": {},
   "source": [
    "# Parte 1: Variables"
   ]
  },
  {
   "cell_type": "markdown",
   "metadata": {},
   "source": [
    "**1 -** Realice una descripción de las variables de su dataset. ¿Son cualitativas o cuantitativas? ¿Ordinales o nominales? ¿Discretas o continuas? ¿Cuales son los niveles de medición utilizados?"
   ]
  },
  {
   "cell_type": "code",
   "execution_count": null,
   "metadata": {
    "collapsed": true
   },
   "outputs": [],
   "source": []
  },
  {
   "cell_type": "markdown",
   "metadata": {},
   "source": [
    "**2 -** ¿Es posible reconocer algún tipo de muestreo?"
   ]
  },
  {
   "cell_type": "code",
   "execution_count": null,
   "metadata": {
    "collapsed": true
   },
   "outputs": [],
   "source": []
  },
  {
   "cell_type": "markdown",
   "metadata": {},
   "source": [
    "**3 -** Sugiera una distribución de probabilidad para al menos dos variables."
   ]
  },
  {
   "cell_type": "code",
   "execution_count": null,
   "metadata": {
    "collapsed": true
   },
   "outputs": [],
   "source": []
  },
  {
   "cell_type": "markdown",
   "metadata": {},
   "source": [
    "**4 -** ¿Cuáles son los estadísticos de resumen (ej. *media*, *mediana*, etc.) para cada una de las dos variables seleccionadas en el punto *3*?  \n",
    "  \n",
    "*Ayuda: Pueden usar la función* `describe` *de DataFrames*"
   ]
  },
  {
   "cell_type": "code",
   "execution_count": null,
   "metadata": {
    "collapsed": true
   },
   "outputs": [],
   "source": []
  },
  {
   "cell_type": "markdown",
   "metadata": {},
   "source": [
    "**5 -** ¿Qué gráfico pueden realizar para ganar idea de cuál es la forma de la función de densidad de probabilidad? Realice ese gráfico para las dos variables seleccionadas en el punto 3 y escriba si, en base a la forma que esperan para la PDF, están de acuerdo con las distribuciones que sugieren en ese punto."
   ]
  },
  {
   "cell_type": "code",
   "execution_count": null,
   "metadata": {
    "collapsed": true
   },
   "outputs": [],
   "source": []
  },
  {
   "cell_type": "markdown",
   "metadata": {},
   "source": [
    "# Parte 2: Distribuciones"
   ]
  },
  {
   "cell_type": "code",
   "execution_count": null,
   "metadata": {
    "collapsed": false
   },
   "outputs": [],
   "source": [
    "srand(13); # Fijo la semilla del generador de números random para poder reproducir los resultados"
   ]
  },
  {
   "cell_type": "markdown",
   "metadata": {},
   "source": [
    "Completar la siguiente celda para que *U* e *V* contengan `100` números random generados con la función `rand` provenientes de una distribución `Normal` estándar/canónica."
   ]
  },
  {
   "cell_type": "code",
   "execution_count": null,
   "metadata": {
    "collapsed": false
   },
   "outputs": [],
   "source": [
    "n = 100\n",
    "\n",
    "U = # COMPLETAR\n",
    "V = # COMPLETAR"
   ]
  },
  {
   "cell_type": "markdown",
   "metadata": {},
   "source": [
    "Dado que *x* e *y* se distribuyen de manera normal, las variables *X* e *Y* de la celda siguiente tendrán una distribución conjunta [*Normal Bivariante*](https://es.wikipedia.org/wiki/Distribuci%C3%B3n_normal_multivariante).  \n",
    "[Ecuación al final de la celda](http://www.athenasc.com/Bivariate-Normal.pdf)."
   ]
  },
  {
   "cell_type": "code",
   "execution_count": null,
   "metadata": {
    "collapsed": false
   },
   "outputs": [],
   "source": [
    "a = 2\n",
    "b = 3\n",
    "c = 10\n",
    "d = 40\n",
    "\n",
    "x = a .* U .+ b .* V\n",
    "y = c .* U .+ d .* V"
   ]
  },
  {
   "cell_type": "markdown",
   "metadata": {},
   "source": [
    "Realizamos un [diagrama de dispersión](https://es.wikipedia.org/wiki/Diagrama_de_dispersi%C3%B3n) para ver como se distribuyen los pares *(x,y)*. Dado que generamos cada valor de *y* como el valor de *x* más un error, los puntos deberían distribuirse alrededor de la diagonal."
   ]
  },
  {
   "cell_type": "code",
   "execution_count": null,
   "metadata": {
    "collapsed": false
   },
   "outputs": [],
   "source": [
    "scatter(x, y, legend=false)"
   ]
  },
  {
   "cell_type": "markdown",
   "metadata": {},
   "source": [
    "Calculamos el [*Coeficiente de correlación de Pearson*](https://es.wikipedia.org/wiki/Coeficiente_de_correlaci%C3%B3n_de_Pearson) *(r)* utilizando la función `cor` de Julia. El coeficiente *r* es una medida de la asociación lineal entre las dos variables, donde *r=0* implica la ausencia de correlación/asociación."
   ]
  },
  {
   "cell_type": "code",
   "execution_count": null,
   "metadata": {
    "collapsed": false
   },
   "outputs": [],
   "source": [
    "r = cor(x,y) # Resultado : 0.9139410760214167"
   ]
  },
  {
   "cell_type": "markdown",
   "metadata": {},
   "source": [
    "Dado que la distribución conjunta es una *Normal Bivariante*, [la distribución del estadístico *t* dada la ausencia de correlación (nuestra hipótesis nula) siguen una distribución *T de Student* con *n-2* grados de libertad.](https://en.wikipedia.org/wiki/Pearson_correlation_coefficient#Testing_using_Student.27s_t-distribution) Siendo el estadístico *t*:  \n",
    "  \n",
    "$$ t = r \\sqrt{\\frac{n-2}{1-r^{2}}} $$  \n",
    "  "
   ]
  },
  {
   "cell_type": "code",
   "execution_count": null,
   "metadata": {
    "collapsed": false
   },
   "outputs": [],
   "source": [
    "t = # Completar # Resultado : 22.293024692856186"
   ]
  },
  {
   "cell_type": "markdown",
   "metadata": {},
   "source": [
    "Calcular la probabilidad de observar el valor de *t* obtenido bajo la hipótesis nula, recordar que el estadístico *t* se distribuye como una *T de Student* con *n-2* grados de libertad en ese caso."
   ]
  },
  {
   "cell_type": "code",
   "execution_count": null,
   "metadata": {
    "collapsed": false
   },
   "outputs": [],
   "source": [
    "P = ccdf(TDist(n-2),t) # Completar # Resultado: 1.8277547231800017e-40"
   ]
  }
 ],
 "metadata": {
  "kernelspec": {
   "display_name": "Julia 0.5.0",
   "language": "julia",
   "name": "julia-0.5"
  },
  "language_info": {
   "file_extension": ".jl",
   "mimetype": "application/julia",
   "name": "julia",
   "version": "0.5.0"
  }
 },
 "nbformat": 4,
 "nbformat_minor": 0
}
