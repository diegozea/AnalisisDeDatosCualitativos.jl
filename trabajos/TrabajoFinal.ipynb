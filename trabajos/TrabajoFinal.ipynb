{
 "cells": [
  {
   "cell_type": "markdown",
   "metadata": {},
   "source": [
    ">**H1**: Hipótesis alternativa que desean demostrar. [5 puntos]  \n",
    "**ML**: Técnica a aplicar. Realizarla sobre el dataset teniendo en cuenta que no es posible obtener nuevos datos. En los casos de métodos predictivos o de clasificación, dar un idea del error que se comente con el modelo elegido sobre el dataset. Deberá interpretar los resultados de manera extensa. [5 puntos]  \n",
    "  \n",
    ">**Justificar todos los pasos realizados.**"
   ]
  },
  {
   "cell_type": "markdown",
   "metadata": {},
   "source": [
    "**msleep**\n",
    "\n",
    "- **Name** Common name  \n",
    "- **Genus**  \n",
    "- **Vore** Carnivore, omnivore or herbivore?  \n",
    "- **Order**  \n",
    "- **Conservation** [The conservation status of the animal](https://en.wikipedia.org/wiki/Conservation_status) \n",
    "- **SleepTotal** Total amount of sleep, in hours  \n",
    "- **SleepRem** REM sleep, in hours  \n",
    "- **SleepCycle** Length of sleep cycle, in hours  \n",
    "- **Awake** Amount of time spent awake, in hours  \n",
    "- **BrainWt** Brain weight in kilograms  \n",
    "- **BodyWt** Body weight in kilograms  "
   ]
  },
  {
   "cell_type": "code",
   "execution_count": 1,
   "metadata": {
    "collapsed": false
   },
   "outputs": [
    {
     "data": {
      "text/html": [
       "<table class=\"data-frame\"><thead><tr><th></th><th>Name</th><th>Genus</th><th>Vore</th><th>Order</th><th>Conservation</th><th>SleepTotal</th><th>SleepRem</th><th>SleepCycle</th><th>Awake</th><th>BrainWt</th><th>BodyWt</th></tr></thead><tbody><tr><th>1</th><td>Cheetah</td><td>Acinonyx</td><td>carni</td><td>Carnivora</td><td>lc</td><td>12.1</td><td>NA</td><td>NA</td><td>11.9</td><td>NA</td><td>50.0</td></tr><tr><th>2</th><td>Owl monkey</td><td>Aotus</td><td>omni</td><td>Primates</td><td>NA</td><td>17.0</td><td>1.8</td><td>NA</td><td>7.0</td><td>0.0155</td><td>0.48</td></tr><tr><th>3</th><td>Mountain beaver</td><td>Aplodontia</td><td>herbi</td><td>Rodentia</td><td>nt</td><td>14.4</td><td>2.4</td><td>NA</td><td>9.6</td><td>NA</td><td>1.35</td></tr><tr><th>4</th><td>Greater short-tailed shrew</td><td>Blarina</td><td>omni</td><td>Soricomorpha</td><td>lc</td><td>14.9</td><td>2.3</td><td>0.133333333</td><td>9.1</td><td>0.00029</td><td>0.019</td></tr><tr><th>5</th><td>Cow</td><td>Bos</td><td>herbi</td><td>Artiodactyla</td><td>domesticated</td><td>4.0</td><td>0.7</td><td>0.666666667</td><td>20.0</td><td>0.423</td><td>600.0</td></tr><tr><th>6</th><td>Three-toed sloth</td><td>Bradypus</td><td>herbi</td><td>Pilosa</td><td>NA</td><td>14.4</td><td>2.2</td><td>0.766666667</td><td>9.6</td><td>NA</td><td>3.85</td></tr></tbody></table>"
      ],
      "text/plain": [
       "6×11 DataFrames.DataFrame\n",
       "│ Row │ Name                         │ Genus        │ Vore    │ Order          │\n",
       "├─────┼──────────────────────────────┼──────────────┼─────────┼────────────────┤\n",
       "│ 1   │ \"Cheetah\"                    │ \"Acinonyx\"   │ \"carni\" │ \"Carnivora\"    │\n",
       "│ 2   │ \"Owl monkey\"                 │ \"Aotus\"      │ \"omni\"  │ \"Primates\"     │\n",
       "│ 3   │ \"Mountain beaver\"            │ \"Aplodontia\" │ \"herbi\" │ \"Rodentia\"     │\n",
       "│ 4   │ \"Greater short-tailed shrew\" │ \"Blarina\"    │ \"omni\"  │ \"Soricomorpha\" │\n",
       "│ 5   │ \"Cow\"                        │ \"Bos\"        │ \"herbi\" │ \"Artiodactyla\" │\n",
       "│ 6   │ \"Three-toed sloth\"           │ \"Bradypus\"   │ \"herbi\" │ \"Pilosa\"       │\n",
       "\n",
       "│ Row │ Conservation   │ SleepTotal │ SleepRem │ SleepCycle │ Awake │ BrainWt │\n",
       "├─────┼────────────────┼────────────┼──────────┼────────────┼───────┼─────────┤\n",
       "│ 1   │ \"lc\"           │ 12.1       │ NA       │ NA         │ 11.9  │ NA      │\n",
       "│ 2   │ NA             │ 17.0       │ 1.8      │ NA         │ 7.0   │ 0.0155  │\n",
       "│ 3   │ \"nt\"           │ 14.4       │ 2.4      │ NA         │ 9.6   │ NA      │\n",
       "│ 4   │ \"lc\"           │ 14.9       │ 2.3      │ 0.133333   │ 9.1   │ 0.00029 │\n",
       "│ 5   │ \"domesticated\" │ 4.0        │ 0.7      │ 0.666667   │ 20.0  │ 0.423   │\n",
       "│ 6   │ NA             │ 14.4       │ 2.2      │ 0.766667   │ 9.6   │ NA      │\n",
       "\n",
       "│ Row │ BodyWt │\n",
       "├─────┼────────┤\n",
       "│ 1   │ 50.0   │\n",
       "│ 2   │ 0.48   │\n",
       "│ 3   │ 1.35   │\n",
       "│ 4   │ 0.019  │\n",
       "│ 5   │ 600.0  │\n",
       "│ 6   │ 3.85   │"
      ]
     },
     "execution_count": 1,
     "metadata": {},
     "output_type": "execute_result"
    }
   ],
   "source": [
    "using RDatasets\n",
    "msleep = dataset(\"ggplot2\",\"msleep\")\n",
    "head(msleep)"
   ]
  },
  {
   "cell_type": "markdown",
   "metadata": {},
   "source": [
    "**Javier Corvi**  \n",
    "\n",
    "**H1**: La cantidad de hora de sueño totales del animal depende de su peso corporal.  \n",
    "**ML**: Regresión logística para lograr un clasificador de la dieta del animal dependiendo de las variables cuantitativas del dataset.  "
   ]
  },
  {
   "cell_type": "markdown",
   "metadata": {},
   "source": [
    "**Ricardo Bayona Grimaldo**  \n",
    "\n",
    "**H1**: La cantidad de horas de sueño de un animal está relacionado con su estado de conservación.   \n",
    "**ML**: Lograr un modelo que permita predecir la cantidad de horas de sueño REM dependiendo de la cantidad de sueño total, del peso del animal y del peso de su cerebro.  "
   ]
  },
  {
   "cell_type": "markdown",
   "metadata": {},
   "source": [
    "**Oscar Santapá**  \n",
    "\n",
    "**H1**: La dieta del animal diferencia a su cantidad de horas de sueño.  \n",
    "**ML**: Regresión logística para lograr un clasificador de la dieta del animal dependiendo de las variables cuantitativas del dataset.  "
   ]
  },
  {
   "cell_type": "markdown",
   "metadata": {},
   "source": [
    "**Rodrigo Bogado**  \n",
    "\n",
    "**H1**: Los animales con un mayor tamaño corporal duermen más horas.   \n",
    "**ML**: Lograr un modelo que permita predecir la cantidad de horas de sueño REM dependiendo de la cantidad de sueño total, del peso del animal y del peso de su cerebro.  "
   ]
  },
  {
   "cell_type": "markdown",
   "metadata": {},
   "source": [
    "**Cesar Danerí**  \n",
    "\n",
    "**H1**: La cantidad de horas de sueño de un animal está relacionado con su estado de conservación.   \n",
    "**ML**: Lograr un modelo que permita predecir la cantidad de horas de sueño REM dependiendo de la cantidad de sueño total, del peso del animal y del peso de su cerebro.  "
   ]
  },
  {
   "cell_type": "markdown",
   "metadata": {},
   "source": [
    "**Rosa Amarilla**  \n",
    "\n",
    "**H1**: La cantidad de horas de sueño de un animal está relacionado con su dieta.  \n",
    "**ML**: Regresión logística para lograr un clasificador de la dieta del animal dependiendo de las variables cuantitativas del dataset."
   ]
  },
  {
   "cell_type": "markdown",
   "metadata": {},
   "source": [
    "**Ulises Mancini**  \n",
    "\n",
    "**H1**: Los animales con cerebros más grandes pasan más horas en sueño REM.   \n",
    "**ML**: Lograr un modelo que permita predecir la cantidad de horas de sueño REM dependiendo de la cantidad de sueño total, del peso del animal y del peso de su cerebro.  "
   ]
  },
  {
   "cell_type": "markdown",
   "metadata": {},
   "source": [
    "### Bonus [2 punto]:"
   ]
  },
  {
   "cell_type": "code",
   "execution_count": 5,
   "metadata": {
    "collapsed": false
   },
   "outputs": [
    {
     "data": {
      "text/html": [
       "<img src=\"data:image/png;base64,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\" />"
      ]
     },
     "execution_count": 5,
     "metadata": {},
     "output_type": "execute_result"
    }
   ],
   "source": [
    "using Plots, StatPlots\n",
    "\n",
    "subset = msleep[:,[:BodyWt, :BrainWt]]\n",
    "\n",
    "subset[isnan(subset[:BodyWt]), :BodyWt] = NA\n",
    "subset[isnan(subset[:BrainWt]), :BrainWt] = NA\n",
    "complete_cases!(subset)\n",
    "\n",
    "scatter(subset, :BodyWt, :BrainWt, scale=:log10, legend=:none)"
   ]
  },
  {
   "cell_type": "markdown",
   "metadata": {},
   "source": [
    "El [coeficiente de correlación lineal de Pearson](https://en.wikipedia.org/wiki/Pearson_product-moment_correlation_coefficient) entre el logaritmo del peso de un animal y el logaritmo del peso de su cerebro es (la relación entre las variables es lineal en escala logarítmica):"
   ]
  },
  {
   "cell_type": "code",
   "execution_count": 6,
   "metadata": {
    "collapsed": false
   },
   "outputs": [
    {
     "data": {
      "text/plain": [
       "0.9653246165758778"
      ]
     },
     "execution_count": 6,
     "metadata": {},
     "output_type": "execute_result"
    }
   ],
   "source": [
    "r = cor(log(subset[:BodyWt]), log(subset[:BrainWt]))"
   ]
  },
  {
   "cell_type": "markdown",
   "metadata": {},
   "source": [
    "Dado que la hipótesis nula es la ausencia de correlación (`r == 0.0`), y que [el siguiente estadístico sigue una distribución T de Student](https://en.wikipedia.org/wiki/Pearson_product-moment_correlation_coefficient#Testing_using_Student.27s_t-distribution) con `n-2` grados de libertdad (siendo `n` el número de puntos) bajo esa H0, **determinar el P value asociado a la H1: `r != 0.0`**\n",
    "  \n",
    "$$ t = r\\sqrt{\\frac{n-2}{1-r^{2}}} $$"
   ]
  }
 ],
 "metadata": {
  "kernelspec": {
   "display_name": "Julia 0.5.0",
   "language": "julia",
   "name": "julia-0.5"
  },
  "language_info": {
   "file_extension": ".jl",
   "mimetype": "application/julia",
   "name": "julia",
   "version": "0.5.0"
  }
 },
 "nbformat": 4,
 "nbformat_minor": 0
}
